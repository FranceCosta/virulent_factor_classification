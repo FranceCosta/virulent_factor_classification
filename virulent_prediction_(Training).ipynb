{
  "nbformat": 4,
  "nbformat_minor": 0,
  "metadata": {
    "colab": {
      "name": "virulent_prediction (Training).ipynb",
      "provenance": [],
      "collapsed_sections": []
    },
    "kernelspec": {
      "name": "python3",
      "display_name": "Python 3"
    },
    "language_info": {
      "name": "python"
    }
  },
  "cells": [
    {
      "cell_type": "markdown",
      "metadata": {
        "id": "DkxRT3si3tFm"
      },
      "source": [
        "# Virulent Prediction"
      ]
    },
    {
      "cell_type": "code",
      "metadata": {
        "colab": {
          "base_uri": "https://localhost:8080/",
          "height": 88
        },
        "id": "wvcO8NQIKKIB",
        "outputId": "02ef3202-c3ec-4b69-ac09-5819e4476a79"
      },
      "source": [
        "'''\n",
        "!rm -r iFeature\n",
        "!git clone https://github.com/Superzchen/iFeature\n",
        "!python iFeature/iFeature.py --file ./input.fasta --type AAC --out aac.out # amino acids composition\n",
        "!python iFeature/iFeature.py --file ./input.fasta --type DPC --out dpc.out # dipeptide composition\n",
        "!python iFeature/iFeature.py --file ./input.fasta --type CTDC --out ctdc.out # composition\n",
        "!python iFeature/iFeature.py --file ./input.fasta --type CTDT --out ctdt.out # transition\n",
        "!python iFeature/iFeature.py --file ./input.fasta --type CTDD --out ctdd.out # distribution\n",
        "'''"
      ],
      "execution_count": 1,
      "outputs": [
        {
          "output_type": "execute_result",
          "data": {
            "application/vnd.google.colaboratory.intrinsic+json": {
              "type": "string"
            },
            "text/plain": [
              "'\\n!rm -r iFeature\\n!git clone https://github.com/Superzchen/iFeature\\n!python iFeature/iFeature.py --file ./input.fasta --type AAC --out aac.out # amino acids composition\\n!python iFeature/iFeature.py --file ./input.fasta --type DPC --out dpc.out # dipeptide composition\\n!python iFeature/iFeature.py --file ./input.fasta --type CTDC --out ctdc.out # composition\\n!python iFeature/iFeature.py --file ./input.fasta --type CTDT --out ctdt.out # transition\\n!python iFeature/iFeature.py --file ./input.fasta --type CTDD --out ctdd.out # distribution\\n'"
            ]
          },
          "metadata": {},
          "execution_count": 1
        }
      ]
    },
    {
      "cell_type": "code",
      "metadata": {
        "colab": {
          "base_uri": "https://localhost:8080/"
        },
        "id": "Rn8Id-UL3u7v",
        "outputId": "fe9e9818-fe6c-47b5-c959-067bfde2cd1b"
      },
      "source": [
        "!rm -r virulent_factor_classification\n",
        "!git clone https://github.com/nicolagulmini/virulent_factor_classification\n",
        "from virulent_factor_classification.model import *"
      ],
      "execution_count": 2,
      "outputs": [
        {
          "output_type": "stream",
          "name": "stdout",
          "text": [
            "Cloning into 'virulent_factor_classification'...\n",
            "remote: Enumerating objects: 59, done.\u001b[K\n",
            "remote: Counting objects: 100% (59/59), done.\u001b[K\n",
            "remote: Compressing objects: 100% (52/52), done.\u001b[K\n",
            "remote: Total 59 (delta 18), reused 19 (delta 6), pack-reused 0\u001b[K\n",
            "Unpacking objects: 100% (59/59), done.\n"
          ]
        }
      ]
    },
    {
      "cell_type": "code",
      "metadata": {
        "colab": {
          "base_uri": "https://localhost:8080/"
        },
        "id": "V7B34oSI3qpz",
        "outputId": "940064b0-b6b8-4ea3-b174-36b4988a4e30"
      },
      "source": [
        "!pip install Bio\n",
        "from Bio import SeqIO\n",
        "import numpy as np\n",
        "import random\n",
        "import matplotlib.pyplot as plt"
      ],
      "execution_count": 3,
      "outputs": [
        {
          "output_type": "stream",
          "name": "stdout",
          "text": [
            "Requirement already satisfied: Bio in /usr/local/lib/python3.7/dist-packages (1.2.0)\n",
            "Requirement already satisfied: biopython>=1.79 in /usr/local/lib/python3.7/dist-packages (from Bio) (1.79)\n",
            "Requirement already satisfied: requests in /usr/local/lib/python3.7/dist-packages (from Bio) (2.23.0)\n",
            "Requirement already satisfied: tqdm>=4.62 in /usr/local/lib/python3.7/dist-packages (from Bio) (4.62.3)\n",
            "Requirement already satisfied: mygene in /usr/local/lib/python3.7/dist-packages (from Bio) (3.2.2)\n",
            "Requirement already satisfied: numpy in /usr/local/lib/python3.7/dist-packages (from biopython>=1.79->Bio) (1.19.5)\n",
            "Requirement already satisfied: biothings-client>=0.2.6 in /usr/local/lib/python3.7/dist-packages (from mygene->Bio) (0.2.6)\n",
            "Requirement already satisfied: urllib3!=1.25.0,!=1.25.1,<1.26,>=1.21.1 in /usr/local/lib/python3.7/dist-packages (from requests->Bio) (1.24.3)\n",
            "Requirement already satisfied: chardet<4,>=3.0.2 in /usr/local/lib/python3.7/dist-packages (from requests->Bio) (3.0.4)\n",
            "Requirement already satisfied: idna<3,>=2.5 in /usr/local/lib/python3.7/dist-packages (from requests->Bio) (2.10)\n",
            "Requirement already satisfied: certifi>=2017.4.17 in /usr/local/lib/python3.7/dist-packages (from requests->Bio) (2021.5.30)\n"
          ]
        }
      ]
    },
    {
      "cell_type": "code",
      "metadata": {
        "id": "Fr7Say_4LAvG"
      },
      "source": [
        "def from_files_to_vectors(fasta_path, positive=True):\n",
        "    if positive:\n",
        "        proteins = list(SeqIO.parse(fasta_path+'positive_virulent.fasta', \"fasta\"))\n",
        "    else:\n",
        "        proteins = list(SeqIO.parse(fasta_path+'negative_virulent.fasta', \"fasta\"))\n",
        "    extension = \".out\"\n",
        "    files = [\"aac\", \"dpc\", \"ctdc\", \"ctdt\", \"ctdd\"]\n",
        "    datasets = [[] for el in files]\n",
        "    for i in range(len(files)):\n",
        "        with open(fasta_path+files[i]+extension) as f:\n",
        "            lines = f.readlines()[1:]\n",
        "            check_prot = 0\n",
        "            for line in lines:\n",
        "                information = line.split('\\t')\n",
        "                if not information[0] == proteins[check_prot].id:\n",
        "                    print(\"Error in protein order! Return\")\n",
        "                    return datasets\n",
        "                datasets[i].append(np.array([float(el) for el in information[1:]]))\n",
        "                check_prot += 1\n",
        "        datasets[i] = np.array(datasets[i])\n",
        "    return datasets"
      ],
      "execution_count": 20,
      "outputs": []
    },
    {
      "cell_type": "code",
      "metadata": {
        "id": "n43FoHsb4Asw"
      },
      "source": [
        "positive_datasets = from_files_to_vectors('./virulent_factor_classification/training/positive/')\n",
        "negative_datasets = from_files_to_vectors('./virulent_factor_classification/training/negative/', positive=False)"
      ],
      "execution_count": 21,
      "outputs": []
    },
    {
      "cell_type": "code",
      "metadata": {
        "id": "l323qn-r3-ol"
      },
      "source": [
        "def from_vectors_to_train_and_test_with_labels(positive_datasets, negative_datasets):\n",
        "    if not (len(positive_datasets) == 5 and len(negative_datasets) == 5):\n",
        "        print(\"Error in datasets!\")\n",
        "        return\n",
        "\n",
        "    x_train_pos_len = int(len(positive_datasets[0])/2)\n",
        "    x_train_neg_len = int(len(negative_datasets[0])/2)\n",
        "    x_train_len = x_train_pos_len + x_train_neg_len\n",
        "\n",
        "    x_val_pos_len = int(len(positive_datasets[0])/4)\n",
        "    x_val_neg_len = int(len(negative_datasets[0])/4)\n",
        "    x_val_len = x_val_pos_len + x_val_neg_len\n",
        "\n",
        "    x_test_pos_len = len(positive_datasets[0])-x_train_pos_len-x_val_pos_len\n",
        "    x_test_neg_len = len(negative_datasets[0])-x_train_neg_len-x_val_neg_len\n",
        "    x_test_len = x_test_pos_len + x_test_neg_len\n",
        "    \n",
        "    positive_labels = [1. for _ in range(len(positive_datasets[0]))]\n",
        "    negative_labels = [0. for _ in range(len(negative_datasets[0]))]\n",
        "\n",
        "    x_train, y_train, x_val, y_val, x_test, y_test = [[] for _ in range(6)]\n",
        "    x_train = [positive_datasets[i][:x_train_pos_len].tolist()+negative_datasets[i][:x_train_neg_len].tolist() for i in range(5)]\n",
        "    y_train = [1. for _ in range(x_train_pos_len)]+[1. for _ in range(x_train_neg_len)]\n",
        "\n",
        "    x_val = [positive_datasets[i][x_train_pos_len:x_train_pos_len+x_val_pos_len].tolist()+negative_datasets[i][x_train_neg_len:x_train_neg_len+x_val_neg_len].tolist() for i in range(5)]\n",
        "    y_val = [1. for _ in range(x_val_pos_len)]+[1. for _ in range(x_val_neg_len)]\n",
        "\n",
        "    x_test = [positive_datasets[i][x_train_pos_len+x_val_pos_len:x_train_pos_len+x_val_pos_len+x_test_pos_len].tolist()+negative_datasets[i][x_train_neg_len+x_val_neg_len:x_train_neg_len+x_val_neg_len+x_test_neg_len].tolist() for i in range(5)]\n",
        "    y_test = [1. for _ in range(x_test_pos_len)]+[1. for _ in range(x_test_neg_len)]\n",
        "\n",
        "    for i in range(5):\n",
        "        for el in x_train[i]:\n",
        "            el = np.array(el)\n",
        "        x_train[i] = np.array(x_train[i])\n",
        "\n",
        "    for i in range(5):\n",
        "        for el in x_val[i]:\n",
        "            el = np.array(el)\n",
        "        x_val[i] = np.array(x_val[i])\n",
        "\n",
        "    for i in range(5):\n",
        "        for el in x_test[i]:\n",
        "            el = np.array(el)\n",
        "        x_test[i] = np.array(x_test[i])\n",
        "\n",
        "    return x_train, np.array(y_train), x_val, np.array(y_val), x_test, np.array(y_test)"
      ],
      "execution_count": 42,
      "outputs": []
    },
    {
      "cell_type": "code",
      "metadata": {
        "id": "wMeRSYud4T3J"
      },
      "source": [
        "x_train, y_train, x_val, y_val, x_test, y_test = from_vectors_to_train_and_test_with_labels(positive_datasets, negative_datasets)"
      ],
      "execution_count": 43,
      "outputs": []
    },
    {
      "cell_type": "markdown",
      "metadata": {
        "id": "1O9nFxFt9mjN"
      },
      "source": [
        "## Training"
      ]
    },
    {
      "cell_type": "code",
      "metadata": {
        "id": "oeQprOHvT3k6"
      },
      "source": [
        "model = virulent_factor_classification_model()\n",
        "epochs = 20"
      ],
      "execution_count": 67,
      "outputs": []
    },
    {
      "cell_type": "code",
      "metadata": {
        "id": "zM1TugQHUG0f"
      },
      "source": [
        "history = model.get_model().fit(\n",
        "    x=x_train,\n",
        "    y=y_train,\n",
        "    epochs=epochs, \n",
        "    verbose=0, \n",
        "    validation_data=(x_val, y_val),\n",
        "    shuffle=True    \n",
        "    )"
      ],
      "execution_count": 68,
      "outputs": []
    },
    {
      "cell_type": "code",
      "metadata": {
        "colab": {
          "base_uri": "https://localhost:8080/",
          "height": 279
        },
        "id": "thwVVfEXVABb",
        "outputId": "919424a3-198c-4c59-cb70-d545693c48bf"
      },
      "source": [
        "plt.plot(range(epochs), history.history['loss'], label='loss')\n",
        "plt.plot(range(epochs), history.history['val_loss'], label='validation loss')\n",
        "\n",
        "plt.legend(loc=\"lower left\")\n",
        "plt.xlabel(\"epochs\")\n",
        "plt.ylabel(\"loss\")\n",
        "plt.xlim(0, epochs+1)\n",
        "plt.show()"
      ],
      "execution_count": 69,
      "outputs": [
        {
          "output_type": "display_data",
          "data": {
            "image/png": "[encoded data removed]",
            "text/plain": [
              "<Figure size 432x288 with 1 Axes>"
            ]
          },
          "metadata": {
            "needs_background": "light"
          }
        }
      ]
    },
    {
      "cell_type": "code",
      "metadata": {
        "colab": {
          "base_uri": "https://localhost:8080/"
        },
        "id": "HRHL9tB7VDib",
        "outputId": "8363fa6c-1417-4ae9-c22d-a78a52e53b1d"
      },
      "source": [
        "print(\"Test accuracy: \" + str(model.get_model().evaluate(\n",
        "    x=x_test,\n",
        "    y=y_test   \n",
        "    )[1]))"
      ],
      "execution_count": 70,
      "outputs": [
        {
          "output_type": "stream",
          "name": "stdout",
          "text": [
            "174/174 [==============================] - 0s 2ms/step - loss: 7.6594e-04 - accuracy: 1.0000\n",
            "Test accuracy: 1.0\n"
          ]
        }
      ]
    },
    {
      "cell_type": "code",
      "metadata": {
        "id": "1XEjvfBWZ0sJ"
      },
      "source": [
        ""
      ],
      "execution_count": null,
      "outputs": []
    }
  ]
}