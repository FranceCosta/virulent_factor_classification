{
  "nbformat": 4,
  "nbformat_minor": 0,
  "metadata": {
    "colab": {
      "name": "virulent_prediction (Test).ipynb",
      "provenance": [],
      "collapsed_sections": []
    },
    "kernelspec": {
      "name": "python3",
      "display_name": "Python 3"
    },
    "language_info": {
      "name": "python"
    }
  },
  "cells": [
    {
      "cell_type": "code",
      "metadata": {
        "colab": {
          "base_uri": "https://localhost:8080/",
          "height": 88
        },
        "id": "y5UysO4HUVyJ",
        "outputId": "06da9df3-2fb5-4b96-b891-797b6f108661"
      },
      "source": [
        "'''\n",
        "!rm -r iFeature\n",
        "!git clone https://github.com/Superzchen/iFeature\n",
        "!python iFeature/iFeature.py --file ./input.fasta --type AAC --out aac.out # amino acids composition\n",
        "!python iFeature/iFeature.py --file ./input.fasta --type DPC --out dpc.out # dipeptide composition\n",
        "!python iFeature/iFeature.py --file ./input.fasta --type CTDC --out ctdc.out # composition\n",
        "!python iFeature/iFeature.py --file ./input.fasta --type CTDT --out ctdt.out # transition\n",
        "!python iFeature/iFeature.py --file ./input.fasta --type CTDD --out ctdd.out # distribution\n",
        "'''"
      ],
      "execution_count": 26,
      "outputs": [
        {
          "output_type": "execute_result",
          "data": {
            "application/vnd.google.colaboratory.intrinsic+json": {
              "type": "string"
            },
            "text/plain": [
              "'\\n!rm -r iFeature\\n!git clone https://github.com/Superzchen/iFeature\\n!python iFeature/iFeature.py --file ./input.fasta --type AAC --out aac.out # amino acids composition\\n!python iFeature/iFeature.py --file ./input.fasta --type DPC --out dpc.out # dipeptide composition\\n!python iFeature/iFeature.py --file ./input.fasta --type CTDC --out ctdc.out # composition\\n!python iFeature/iFeature.py --file ./input.fasta --type CTDT --out ctdt.out # transition\\n!python iFeature/iFeature.py --file ./input.fasta --type CTDD --out ctdd.out # distribution\\n'"
            ]
          },
          "metadata": {},
          "execution_count": 26
        }
      ]
    },
    {
      "cell_type": "code",
      "metadata": {
        "colab": {
          "base_uri": "https://localhost:8080/"
        },
        "id": "xjwTLgd1V0e4",
        "outputId": "50a5040a-4959-4d15-941b-54685897d4e7"
      },
      "source": [
        "!rm -r virulent_factor_classification\n",
        "!git clone https://github.com/nicolagulmini/virulent_factor_classification\n",
        "from virulent_factor_classification.model import *\n",
        "!pip install Bio\n",
        "from Bio import SeqIO\n",
        "import random\n",
        "import matplotlib.pyplot as plt\n",
        "import tensorflow.keras\n",
        "import numpy as np"
      ],
      "execution_count": 27,
      "outputs": [
        {
          "output_type": "stream",
          "name": "stdout",
          "text": [
            "Cloning into 'virulent_factor_classification'...\n",
            "remote: Enumerating objects: 79, done.\u001b[K\n",
            "remote: Counting objects: 100% (79/79), done.\u001b[K\n",
            "remote: Compressing objects: 100% (68/68), done.\u001b[K\n",
            "remote: Total 79 (delta 23), reused 36 (delta 10), pack-reused 0\u001b[K\n",
            "Unpacking objects: 100% (79/79), done.\n",
            "Requirement already satisfied: Bio in /usr/local/lib/python3.7/dist-packages (1.2.6)\n",
            "Requirement already satisfied: tqdm in /usr/local/lib/python3.7/dist-packages (from Bio) (4.62.3)\n",
            "Requirement already satisfied: mygene in /usr/local/lib/python3.7/dist-packages (from Bio) (3.2.2)\n",
            "Requirement already satisfied: biopython>=1.79 in /usr/local/lib/python3.7/dist-packages (from Bio) (1.79)\n",
            "Requirement already satisfied: requests in /usr/local/lib/python3.7/dist-packages (from Bio) (2.23.0)\n",
            "Requirement already satisfied: numpy in /usr/local/lib/python3.7/dist-packages (from biopython>=1.79->Bio) (1.19.5)\n",
            "Requirement already satisfied: biothings-client>=0.2.6 in /usr/local/lib/python3.7/dist-packages (from mygene->Bio) (0.2.6)\n",
            "Requirement already satisfied: chardet<4,>=3.0.2 in /usr/local/lib/python3.7/dist-packages (from requests->Bio) (3.0.4)\n",
            "Requirement already satisfied: urllib3!=1.25.0,!=1.25.1,<1.26,>=1.21.1 in /usr/local/lib/python3.7/dist-packages (from requests->Bio) (1.24.3)\n",
            "Requirement already satisfied: idna<3,>=2.5 in /usr/local/lib/python3.7/dist-packages (from requests->Bio) (2.10)\n",
            "Requirement already satisfied: certifi>=2017.4.17 in /usr/local/lib/python3.7/dist-packages (from requests->Bio) (2021.5.30)\n"
          ]
        }
      ]
    },
    {
      "cell_type": "code",
      "metadata": {
        "id": "qkwwzLoCXgw8"
      },
      "source": [
        "proteins = list(SeqIO.parse('./input.fasta', \"fasta\"))\n",
        "extension = \".out\"\n",
        "files = [\"aac\", \"dpc\", \"ctdc\", \"ctdt\", \"ctdd\"]\n",
        "datasets = [[] for el in files]\n",
        "for i in range(len(files)):\n",
        "    with open('./'+files[i]+extension) as f:\n",
        "        lines = f.readlines()[1:]\n",
        "        check_prot = 0\n",
        "        for line in lines:\n",
        "            information = line.split('\\t')\n",
        "            if not information[0] == proteins[check_prot].id:\n",
        "                print(\"Error in protein order! Return\")\n",
        "            datasets[i].append(np.array([float(el) for el in information[1:]]))\n",
        "            check_prot += 1\n",
        "    datasets[i] = np.array(datasets[i])\n",
        "\n",
        "labels = np.array([0. for _ in range(len(datasets[0]))])"
      ],
      "execution_count": 29,
      "outputs": []
    },
    {
      "cell_type": "code",
      "metadata": {
        "id": "j2NFUGwrbWsm"
      },
      "source": [
        "model = tensorflow.keras.models.load_model('./virulent_factor_classification/trained_model.h5')"
      ],
      "execution_count": 30,
      "outputs": []
    },
    {
      "cell_type": "code",
      "metadata": {
        "id": "lTleTfrgIjA4"
      },
      "source": [
        "for i in range(len(datasets)):\n",
        "    for j in range(len(datasets[i])):\n",
        "        datasets[i][j] = np.array(datasets[i][j])\n",
        "    datasets[i] = np.array(datasets[i])"
      ],
      "execution_count": 31,
      "outputs": []
    },
    {
      "cell_type": "code",
      "metadata": {
        "colab": {
          "base_uri": "https://localhost:8080/"
        },
        "id": "dXClkeFGbjXW",
        "outputId": "09d92957-8134-4df6-ef31-188075ccf174"
      },
      "source": [
        "model.evaluate(datasets, labels)"
      ],
      "execution_count": 33,
      "outputs": [
        {
          "output_type": "stream",
          "name": "stdout",
          "text": [
            "817/817 [==============================] - 2s 2ms/step - loss: 0.3848 - accuracy: 0.8414\n"
          ]
        },
        {
          "output_type": "execute_result",
          "data": {
            "text/plain": [
              "[0.3847794234752655, 0.8414199948310852]"
            ]
          },
          "metadata": {},
          "execution_count": 33
        }
      ]
    }
  ]
}