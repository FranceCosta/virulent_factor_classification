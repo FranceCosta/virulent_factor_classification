{
  "nbformat": 4,
  "nbformat_minor": 0,
  "metadata": {
    "colab": {
      "provenance": [],
      "collapsed_sections": [
        "5_qRAUKplhNa",
        "57LZ_fI59-Tk"
      ]
    },
    "kernelspec": {
      "name": "python3",
      "display_name": "Python 3"
    },
    "language_info": {
      "name": "python"
    }
  },
  "cells": [
    {
      "cell_type": "code",
      "execution_count": 1,
      "metadata": {
        "id": "ezfZzH9lnDl3"
      },
      "outputs": [],
      "source": [
        "%%capture\n",
        "!pip install Biopython\n",
        "!rm -r iFeature\n",
        "!git clone https://github.com/Superzchen/iFeature\n",
        "!git clone https://github.com/nicolagulmini/virulent_factor_classification.git\n",
        "!pip install visualkeras\n",
        "\n",
        "import numpy\n",
        "import tensorflow\n",
        "from tensorflow import keras\n",
        "import matplotlib.pyplot as plt\n",
        "from Bio import SeqIO\n",
        "\n",
        "numpy.random.seed(42)"
      ]
    },
    {
      "cell_type": "markdown",
      "source": [
        "### Following [this](https://doi.org/10.1093/bib/bbv082) on dataset preparation a treshold of 60% identity have been chosen for a clustering with [CD-hit](http://weizhong-lab.ucsd.edu/cdhit-web-server/cgi-bin/index.cgi?cmd=cd-hit) "
      ],
      "metadata": {
        "id": "5_qRAUKplhNa"
      }
    },
    {
      "cell_type": "code",
      "source": [
        "'''\n",
        "# parse CD-Hit data\n",
        "infile = open('virulent_factor_classification/new_datasets_cleaned/pos_fasta_60', 'r').readlines()\n",
        "pos_ids = []\n",
        "for element in str(infile).split('>'):\n",
        "    for seq in element.split('\\n'):\n",
        "        if '*' in seq:\n",
        "            pos_ids.append(seq.split('|')[0][:-3])\n",
        "infile = open('virulent_factor_classification/new_datasets_cleaned/neg_fasta_60', 'r').readlines()\n",
        "neg_ids = []\n",
        "for element in str(infile).split('>'):\n",
        "    for seq in element.split('\\n'):\n",
        "        if '*' in seq:\n",
        "            neg_ids.append(seq.split('|')[1])\n",
        "\n",
        "print(len(neg_ids))\n",
        "print(len(pos_ids))\n",
        "\n",
        "limit = min(len(neg_ids), len(pos_ids))\n",
        "\n",
        "# clean sequence data\n",
        "pos_seqs = list(SeqIO.parse('./virulent_factor_classification/new_datasets/positive/pos.fasta', 'fasta'))\n",
        "cleaned_pos_seqs = [entry for entry in pos_seqs if str(entry.id.split('(')[0]) in str(pos_ids)]\n",
        "\n",
        "neg_seqs = list(SeqIO.parse('./virulent_factor_classification/new_datasets/negative/neg.fasta', 'fasta'))\n",
        "cleaned_neg_seqs = [entry for entry in neg_seqs if str(entry.id.split('|')[1]) in str(neg_ids)]\n",
        "\n",
        "# match lengths\n",
        "cleaned_pos_seqs = cleaned_pos_seqs[:limit] \n",
        "cleaned_neg_seqs = cleaned_neg_seqs[:limit]\n",
        "print('len of pos dataset:', len(cleaned_pos_seqs))\n",
        "print('len of neg dataset:', len(cleaned_neg_seqs))\n",
        "\n",
        "# rewrite fasta files\n",
        "def writer(fasta_list, outfile_name):\n",
        "    outfile = open(outfile_name, 'w')\n",
        "    for entry in fasta_list:\n",
        "        outfile.write('>'+str(entry.id)+'\\n')\n",
        "        outfile.write(str(entry.seq)+'\\n')\n",
        "\n",
        "writer(cleaned_pos_seqs, 'cleaned_pos.fasta')\n",
        "writer(cleaned_neg_seqs, 'cleaned_neg.fasta')\n",
        "'''\n",
        "# already done"
      ],
      "metadata": {
        "id": "ICidQQboZ-Du",
        "colab": {
          "base_uri": "https://localhost:8080/",
          "height": 0
        },
        "outputId": "fecf22ec-6cbe-4286-9ca7-6c45615662d8"
      },
      "execution_count": 2,
      "outputs": [
        {
          "output_type": "execute_result",
          "data": {
            "text/plain": [
              "\"\\n# parse CD-Hit data\\ninfile = open('virulent_factor_classification/new_datasets_cleaned/pos_fasta_60', 'r').readlines()\\npos_ids = []\\nfor element in str(infile).split('>'):\\n    for seq in element.split('\\n'):\\n        if '*' in seq:\\n            pos_ids.append(seq.split('|')[0][:-3])\\ninfile = open('virulent_factor_classification/new_datasets_cleaned/neg_fasta_60', 'r').readlines()\\nneg_ids = []\\nfor element in str(infile).split('>'):\\n    for seq in element.split('\\n'):\\n        if '*' in seq:\\n            neg_ids.append(seq.split('|')[1])\\n\\nprint(len(neg_ids))\\nprint(len(pos_ids))\\n\\nlimit = min(len(neg_ids), len(pos_ids))\\n\\n# clean sequence data\\npos_seqs = list(SeqIO.parse('./virulent_factor_classification/new_datasets/positive/pos.fasta', 'fasta'))\\ncleaned_pos_seqs = [entry for entry in pos_seqs if str(entry.id.split('(')[0]) in str(pos_ids)]\\n\\nneg_seqs = list(SeqIO.parse('./virulent_factor_classification/new_datasets/negative/neg.fasta', 'fasta'))\\ncleaned_neg_seqs = [entry for entry in neg_seqs if str(entry.id.split('|')[1]) in str(neg_ids)]\\n\\n# match lengths\\ncleaned_pos_seqs = cleaned_pos_seqs[:limit] \\ncleaned_neg_seqs = cleaned_neg_seqs[:limit]\\nprint('len of pos dataset:', len(cleaned_pos_seqs))\\nprint('len of neg dataset:', len(cleaned_neg_seqs))\\n\\n# rewrite fasta files\\ndef writer(fasta_list, outfile_name):\\n    outfile = open(outfile_name, 'w')\\n    for entry in fasta_list:\\n        outfile.write('>'+str(entry.id)+'\\n')\\n        outfile.write(str(entry.seq)+'\\n')\\n\\nwriter(cleaned_pos_seqs, 'cleaned_pos.fasta')\\nwriter(cleaned_neg_seqs, 'cleaned_neg.fasta')\\n\""
            ],
            "application/vnd.google.colaboratory.intrinsic+json": {
              "type": "string"
            }
          },
          "metadata": {},
          "execution_count": 2
        }
      ]
    },
    {
      "cell_type": "markdown",
      "source": [
        "Now, remove antigens from datasets in order to overcome NERVE overfitting"
      ],
      "metadata": {
        "id": "IOUs84rp-GwW"
      }
    },
    {
      "cell_type": "code",
      "source": [
        "# Remove proteins with over 60% "
      ],
      "metadata": {
        "id": "lzqfmP8o9_NB"
      },
      "execution_count": 3,
      "outputs": []
    },
    {
      "cell_type": "markdown",
      "source": [
        "# Pipeline"
      ],
      "metadata": {
        "id": "afQpOFWT-B2C"
      }
    },
    {
      "cell_type": "code",
      "source": [
        "'''\n",
        "!python iFeature/iFeature.py --file ./virulent_factor_classification/data/25_similarity/pos_25.fasta --type AAC --out aac_cleaned_pos.out    # amino acids composition\n",
        "!python iFeature/iFeature.py --file ./virulent_factor_classification/data/25_similarity/pos_25.fasta --type DPC --out dpc_cleaned_pos.out    # dipeptide composition\n",
        "!python iFeature/iFeature.py --file ./virulent_factor_classification/data/25_similarity/pos_25.fasta --type CTDC --out ctdc_cleaned_pos.out  # composition\n",
        "!python iFeature/iFeature.py --file ./virulent_factor_classification/data/25_similarity/pos_25.fasta --type CTDT --out ctdt_cleaned_pos.out  # transition\n",
        "!python iFeature/iFeature.py --file ./virulent_factor_classification/data/25_similarity/pos_25.fasta --type CTDD --out ctdd_cleaned_pos.out  # distribution\n",
        "\n",
        "print(\"pos: DONE!\")\n",
        "\n",
        "!python iFeature/iFeature.py --file ./virulent_factor_classification/data/25_similarity/neg_25.fasta --type AAC --out aac_cleaned_neg.out    # amino acids composition\n",
        "!python iFeature/iFeature.py --file ./virulent_factor_classification/data/25_similarity/neg_25.fasta --type DPC --out dpc_cleaned_neg.out    # dipeptide composition\n",
        "!python iFeature/iFeature.py --file ./virulent_factor_classification/data/25_similarity/neg_25.fasta --type CTDC --out ctdc_cleaned_neg.out  # composition\n",
        "!python iFeature/iFeature.py --file ./virulent_factor_classification/data/25_similarity/neg_25.fasta --type CTDT --out ctdt_cleaned_neg.out  # transition\n",
        "!python iFeature/iFeature.py --file ./virulent_factor_classification/data/25_similarity/neg_25.fasta --type CTDD --out ctdd_cleaned_neg.out  # distribution\n",
        "\n",
        "print(\"neg: DONE!\")\n",
        "'''\n",
        "# already done"
      ],
      "metadata": {
        "id": "os-KrM89Cf6S",
        "colab": {
          "base_uri": "https://localhost:8080/",
          "height": 178
        },
        "outputId": "7806f9de-565f-4048-d168-eb91c2157f89"
      },
      "execution_count": 4,
      "outputs": [
        {
          "output_type": "execute_result",
          "data": {
            "text/plain": [
              "'\\n!python iFeature/iFeature.py --file ./virulent_factor_classification/data/25_similarity/pos_25.fasta --type AAC --out aac_cleaned_pos.out    # amino acids composition\\n!python iFeature/iFeature.py --file ./virulent_factor_classification/data/25_similarity/pos_25.fasta --type DPC --out dpc_cleaned_pos.out    # dipeptide composition\\n!python iFeature/iFeature.py --file ./virulent_factor_classification/data/25_similarity/pos_25.fasta --type CTDC --out ctdc_cleaned_pos.out  # composition\\n!python iFeature/iFeature.py --file ./virulent_factor_classification/data/25_similarity/pos_25.fasta --type CTDT --out ctdt_cleaned_pos.out  # transition\\n!python iFeature/iFeature.py --file ./virulent_factor_classification/data/25_similarity/pos_25.fasta --type CTDD --out ctdd_cleaned_pos.out  # distribution\\n\\nprint(\"pos: DONE!\")\\n\\n!python iFeature/iFeature.py --file ./virulent_factor_classification/data/25_similarity/neg_25.fasta --type AAC --out aac_cleaned_neg.out    # amino acids composition\\n!python iFeature/iFeature.py --file ./virulent_factor_classification/data/25_similarity/neg_25.fasta --type DPC --out dpc_cleaned_neg.out    # dipeptide composition\\n!python iFeature/iFeature.py --file ./virulent_factor_classification/data/25_similarity/neg_25.fasta --type CTDC --out ctdc_cleaned_neg.out  # composition\\n!python iFeature/iFeature.py --file ./virulent_factor_classification/data/25_similarity/neg_25.fasta --type CTDT --out ctdt_cleaned_neg.out  # transition\\n!python iFeature/iFeature.py --file ./virulent_factor_classification/data/25_similarity/neg_25.fasta --type CTDD --out ctdd_cleaned_neg.out  # distribution\\n\\nprint(\"neg: DONE!\")\\n'"
            ],
            "application/vnd.google.colaboratory.intrinsic+json": {
              "type": "string"
            }
          },
          "metadata": {},
          "execution_count": 4
        }
      ]
    },
    {
      "cell_type": "code",
      "source": [
        "def from_files_to_vectors(fasta_path, positive=True):\n",
        "    if positive:\n",
        "        proteins = list(SeqIO.parse(fasta_path+'pos_25.fasta', \"fasta\"))\n",
        "    else:\n",
        "        proteins = list(SeqIO.parse(fasta_path+'neg_25.fasta', \"fasta\"))\n",
        "    extension = \".out\"\n",
        "    files = [\"aac\", \"dpc\", \"ctdc\", \"ctdt\", \"ctdd\"]\n",
        "    if positive:\n",
        "        names = \"_cleaned_pos\"\n",
        "    else:\n",
        "        names = \"_cleaned_neg\"\n",
        "    for i in range(len(files)):\n",
        "        files[i] += names\n",
        "    datasets = [[] for el in files]\n",
        "    for i in range(len(files)):\n",
        "        with open(fasta_path+files[i]+extension) as f:\n",
        "            lines = f.readlines()[1:]\n",
        "            check_prot = 0\n",
        "            for line in lines:\n",
        "                information = line.split('\\t')\n",
        "                if not information[0] == proteins[check_prot].id:\n",
        "                    print(\"Error in protein order! Return\")\n",
        "                    return datasets\n",
        "                datasets[i].append(numpy.array([float(el) for el in information[1:]]))\n",
        "                check_prot += 1\n",
        "        datasets[i] = numpy.array(datasets[i])\n",
        "    return datasets"
      ],
      "metadata": {
        "id": "IXLoKnrvsMK-"
      },
      "execution_count": 5,
      "outputs": []
    },
    {
      "cell_type": "code",
      "source": [
        "pos_datasets = from_files_to_vectors(\"./virulent_factor_classification/data/25_similarity/pos/\", positive=True)\n",
        "neg_datasets = from_files_to_vectors(\"./virulent_factor_classification/data/25_similarity/neg/\", positive=False)\n",
        "\n",
        "y_pos = numpy.ones(pos_datasets[0].shape[0])\n",
        "y_neg = numpy.zeros(neg_datasets[0].shape[0])"
      ],
      "metadata": {
        "id": "qwYSUH_r2Pw6"
      },
      "execution_count": 6,
      "outputs": []
    },
    {
      "cell_type": "code",
      "source": [
        "# attach datasets in order to obtain a matrix of (n, 20+400+39+39+195) features\n",
        "\n",
        "# keep in mind the number of virulent factors and the number of not virulent factors\n",
        "rows = 0\n",
        "n_pos = y_pos.shape[0]\n",
        "n_neg = y_neg.shape[0]\n",
        "rows = n_pos + n_neg\n",
        "print('Virulent:', n_pos)\n",
        "print('NON Virulent:', n_neg)\n",
        "\n",
        "# feature vectors dimensions\n",
        "columns = 0\n",
        "for i in range(len(pos_datasets)):\n",
        "    tmp_dim = pos_datasets[i].shape[1]\n",
        "    print(i+1, '-th feature dim:', tmp_dim)\n",
        "    columns += tmp_dim\n",
        "\n",
        "# data matrix to process\n",
        "X = numpy.zeros((rows, columns))\n",
        "print('Data matrix dimension:', X.shape)\n",
        "for i in range(n_pos):\n",
        "    X[i] = numpy.concatenate([pos_datasets[j][i] for j in range(5)])\n",
        "for i in range(n_neg):\n",
        "    X[n_pos+i] = numpy.concatenate([neg_datasets[j][i] for j in range(5)])"
      ],
      "metadata": {
        "colab": {
          "base_uri": "https://localhost:8080/"
        },
        "id": "n6ugvKCJ_SQU",
        "outputId": "69aa8c5a-af07-44c5-ea0a-96069b80cfb7"
      },
      "execution_count": 7,
      "outputs": [
        {
          "output_type": "stream",
          "name": "stdout",
          "text": [
            "Virulent: 2163\n",
            "NON Virulent: 1833\n",
            "1 -th feature dim: 20\n",
            "2 -th feature dim: 400\n",
            "3 -th feature dim: 39\n",
            "4 -th feature dim: 39\n",
            "5 -th feature dim: 195\n",
            "Data matrix dimension: (3996, 693)\n"
          ]
        }
      ]
    },
    {
      "cell_type": "code",
      "source": [
        "# permutation\n",
        "y = numpy.concatenate((y_pos, y_neg), axis=0)\n",
        "c = numpy.random.permutation(numpy.arange(y.shape[0]))\n",
        "y = y[c]\n",
        "X = X[c] "
      ],
      "metadata": {
        "id": "QxfYFLoS_hai"
      },
      "execution_count": 8,
      "outputs": []
    },
    {
      "cell_type": "code",
      "source": [
        "# remember: standardization or scaling AFTER train-test split, otherwise there's data leakage!!!\n",
        "X_train = X[:int(X.shape[0]*.5)]\n",
        "X_val = X[int(X.shape[0]*.5):int(X.shape[0]*.75)]\n",
        "X_test = X[int(X.shape[0]*.75):]\n",
        "\n",
        "y_train = y[:int(y.shape[0]*.5)]\n",
        "y_val = y[int(y.shape[0]*.5):int(y.shape[0]*.75)]\n",
        "y_test = y[int(y.shape[0]*.75):]\n",
        "\n",
        "print('Training data shape:', X_train.shape, y_train.shape)\n",
        "print('Validation data shape:', X_val.shape, y_val.shape)\n",
        "print('Test data shape:', X_test.shape, y_test.shape)\n",
        "\n",
        "print('\\nTraining virulent factors and not-virulent factors:', int(sum(y_train)), int(y_train.shape[0]-sum(y_train)))\n",
        "print('Validation virulent factors and not-virulent factors:', int(sum(y_val)), int(y_val.shape[0]-sum(y_val)))\n",
        "print('Test virulent factors and not-virulent factors:', int(sum(y_test)), int(y_test.shape[0]-sum(y_test)))"
      ],
      "metadata": {
        "colab": {
          "base_uri": "https://localhost:8080/"
        },
        "id": "ZzpCOTgl_o9A",
        "outputId": "538f9805-1ed4-4bc4-fcc4-be1ad9b9b154"
      },
      "execution_count": 9,
      "outputs": [
        {
          "output_type": "stream",
          "name": "stdout",
          "text": [
            "Training data shape: (1998, 693) (1998,)\n",
            "Validation data shape: (999, 693) (999,)\n",
            "Test data shape: (999, 693) (999,)\n",
            "\n",
            "Training virulent factors and not-virulent factors: 1090 908\n",
            "Validation virulent factors and not-virulent factors: 544 455\n",
            "Test virulent factors and not-virulent factors: 529 470\n"
          ]
        }
      ]
    },
    {
      "cell_type": "code",
      "source": [
        "# PCA\n",
        "\n",
        "stdX = numpy.zeros(X_train.shape)\n",
        "stdX_val = numpy.zeros(X_val.shape)\n",
        "stdX_test = numpy.zeros(X_test.shape)\n",
        "\n",
        "means = numpy.zeros(X_train.shape[1])\n",
        "std_devs = numpy.zeros(X_train.shape[1])\n",
        "\n",
        "for j in range(X_train.shape[1]):\n",
        "    column = X_train[:,j]\n",
        "    means[j] = numpy.mean(column)\n",
        "    std_devs[j] = numpy.std(column)\n",
        "    stdX[:,j] = (column - means[j]) / std_devs[j]\n",
        "    stdX_val[:,j] = (X_val[:,j] - means[j]) / std_devs[j]\n",
        "    stdX_test[:,j] = (X_test[:,j] - means[j]) / std_devs[j]\n",
        "\n",
        "numpy.save('means', means)\n",
        "numpy.save('std_devs', std_devs)\n",
        "\n",
        "covariance_matrix = numpy.cov(stdX.T)\n",
        "\n",
        "eigen_values, eigen_vectors = numpy.linalg.eig(covariance_matrix)\n",
        "eigen_values = numpy.real(eigen_values)\n",
        "eigen_vectors = numpy.real(eigen_vectors)\n",
        "\n",
        "variance_explained = []\n",
        "for i in eigen_values:\n",
        "    variance_explained.append((i/sum(eigen_values))*100)\n",
        "\n",
        "cumulative_variance_explained = numpy.cumsum(variance_explained)"
      ],
      "metadata": {
        "id": "EWhx9WSsAB-1"
      },
      "execution_count": 10,
      "outputs": []
    },
    {
      "cell_type": "code",
      "source": [
        "plt.title(\"Explained variance vs Number of components\")\n",
        "\n",
        "plt.xlabel(\"Number of components\")\n",
        "plt.ylabel(\"Cumulative explained variance\")\n",
        "plt.grid(color='gray', linewidth=.4)\n",
        "\n",
        "plt.plot(range(len(cumulative_variance_explained)), cumulative_variance_explained)\n",
        "\n",
        "plt.show()\n",
        "#plt.savefig('Explained variance.png')"
      ],
      "metadata": {
        "colab": {
          "base_uri": "https://localhost:8080/",
          "height": 295
        },
        "id": "3H21ZME1BWz7",
        "outputId": "bc36f7aa-3347-4586-9a36-7c39b5287d34"
      },
      "execution_count": 11,
      "outputs": [
        {
          "output_type": "display_data",
          "data": {
            "text/plain": [
              "<Figure size 432x288 with 1 Axes>"
            ],
            "image/png": "[encoded data removed]"
          },
          "metadata": {
            "needs_background": "light"
          }
        }
      ]
    },
    {
      "cell_type": "code",
      "source": [
        "K = 400 # more or less like adhesin\n",
        "print('Principal components:', K)\n",
        "print('Discarded components:', columns-K)"
      ],
      "metadata": {
        "colab": {
          "base_uri": "https://localhost:8080/"
        },
        "id": "HNRicsM0BZ82",
        "outputId": "2597cd27-45c5-49f8-be42-741a081d08be"
      },
      "execution_count": 12,
      "outputs": [
        {
          "output_type": "stream",
          "name": "stdout",
          "text": [
            "Principal components: 400\n",
            "Discarded components: 293\n"
          ]
        }
      ]
    },
    {
      "cell_type": "code",
      "source": [
        "plt.title(\"Explained variance vs first \" + str(K) + \" components\")\n",
        "\n",
        "plt.xlabel(\"Number of components\")\n",
        "plt.ylabel(\"Cumulative explained variance\")\n",
        "plt.grid(color='gray', linewidth=.4)\n",
        "\n",
        "plt.plot(range(K), cumulative_variance_explained[:K])\n",
        "\n",
        "plt.show()\n",
        "#plt.savefig('Explained variance.png')"
      ],
      "metadata": {
        "colab": {
          "base_uri": "https://localhost:8080/",
          "height": 295
        },
        "id": "z3HVUUpRBdHb",
        "outputId": "1f021dd9-1b76-4807-fa6b-4ef9ee9e766d"
      },
      "execution_count": 13,
      "outputs": [
        {
          "output_type": "display_data",
          "data": {
            "text/plain": [
              "<Figure size 432x288 with 1 Axes>"
            ],
            "image/png": "[encoded data removed]"
          },
          "metadata": {
            "needs_background": "light"
          }
        }
      ]
    },
    {
      "cell_type": "code",
      "source": [
        "# Project using first K components\n",
        "\n",
        "projection_matrix = numpy.real((eigen_vectors.T[:][:K]).T)\n",
        "print(projection_matrix.shape)\n",
        "\n",
        "numpy.save('projection_matrix', projection_matrix)"
      ],
      "metadata": {
        "colab": {
          "base_uri": "https://localhost:8080/"
        },
        "id": "HtOHXpbNBi30",
        "outputId": "12028f20-cf40-4993-c608-f7dcb03f5551"
      },
      "execution_count": 14,
      "outputs": [
        {
          "output_type": "stream",
          "name": "stdout",
          "text": [
            "(693, 400)\n"
          ]
        }
      ]
    },
    {
      "cell_type": "code",
      "source": [
        "# project matrices\n",
        "X_train = stdX.dot(projection_matrix)\n",
        "X_val = stdX_val.dot(projection_matrix)\n",
        "X_test = stdX_test.dot(projection_matrix)"
      ],
      "metadata": {
        "id": "NNtLkAdwBlSA"
      },
      "execution_count": 15,
      "outputs": []
    },
    {
      "cell_type": "code",
      "source": [
        "from tensorflow.keras import regularizers\n",
        "\n",
        "class neural_network:\n",
        "    def __init__(self):\n",
        "        input = tensorflow.keras.Input(shape=(K,))\n",
        "\n",
        "        dense = tensorflow.keras.layers.Dense(units=10, activation='sigmoid')(input) # it shows that a linear activation is sufficiet to get the same accuracy of the sigmoid (so it's like a matrix multiplication with a non-linearity at the end...)\n",
        "        #batch = tensorflow.keras.layers.BatchNormalization()(dense)\n",
        "        #activation = tensorflow.keras.activations.sigmoid(batch)\n",
        "        #drop = tensorflow.keras.layers.Dropout(.1)(activation)\n",
        "\n",
        "        output = tensorflow.keras.layers.Dense(1, activation='sigmoid')(dense)\n",
        "\n",
        "        model = tensorflow.keras.models.Model(inputs=input, outputs=output)\n",
        "        model.compile(optimizer=tensorflow.keras.optimizers.Adam(learning_rate=0.0001), loss='binary_crossentropy', metrics='accuracy')\n",
        "        self.model = model"
      ],
      "metadata": {
        "id": "WRA6m63cBsnQ"
      },
      "execution_count": 16,
      "outputs": []
    },
    {
      "cell_type": "code",
      "source": [
        "nn = neural_network()"
      ],
      "metadata": {
        "id": "GyOV0zbtBu6a"
      },
      "execution_count": 17,
      "outputs": []
    },
    {
      "cell_type": "code",
      "source": [
        "history = nn.model.fit(\n",
        "    x=X_train, \n",
        "    y=y_train,\n",
        "    batch_size=64,\n",
        "    epochs=1000,\n",
        "    verbose=0,\n",
        "    validation_data=(X_val, y_val),\n",
        "    shuffle=True,\n",
        "    callbacks=[tensorflow.keras.callbacks.EarlyStopping(\n",
        "    restore_best_weights=True,\n",
        "    patience=20\n",
        "        )]\n",
        ")"
      ],
      "metadata": {
        "id": "z8HiUAOvBwuw"
      },
      "execution_count": 18,
      "outputs": []
    },
    {
      "cell_type": "code",
      "source": [
        "plt.title('Accuracy during training')\n",
        "plt.plot(range(len(history.history['loss'])), history.history['accuracy'], label='training accuracy', color='green')\n",
        "plt.plot(range(len(history.history['loss'])), history.history['val_accuracy'], label='validation accuracy', color='red')\n",
        "plt.grid(color='gray', linewidth=.4)\n",
        "\n",
        "plt.legend(loc=\"lower right\")\n",
        "plt.xlabel(\"epochs\")\n",
        "plt.ylabel(\"accuracy\")\n",
        "plt.xlim(0, len(history.history['loss'])+1)\n",
        "plt.ylim(.45, 1.)\n",
        "plt.savefig('acc.png')"
      ],
      "metadata": {
        "colab": {
          "base_uri": "https://localhost:8080/",
          "height": 295
        },
        "id": "to8ynCJUB1QC",
        "outputId": "cbe47f19-fa3e-44e4-ac78-8d6c2a21643a"
      },
      "execution_count": 19,
      "outputs": [
        {
          "output_type": "display_data",
          "data": {
            "text/plain": [
              "<Figure size 432x288 with 1 Axes>"
            ],
            "image/png": "[encoded data removed]"
          },
          "metadata": {
            "needs_background": "light"
          }
        }
      ]
    },
    {
      "cell_type": "code",
      "source": [
        "plt.title('Loss during training')\n",
        "plt.plot(range(len(history.history['loss'])), history.history['loss'], label='training loss', color='green')\n",
        "plt.plot(range(len(history.history['loss'])), history.history['val_loss'], label='validation loss', color='red')\n",
        "plt.grid(color='gray', linewidth=.4)\n",
        "\n",
        "plt.legend(loc=\"upper right\")\n",
        "plt.xlabel(\"epochs\")\n",
        "plt.ylabel(\"loss\")\n",
        "plt.savefig('loss.png')"
      ],
      "metadata": {
        "colab": {
          "base_uri": "https://localhost:8080/",
          "height": 295
        },
        "id": "L2gFo_gLB4Dc",
        "outputId": "60eb7c90-3290-4006-f55e-dd22d3c2bf56"
      },
      "execution_count": 20,
      "outputs": [
        {
          "output_type": "display_data",
          "data": {
            "text/plain": [
              "<Figure size 432x288 with 1 Axes>"
            ],
            "image/png": "[encoded data removed]"
          },
          "metadata": {
            "needs_background": "light"
          }
        }
      ]
    },
    {
      "cell_type": "code",
      "source": [
        "nn.model.evaluate(x=X_test, y=y_test)"
      ],
      "metadata": {
        "colab": {
          "base_uri": "https://localhost:8080/"
        },
        "id": "k3zkL_DUB52B",
        "outputId": "8a4bc362-fadd-4bf3-fc22-66b9a80dceab"
      },
      "execution_count": 21,
      "outputs": [
        {
          "output_type": "stream",
          "name": "stdout",
          "text": [
            "32/32 [==============================] - 0s 2ms/step - loss: 0.5001 - accuracy: 0.7598\n"
          ]
        },
        {
          "output_type": "execute_result",
          "data": {
            "text/plain": [
              "[0.5001479387283325, 0.759759783744812]"
            ]
          },
          "metadata": {},
          "execution_count": 21
        }
      ]
    },
    {
      "cell_type": "code",
      "source": [
        "nn.model.save('vcm.h5')"
      ],
      "metadata": {
        "id": "49fcjVFUB79k"
      },
      "execution_count": 22,
      "outputs": []
    },
    {
      "cell_type": "markdown",
      "source": [
        "### Check performace on negative and positive classes"
      ],
      "metadata": {
        "id": "57LZ_fI59-Tk"
      }
    },
    {
      "cell_type": "code",
      "source": [
        "'''\n",
        "pos_dataset_test = [[] for array in range(len(datasets_test))]\n",
        "for array in range(len(datasets_test)):\n",
        "    for item, i in zip(datasets_test[array], y_test):\n",
        "        if i == 1:\n",
        "            pos_dataset_test[array].append(list(item))\n",
        "for i in range(5):\n",
        "    pos_dataset_test[i]=numpy.array(pos_dataset_test[i])\n",
        "y_pos_test = numpy.array([1. for _ in range(len(pos_dataset_test[0]))])\n",
        "\n",
        "neg_dataset_test = [[] for array in range(len(datasets_test))]\n",
        "for array in range(len(datasets_test)):\n",
        "    for item, i in zip(datasets_test[array], y_test):\n",
        "        if i == 0:\n",
        "            neg_dataset_test[array].append(list(item))\n",
        "for i in range(5):\n",
        "    neg_dataset_test[i]=numpy.array(neg_dataset_test[i])\n",
        "y_neg_test = numpy.array([0. for _ in range(len(neg_dataset_test[0]))])\n",
        "\n",
        "pos_perf = nn.model.evaluate(x=pos_dataset_test, y=y_pos_test)\n",
        "neg_perf = nn.model.evaluate(x=neg_dataset_test, y=y_neg_test)\n",
        "print('Accuracy on POSITIVE classes:', pos_perf[1])\n",
        "print('Accuracy on NEGATIVE classes:', neg_perf[1])\n",
        "\n",
        "'''"
      ],
      "metadata": {
        "id": "vVhjh964zo0i",
        "colab": {
          "base_uri": "https://localhost:8080/",
          "height": 0
        },
        "outputId": "2a867053-d51e-4f8e-dade-75adf4495f1d"
      },
      "execution_count": 23,
      "outputs": [
        {
          "output_type": "execute_result",
          "data": {
            "text/plain": [
              "\"\\npos_dataset_test = [[] for array in range(len(datasets_test))]\\nfor array in range(len(datasets_test)):\\n    for item, i in zip(datasets_test[array], y_test):\\n        if i == 1:\\n            pos_dataset_test[array].append(list(item))\\nfor i in range(5):\\n    pos_dataset_test[i]=numpy.array(pos_dataset_test[i])\\ny_pos_test = numpy.array([1. for _ in range(len(pos_dataset_test[0]))])\\n\\nneg_dataset_test = [[] for array in range(len(datasets_test))]\\nfor array in range(len(datasets_test)):\\n    for item, i in zip(datasets_test[array], y_test):\\n        if i == 0:\\n            neg_dataset_test[array].append(list(item))\\nfor i in range(5):\\n    neg_dataset_test[i]=numpy.array(neg_dataset_test[i])\\ny_neg_test = numpy.array([0. for _ in range(len(neg_dataset_test[0]))])\\n\\npos_perf = nn.model.evaluate(x=pos_dataset_test, y=y_pos_test)\\nneg_perf = nn.model.evaluate(x=neg_dataset_test, y=y_neg_test)\\nprint('Accuracy on POSITIVE classes:', pos_perf[1])\\nprint('Accuracy on NEGATIVE classes:', neg_perf[1])\\n\\n\""
            ],
            "application/vnd.google.colaboratory.intrinsic+json": {
              "type": "string"
            }
          },
          "metadata": {},
          "execution_count": 23
        }
      ]
    }
  ]
}