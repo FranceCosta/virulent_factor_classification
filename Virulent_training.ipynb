{
 "cells": [
  {
   "cell_type": "code",
   "execution_count": 1,
   "metadata": {
    "id": "ezfZzH9lnDl3"
   },
   "outputs": [
    {
     "name": "stderr",
     "output_type": "stream",
     "text": [
      "2023-02-02 21:47:46.765700: I tensorflow/core/platform/cpu_feature_guard.cc:193] This TensorFlow binary is optimized with oneAPI Deep Neural Network Library (oneDNN) to use the following CPU instructions in performance-critical operations:  AVX2 AVX512F AVX512_VNNI FMA\n",
      "To enable them in other operations, rebuild TensorFlow with the appropriate compiler flags.\n",
      "2023-02-02 21:47:46.873051: I tensorflow/core/util/util.cc:169] oneDNN custom operations are on. You may see slightly different numerical results due to floating-point round-off errors from different computation orders. To turn them off, set the environment variable `TF_ENABLE_ONEDNN_OPTS=0`.\n",
      "2023-02-02 21:47:46.876998: W tensorflow/stream_executor/platform/default/dso_loader.cc:64] Could not load dynamic library 'libcudart.so.11.0'; dlerror: libcudart.so.11.0: cannot open shared object file: No such file or directory\n",
      "2023-02-02 21:47:46.877010: I tensorflow/stream_executor/cuda/cudart_stub.cc:29] Ignore above cudart dlerror if you do not have a GPU set up on your machine.\n",
      "2023-02-02 21:47:46.895024: E tensorflow/stream_executor/cuda/cuda_blas.cc:2981] Unable to register cuBLAS factory: Attempting to register factory for plugin cuBLAS when one has already been registered\n",
      "2023-02-02 21:47:47.325704: W tensorflow/stream_executor/platform/default/dso_loader.cc:64] Could not load dynamic library 'libnvinfer.so.7'; dlerror: libnvinfer.so.7: cannot open shared object file: No such file or directory\n",
      "2023-02-02 21:47:47.325742: W tensorflow/stream_executor/platform/default/dso_loader.cc:64] Could not load dynamic library 'libnvinfer_plugin.so.7'; dlerror: libnvinfer_plugin.so.7: cannot open shared object file: No such file or directory\n",
      "2023-02-02 21:47:47.325746: W tensorflow/compiler/tf2tensorrt/utils/py_utils.cc:38] TF-TRT Warning: Cannot dlopen some TensorRT libraries. If you would like to use Nvidia GPU with TensorRT, please make sure the missing libraries mentioned above are installed properly.\n"
     ]
    }
   ],
   "source": [
    "%%capture\n",
    "!pip install Biopython\n",
    "!rm -r iFeature\n",
    "!git clone https://github.com/Superzchen/iFeature\n",
    "!git clone https://github.com/nicolagulmini/virulent_factor_classification.git\n",
    "!pip install visualkeras\n",
    "\n",
    "import numpy\n",
    "import tensorflow\n",
    "from tensorflow import keras\n",
    "import matplotlib.pyplot as plt\n",
    "from Bio import SeqIO\n"
   ]
  },
  {
   "cell_type": "code",
   "execution_count": 2,
   "metadata": {},
   "outputs": [],
   "source": [
    "import numpy\n",
    "import tensorflow\n",
    "from tensorflow import keras\n",
    "import matplotlib.pyplot as plt\n",
    "from Bio import SeqIO\n"
   ]
  },
  {
   "cell_type": "markdown",
   "metadata": {
    "id": "5_qRAUKplhNa"
   },
   "source": [
    "### Following [this](https://doi.org/10.1093/bib/bbv082) on dataset preparation a treshold of 25% identity have been chosen for a clustering with [CD-hit](http://weizhong-lab.ucsd.edu/cdhit-web-server/cgi-bin/index.cgi?cmd=cd-hit) "
   ]
  },
  {
   "cell_type": "code",
   "execution_count": 3,
   "metadata": {
    "colab": {
     "base_uri": "https://localhost:8080/",
     "height": 0
    },
    "id": "ICidQQboZ-Du",
    "outputId": "fecf22ec-6cbe-4286-9ca7-6c45615662d8"
   },
   "outputs": [
    {
     "data": {
      "text/plain": [
       "\"\\n# parse CD-Hit data\\ninfile = open('virulent_factor_classification/new_datasets_cleaned/pos_fasta_60', 'r').readlines()\\npos_ids = []\\nfor element in str(infile).split('>'):\\n    for seq in element.split('\\n'):\\n        if '*' in seq:\\n            pos_ids.append(seq.split('|')[0][:-3])\\ninfile = open('virulent_factor_classification/new_datasets_cleaned/neg_fasta_60', 'r').readlines()\\nneg_ids = []\\nfor element in str(infile).split('>'):\\n    for seq in element.split('\\n'):\\n        if '*' in seq:\\n            neg_ids.append(seq.split('|')[1])\\n\\nprint(len(neg_ids))\\nprint(len(pos_ids))\\n\\nlimit = min(len(neg_ids), len(pos_ids))\\n\\n# clean sequence data\\npos_seqs = list(SeqIO.parse('./virulent_factor_classification/new_datasets/positive/pos.fasta', 'fasta'))\\ncleaned_pos_seqs = [entry for entry in pos_seqs if str(entry.id.split('(')[0]) in str(pos_ids)]\\n\\nneg_seqs = list(SeqIO.parse('./virulent_factor_classification/new_datasets/negative/neg.fasta', 'fasta'))\\ncleaned_neg_seqs = [entry for entry in neg_seqs if str(entry.id.split('|')[1]) in str(neg_ids)]\\n\\n# match lengths\\ncleaned_pos_seqs = cleaned_pos_seqs[:limit] \\ncleaned_neg_seqs = cleaned_neg_seqs[:limit]\\nprint('len of pos dataset:', len(cleaned_pos_seqs))\\nprint('len of neg dataset:', len(cleaned_neg_seqs))\\n\\n# rewrite fasta files\\ndef writer(fasta_list, outfile_name):\\n    outfile = open(outfile_name, 'w')\\n    for entry in fasta_list:\\n        outfile.write('>'+str(entry.id)+'\\n')\\n        outfile.write(str(entry.seq)+'\\n')\\n\\nwriter(cleaned_pos_seqs, 'cleaned_pos.fasta')\\nwriter(cleaned_neg_seqs, 'cleaned_neg.fasta')\\n\""
      ]
     },
     "execution_count": 3,
     "metadata": {},
     "output_type": "execute_result"
    }
   ],
   "source": [
    "'''\n",
    "# parse CD-Hit data\n",
    "infile = open('virulent_factor_classification/new_datasets_cleaned/pos_fasta_60', 'r').readlines()\n",
    "pos_ids = []\n",
    "for element in str(infile).split('>'):\n",
    "    for seq in element.split('\\n'):\n",
    "        if '*' in seq:\n",
    "            pos_ids.append(seq.split('|')[0][:-3])\n",
    "infile = open('virulent_factor_classification/new_datasets_cleaned/neg_fasta_60', 'r').readlines()\n",
    "neg_ids = []\n",
    "for element in str(infile).split('>'):\n",
    "    for seq in element.split('\\n'):\n",
    "        if '*' in seq:\n",
    "            neg_ids.append(seq.split('|')[1])\n",
    "\n",
    "print(len(neg_ids))\n",
    "print(len(pos_ids))\n",
    "\n",
    "limit = min(len(neg_ids), len(pos_ids))\n",
    "\n",
    "# clean sequence data\n",
    "pos_seqs = list(SeqIO.parse('./virulent_factor_classification/new_datasets/positive/pos.fasta', 'fasta'))\n",
    "cleaned_pos_seqs = [entry for entry in pos_seqs if str(entry.id.split('(')[0]) in str(pos_ids)]\n",
    "\n",
    "neg_seqs = list(SeqIO.parse('./virulent_factor_classification/new_datasets/negative/neg.fasta', 'fasta'))\n",
    "cleaned_neg_seqs = [entry for entry in neg_seqs if str(entry.id.split('|')[1]) in str(neg_ids)]\n",
    "\n",
    "# match lengths\n",
    "cleaned_pos_seqs = cleaned_pos_seqs[:limit] \n",
    "cleaned_neg_seqs = cleaned_neg_seqs[:limit]\n",
    "print('len of pos dataset:', len(cleaned_pos_seqs))\n",
    "print('len of neg dataset:', len(cleaned_neg_seqs))\n",
    "\n",
    "# rewrite fasta files\n",
    "def writer(fasta_list, outfile_name):\n",
    "    outfile = open(outfile_name, 'w')\n",
    "    for entry in fasta_list:\n",
    "        outfile.write('>'+str(entry.id)+'\\n')\n",
    "        outfile.write(str(entry.seq)+'\\n')\n",
    "\n",
    "writer(cleaned_pos_seqs, 'cleaned_pos.fasta')\n",
    "writer(cleaned_neg_seqs, 'cleaned_neg.fasta')\n",
    "'''\n",
    "# already done"
   ]
  },
  {
   "cell_type": "markdown",
   "metadata": {
    "id": "IOUs84rp-GwW"
   },
   "source": [
    "Now, remove antigens from datasets in order to overcome NERVE overfitting"
   ]
  },
  {
   "cell_type": "code",
   "execution_count": 4,
   "metadata": {
    "id": "lzqfmP8o9_NB"
   },
   "outputs": [],
   "source": [
    "# Remove proteins with over 25% identity"
   ]
  },
  {
   "cell_type": "markdown",
   "metadata": {
    "id": "afQpOFWT-B2C"
   },
   "source": [
    "# Pipeline"
   ]
  },
  {
   "cell_type": "code",
   "execution_count": 5,
   "metadata": {
    "colab": {
     "base_uri": "https://localhost:8080/",
     "height": 178
    },
    "id": "os-KrM89Cf6S",
    "outputId": "7806f9de-565f-4048-d168-eb91c2157f89"
   },
   "outputs": [
    {
     "data": {
      "text/plain": [
       "'\\n!python iFeature/iFeature.py --file ./virulent_factor_classification/data/25_similarity/pos_25.fasta --type AAC --out aac_cleaned_pos.out    # amino acids composition\\n!python iFeature/iFeature.py --file ./virulent_factor_classification/data/25_similarity/pos_25.fasta --type DPC --out dpc_cleaned_pos.out    # dipeptide composition\\n!python iFeature/iFeature.py --file ./virulent_factor_classification/data/25_similarity/pos_25.fasta --type CTDC --out ctdc_cleaned_pos.out  # composition\\n!python iFeature/iFeature.py --file ./virulent_factor_classification/data/25_similarity/pos_25.fasta --type CTDT --out ctdt_cleaned_pos.out  # transition\\n!python iFeature/iFeature.py --file ./virulent_factor_classification/data/25_similarity/pos_25.fasta --type CTDD --out ctdd_cleaned_pos.out  # distribution\\n\\nprint(\"pos: DONE!\")\\n\\n!python iFeature/iFeature.py --file ./virulent_factor_classification/data/25_similarity/neg_25.fasta --type AAC --out aac_cleaned_neg.out    # amino acids composition\\n!python iFeature/iFeature.py --file ./virulent_factor_classification/data/25_similarity/neg_25.fasta --type DPC --out dpc_cleaned_neg.out    # dipeptide composition\\n!python iFeature/iFeature.py --file ./virulent_factor_classification/data/25_similarity/neg_25.fasta --type CTDC --out ctdc_cleaned_neg.out  # composition\\n!python iFeature/iFeature.py --file ./virulent_factor_classification/data/25_similarity/neg_25.fasta --type CTDT --out ctdt_cleaned_neg.out  # transition\\n!python iFeature/iFeature.py --file ./virulent_factor_classification/data/25_similarity/neg_25.fasta --type CTDD --out ctdd_cleaned_neg.out  # distribution\\n\\nprint(\"neg: DONE!\")\\n'"
      ]
     },
     "execution_count": 5,
     "metadata": {},
     "output_type": "execute_result"
    }
   ],
   "source": [
    "'''\n",
    "!python iFeature/iFeature.py --file ./virulent_factor_classification/data/25_similarity/pos_25.fasta --type AAC --out aac_cleaned_pos.out    # amino acids composition\n",
    "!python iFeature/iFeature.py --file ./virulent_factor_classification/data/25_similarity/pos_25.fasta --type DPC --out dpc_cleaned_pos.out    # dipeptide composition\n",
    "!python iFeature/iFeature.py --file ./virulent_factor_classification/data/25_similarity/pos_25.fasta --type CTDC --out ctdc_cleaned_pos.out  # composition\n",
    "!python iFeature/iFeature.py --file ./virulent_factor_classification/data/25_similarity/pos_25.fasta --type CTDT --out ctdt_cleaned_pos.out  # transition\n",
    "!python iFeature/iFeature.py --file ./virulent_factor_classification/data/25_similarity/pos_25.fasta --type CTDD --out ctdd_cleaned_pos.out  # distribution\n",
    "\n",
    "print(\"pos: DONE!\")\n",
    "\n",
    "!python iFeature/iFeature.py --file ./virulent_factor_classification/data/25_similarity/neg_25.fasta --type AAC --out aac_cleaned_neg.out    # amino acids composition\n",
    "!python iFeature/iFeature.py --file ./virulent_factor_classification/data/25_similarity/neg_25.fasta --type DPC --out dpc_cleaned_neg.out    # dipeptide composition\n",
    "!python iFeature/iFeature.py --file ./virulent_factor_classification/data/25_similarity/neg_25.fasta --type CTDC --out ctdc_cleaned_neg.out  # composition\n",
    "!python iFeature/iFeature.py --file ./virulent_factor_classification/data/25_similarity/neg_25.fasta --type CTDT --out ctdt_cleaned_neg.out  # transition\n",
    "!python iFeature/iFeature.py --file ./virulent_factor_classification/data/25_similarity/neg_25.fasta --type CTDD --out ctdd_cleaned_neg.out  # distribution\n",
    "\n",
    "print(\"neg: DONE!\")\n",
    "'''\n",
    "# already done"
   ]
  },
  {
   "cell_type": "code",
   "execution_count": 6,
   "metadata": {
    "id": "IXLoKnrvsMK-"
   },
   "outputs": [],
   "source": [
    "def from_files_to_vectors(fasta_path, positive=True):\n",
    "    if positive:\n",
    "        proteins = list(SeqIO.parse(fasta_path+'pos_25.fasta', \"fasta\"))\n",
    "    else:\n",
    "        proteins = list(SeqIO.parse(fasta_path+'neg_25.fasta', \"fasta\"))\n",
    "    extension = \".out\"\n",
    "    files = [\"aac\", \"dpc\", \"ctdc\", \"ctdt\", \"ctdd\"]\n",
    "    if positive:\n",
    "        names = \"_cleaned_pos\"\n",
    "    else:\n",
    "        names = \"_cleaned_neg\"\n",
    "    for i in range(len(files)):\n",
    "        files[i] += names\n",
    "    datasets = [[] for el in files]\n",
    "    for i in range(len(files)):\n",
    "        with open(fasta_path+files[i]+extension) as f:\n",
    "            lines = f.readlines()[1:]\n",
    "            check_prot = 0\n",
    "            for line in lines:\n",
    "                information = line.split('\\t')\n",
    "                if not information[0] == proteins[check_prot].id:\n",
    "                    print(\"Error in protein order! Return\")\n",
    "                    return datasets\n",
    "                datasets[i].append(numpy.array([float(el) for el in information[1:]]))\n",
    "                check_prot += 1\n",
    "        datasets[i] = numpy.array(datasets[i])\n",
    "    return datasets"
   ]
  },
  {
   "cell_type": "code",
   "execution_count": 7,
   "metadata": {
    "id": "qwYSUH_r2Pw6"
   },
   "outputs": [],
   "source": [
    "pos_datasets = from_files_to_vectors(\"./data/25_similarity/pos/\", positive=True)\n",
    "neg_datasets = from_files_to_vectors(\"./data/25_similarity/neg/\", positive=False)\n",
    "\n",
    "y_pos = numpy.ones(pos_datasets[0].shape[0])\n",
    "y_neg = numpy.zeros(neg_datasets[0].shape[0])"
   ]
  },
  {
   "cell_type": "code",
   "execution_count": 8,
   "metadata": {
    "colab": {
     "base_uri": "https://localhost:8080/"
    },
    "id": "n6ugvKCJ_SQU",
    "outputId": "69aa8c5a-af07-44c5-ea0a-96069b80cfb7"
   },
   "outputs": [
    {
     "name": "stdout",
     "output_type": "stream",
     "text": [
      "Virulent: 1820\n",
      "NON Virulent: 1808\n",
      "1 -th feature dim: 20\n",
      "2 -th feature dim: 400\n",
      "3 -th feature dim: 39\n",
      "4 -th feature dim: 39\n",
      "5 -th feature dim: 195\n",
      "Data matrix dimension: (3628, 693)\n"
     ]
    }
   ],
   "source": [
    "# attach datasets in order to obtain a matrix of (n, 20+400+39+39+195) features\n",
    "\n",
    "# keep in mind the number of virulent factors and the number of not virulent factors\n",
    "rows = 0\n",
    "n_pos = y_pos.shape[0]\n",
    "n_neg = y_neg.shape[0]\n",
    "rows = n_pos + n_neg\n",
    "print('Virulent:', n_pos)\n",
    "print('NON Virulent:', n_neg)\n",
    "\n",
    "# feature vectors dimensions\n",
    "columns = 0\n",
    "for i in range(len(pos_datasets)):\n",
    "    tmp_dim = pos_datasets[i].shape[1]\n",
    "    print(i+1, '-th feature dim:', tmp_dim)\n",
    "    columns += tmp_dim\n",
    "\n",
    "# data matrix to process\n",
    "X = numpy.zeros((rows, columns))\n",
    "print('Data matrix dimension:', X.shape)\n",
    "for i in range(n_pos):\n",
    "    X[i] = numpy.concatenate([pos_datasets[j][i] for j in range(5)])\n",
    "for i in range(n_neg):\n",
    "    X[n_pos+i] = numpy.concatenate([neg_datasets[j][i] for j in range(5)])"
   ]
  },
  {
   "cell_type": "code",
   "execution_count": 9,
   "metadata": {
    "id": "QxfYFLoS_hai"
   },
   "outputs": [],
   "source": [
    "# permutation\n",
    "numpy.random.seed(42)\n",
    "\n",
    "y = numpy.concatenate((y_pos, y_neg), axis=0)\n",
    "c = numpy.random.permutation(numpy.arange(y.shape[0]))\n",
    "y = y[c]\n",
    "X = X[c] "
   ]
  },
  {
   "cell_type": "code",
   "execution_count": 10,
   "metadata": {
    "colab": {
     "base_uri": "https://localhost:8080/"
    },
    "id": "ZzpCOTgl_o9A",
    "outputId": "538f9805-1ed4-4bc4-fcc4-be1ad9b9b154"
   },
   "outputs": [
    {
     "name": "stdout",
     "output_type": "stream",
     "text": [
      "Training data shape: (1814, 693) (1814,)\n",
      "Validation data shape: (907, 693) (907,)\n",
      "Test data shape: (907, 693) (907,)\n",
      "\n",
      "Training virulent factors and not-virulent factors: 927 887\n",
      "Validation virulent factors and not-virulent factors: 436 471\n",
      "Test virulent factors and not-virulent factors: 457 450\n"
     ]
    }
   ],
   "source": [
    "# remember: standardization or scaling AFTER train-test split, otherwise there's data leakage!!!\n",
    "X_train = X[:int(X.shape[0]*.5)]\n",
    "X_val = X[int(X.shape[0]*.5):int(X.shape[0]*.75)]\n",
    "X_test = X[int(X.shape[0]*.75):]\n",
    "\n",
    "y_train = y[:int(y.shape[0]*.5)]\n",
    "y_val = y[int(y.shape[0]*.5):int(y.shape[0]*.75)]\n",
    "y_test = y[int(y.shape[0]*.75):]\n",
    "\n",
    "print('Training data shape:', X_train.shape, y_train.shape)\n",
    "print('Validation data shape:', X_val.shape, y_val.shape)\n",
    "print('Test data shape:', X_test.shape, y_test.shape)\n",
    "\n",
    "print('\\nTraining virulent factors and not-virulent factors:', int(sum(y_train)), int(y_train.shape[0]-sum(y_train)))\n",
    "print('Validation virulent factors and not-virulent factors:', int(sum(y_val)), int(y_val.shape[0]-sum(y_val)))\n",
    "print('Test virulent factors and not-virulent factors:', int(sum(y_test)), int(y_test.shape[0]-sum(y_test)))"
   ]
  },
  {
   "cell_type": "code",
   "execution_count": 11,
   "metadata": {
    "id": "EWhx9WSsAB-1"
   },
   "outputs": [],
   "source": [
    "# PCA\n",
    "\n",
    "stdX = numpy.zeros(X_train.shape)\n",
    "stdX_val = numpy.zeros(X_val.shape)\n",
    "stdX_test = numpy.zeros(X_test.shape)\n",
    "\n",
    "means = numpy.zeros(X_train.shape[1])\n",
    "std_devs = numpy.zeros(X_train.shape[1])\n",
    "\n",
    "for j in range(X_train.shape[1]):\n",
    "    column = X_train[:,j]\n",
    "    means[j] = numpy.mean(column)\n",
    "    std_devs[j] = numpy.std(column)\n",
    "    stdX[:,j] = (column - means[j]) / std_devs[j]\n",
    "    stdX_val[:,j] = (X_val[:,j] - means[j]) / std_devs[j]\n",
    "    stdX_test[:,j] = (X_test[:,j] - means[j]) / std_devs[j]\n",
    "\n",
    "numpy.save('means', means)\n",
    "numpy.save('std_devs', std_devs)\n",
    "\n",
    "covariance_matrix = numpy.cov(stdX.T)\n",
    "\n",
    "eigen_values, eigen_vectors = numpy.linalg.eig(covariance_matrix)\n",
    "eigen_values = numpy.real(eigen_values)\n",
    "eigen_vectors = numpy.real(eigen_vectors)\n",
    "\n",
    "variance_explained = []\n",
    "for i in eigen_values:\n",
    "    variance_explained.append((i/sum(eigen_values))*100)\n",
    "\n",
    "cumulative_variance_explained = numpy.cumsum(variance_explained)"
   ]
  },
  {
   "cell_type": "code",
   "execution_count": 12,
   "metadata": {
    "colab": {
     "base_uri": "https://localhost:8080/",
     "height": 295
    },
    "id": "3H21ZME1BWz7",
    "outputId": "bc36f7aa-3347-4586-9a36-7c39b5287d34"
   },
   "outputs": [
    {
     "data": {
      "image/png": "[encoded data removed]",
      "text/plain": [
       "<Figure size 640x480 with 1 Axes>"
      ]
     },
     "metadata": {},
     "output_type": "display_data"
    }
   ],
   "source": [
    "plt.title(\"Explained variance vs Number of components\")\n",
    "\n",
    "plt.xlabel(\"Number of components\")\n",
    "plt.ylabel(\"Cumulative explained variance\")\n",
    "plt.grid(color='gray', linewidth=.4)\n",
    "\n",
    "plt.plot(range(len(cumulative_variance_explained)), cumulative_variance_explained)\n",
    "\n",
    "plt.show()\n",
    "#plt.savefig('Explained variance.png')"
   ]
  },
  {
   "cell_type": "code",
   "execution_count": 13,
   "metadata": {
    "colab": {
     "base_uri": "https://localhost:8080/"
    },
    "id": "HNRicsM0BZ82",
    "outputId": "2597cd27-45c5-49f8-be42-741a081d08be"
   },
   "outputs": [
    {
     "name": "stdout",
     "output_type": "stream",
     "text": [
      "Principal components: 400\n",
      "Discarded components: 293\n"
     ]
    }
   ],
   "source": [
    "K = 400 # more or less like adhesin\n",
    "print('Principal components:', K)\n",
    "print('Discarded components:', columns-K)"
   ]
  },
  {
   "cell_type": "code",
   "execution_count": 14,
   "metadata": {
    "colab": {
     "base_uri": "https://localhost:8080/",
     "height": 295
    },
    "id": "z3HVUUpRBdHb",
    "outputId": "1f021dd9-1b76-4807-fa6b-4ef9ee9e766d"
   },
   "outputs": [
    {
     "data": {
      "image/png": "[encoded data removed]",
      "text/plain": [
       "<Figure size 640x480 with 1 Axes>"
      ]
     },
     "metadata": {},
     "output_type": "display_data"
    }
   ],
   "source": [
    "plt.title(\"Explained variance vs first \" + str(K) + \" components\")\n",
    "\n",
    "plt.xlabel(\"Number of components\")\n",
    "plt.ylabel(\"Cumulative explained variance\")\n",
    "plt.grid(color='gray', linewidth=.4)\n",
    "\n",
    "plt.plot(range(K), cumulative_variance_explained[:K])\n",
    "\n",
    "plt.show()\n",
    "#plt.savefig('Explained variance.png')"
   ]
  },
  {
   "cell_type": "code",
   "execution_count": 15,
   "metadata": {
    "colab": {
     "base_uri": "https://localhost:8080/"
    },
    "id": "HtOHXpbNBi30",
    "outputId": "12028f20-cf40-4993-c608-f7dcb03f5551"
   },
   "outputs": [
    {
     "name": "stdout",
     "output_type": "stream",
     "text": [
      "(693, 400)\n"
     ]
    }
   ],
   "source": [
    "# Project using first K components\n",
    "\n",
    "projection_matrix = numpy.real((eigen_vectors.T[:][:K]).T)\n",
    "print(projection_matrix.shape)\n",
    "\n",
    "numpy.save('projection_matrix', projection_matrix)"
   ]
  },
  {
   "cell_type": "code",
   "execution_count": 16,
   "metadata": {
    "id": "NNtLkAdwBlSA"
   },
   "outputs": [],
   "source": [
    "# project matrices\n",
    "X_train = stdX.dot(projection_matrix)\n",
    "X_val = stdX_val.dot(projection_matrix)\n",
    "X_test = stdX_test.dot(projection_matrix)"
   ]
  },
  {
   "cell_type": "code",
   "execution_count": 17,
   "metadata": {
    "id": "WRA6m63cBsnQ"
   },
   "outputs": [],
   "source": [
    "from tensorflow.keras import regularizers\n",
    "\n",
    "class neural_network:\n",
    "    def __init__(self):\n",
    "        input = tensorflow.keras.Input(shape=(K,))\n",
    "\n",
    "        dense = tensorflow.keras.layers.Dense(units=10, activation='sigmoid')(input) # it shows that a linear activation is sufficiet to get the same accuracy of the sigmoid (so it's like a matrix multiplication with a non-linearity at the end...)\n",
    "        #batch = tensorflow.keras.layers.BatchNormalization()(dense)\n",
    "        #activation = tensorflow.keras.activations.sigmoid(batch)\n",
    "        #drop = tensorflow.keras.layers.Dropout(.1)(activation)\n",
    "\n",
    "        output = tensorflow.keras.layers.Dense(1, activation='sigmoid')(dense)\n",
    "\n",
    "        model = tensorflow.keras.models.Model(inputs=input, outputs=output)\n",
    "        model.compile(optimizer=tensorflow.keras.optimizers.Adam(learning_rate=0.0001), loss='binary_crossentropy', metrics='accuracy')\n",
    "        self.model = model"
   ]
  },
  {
   "cell_type": "code",
   "execution_count": 18,
   "metadata": {
    "id": "GyOV0zbtBu6a"
   },
   "outputs": [
    {
     "name": "stderr",
     "output_type": "stream",
     "text": [
      "2023-02-02 21:47:50.064323: W tensorflow/stream_executor/platform/default/dso_loader.cc:64] Could not load dynamic library 'libcuda.so.1'; dlerror: libcuda.so.1: cannot open shared object file: No such file or directory\n",
      "2023-02-02 21:47:50.064666: W tensorflow/stream_executor/cuda/cuda_driver.cc:263] failed call to cuInit: UNKNOWN ERROR (303)\n",
      "2023-02-02 21:47:50.064895: I tensorflow/stream_executor/cuda/cuda_diagnostics.cc:156] kernel driver does not appear to be running on this host (79b804562f18): /proc/driver/nvidia/version does not exist\n",
      "2023-02-02 21:47:50.066038: I tensorflow/core/platform/cpu_feature_guard.cc:193] This TensorFlow binary is optimized with oneAPI Deep Neural Network Library (oneDNN) to use the following CPU instructions in performance-critical operations:  AVX2 AVX512F AVX512_VNNI FMA\n",
      "To enable them in other operations, rebuild TensorFlow with the appropriate compiler flags.\n"
     ]
    }
   ],
   "source": [
    "nn = neural_network()"
   ]
  },
  {
   "cell_type": "code",
   "execution_count": 19,
   "metadata": {
    "id": "z8HiUAOvBwuw"
   },
   "outputs": [
    {
     "name": "stdout",
     "output_type": "stream",
     "text": [
      "Epoch 1/1000\n",
      "29/29 [==============================] - 0s 5ms/step - loss: 0.7263 - accuracy: 0.4972 - val_loss: 0.7194 - val_accuracy: 0.5006\n",
      "Epoch 2/1000\n",
      "29/29 [==============================] - 0s 2ms/step - loss: 0.7168 - accuracy: 0.5072 - val_loss: 0.7119 - val_accuracy: 0.5094\n",
      "Epoch 3/1000\n",
      "29/29 [==============================] - 0s 2ms/step - loss: 0.7079 - accuracy: 0.5248 - val_loss: 0.7046 - val_accuracy: 0.5182\n",
      "Epoch 4/1000\n",
      "29/29 [==============================] - 0s 2ms/step - loss: 0.6994 - accuracy: 0.5336 - val_loss: 0.6976 - val_accuracy: 0.5237\n",
      "Epoch 5/1000\n",
      "29/29 [==============================] - 0s 2ms/step - loss: 0.6912 - accuracy: 0.5463 - val_loss: 0.6908 - val_accuracy: 0.5402\n",
      "Epoch 6/1000\n",
      "29/29 [==============================] - 0s 2ms/step - loss: 0.6831 - accuracy: 0.5590 - val_loss: 0.6840 - val_accuracy: 0.5513\n",
      "Epoch 7/1000\n",
      "29/29 [==============================] - 0s 2ms/step - loss: 0.6752 - accuracy: 0.5766 - val_loss: 0.6778 - val_accuracy: 0.5722\n",
      "Epoch 8/1000\n",
      "29/29 [==============================] - 0s 2ms/step - loss: 0.6677 - accuracy: 0.5854 - val_loss: 0.6715 - val_accuracy: 0.5832\n",
      "Epoch 9/1000\n",
      "29/29 [==============================] - 0s 2ms/step - loss: 0.6603 - accuracy: 0.5992 - val_loss: 0.6656 - val_accuracy: 0.5910\n",
      "Epoch 10/1000\n",
      "29/29 [==============================] - 0s 2ms/step - loss: 0.6531 - accuracy: 0.6086 - val_loss: 0.6600 - val_accuracy: 0.6031\n",
      "Epoch 11/1000\n",
      "29/29 [==============================] - 0s 2ms/step - loss: 0.6462 - accuracy: 0.6196 - val_loss: 0.6546 - val_accuracy: 0.6119\n",
      "Epoch 12/1000\n",
      "29/29 [==============================] - 0s 2ms/step - loss: 0.6394 - accuracy: 0.6301 - val_loss: 0.6491 - val_accuracy: 0.6207\n",
      "Epoch 13/1000\n",
      "29/29 [==============================] - 0s 2ms/step - loss: 0.6328 - accuracy: 0.6411 - val_loss: 0.6439 - val_accuracy: 0.6273\n",
      "Epoch 14/1000\n",
      "29/29 [==============================] - 0s 2ms/step - loss: 0.6262 - accuracy: 0.6527 - val_loss: 0.6388 - val_accuracy: 0.6329\n",
      "Epoch 15/1000\n",
      "29/29 [==============================] - 0s 2ms/step - loss: 0.6199 - accuracy: 0.6632 - val_loss: 0.6339 - val_accuracy: 0.6384\n",
      "Epoch 16/1000\n",
      "29/29 [==============================] - 0s 2ms/step - loss: 0.6137 - accuracy: 0.6725 - val_loss: 0.6290 - val_accuracy: 0.6516\n",
      "Epoch 17/1000\n",
      "29/29 [==============================] - 0s 2ms/step - loss: 0.6077 - accuracy: 0.6830 - val_loss: 0.6244 - val_accuracy: 0.6615\n",
      "Epoch 18/1000\n",
      "29/29 [==============================] - 0s 2ms/step - loss: 0.6018 - accuracy: 0.6946 - val_loss: 0.6199 - val_accuracy: 0.6648\n",
      "Epoch 19/1000\n",
      "29/29 [==============================] - 0s 2ms/step - loss: 0.5960 - accuracy: 0.7051 - val_loss: 0.6155 - val_accuracy: 0.6781\n",
      "Epoch 20/1000\n",
      "29/29 [==============================] - 0s 2ms/step - loss: 0.5904 - accuracy: 0.7144 - val_loss: 0.6112 - val_accuracy: 0.6803\n",
      "Epoch 21/1000\n",
      "29/29 [==============================] - 0s 2ms/step - loss: 0.5850 - accuracy: 0.7255 - val_loss: 0.6070 - val_accuracy: 0.6858\n",
      "Epoch 22/1000\n",
      "29/29 [==============================] - 0s 2ms/step - loss: 0.5797 - accuracy: 0.7359 - val_loss: 0.6030 - val_accuracy: 0.6869\n",
      "Epoch 23/1000\n",
      "29/29 [==============================] - 0s 2ms/step - loss: 0.5745 - accuracy: 0.7393 - val_loss: 0.5992 - val_accuracy: 0.6913\n",
      "Epoch 24/1000\n",
      "29/29 [==============================] - 0s 2ms/step - loss: 0.5694 - accuracy: 0.7475 - val_loss: 0.5953 - val_accuracy: 0.7012\n",
      "Epoch 25/1000\n",
      "29/29 [==============================] - 0s 2ms/step - loss: 0.5644 - accuracy: 0.7552 - val_loss: 0.5915 - val_accuracy: 0.7056\n",
      "Epoch 26/1000\n",
      "29/29 [==============================] - 0s 2ms/step - loss: 0.5595 - accuracy: 0.7613 - val_loss: 0.5882 - val_accuracy: 0.7100\n",
      "Epoch 27/1000\n",
      "29/29 [==============================] - 0s 2ms/step - loss: 0.5548 - accuracy: 0.7657 - val_loss: 0.5846 - val_accuracy: 0.7155\n",
      "Epoch 28/1000\n",
      "29/29 [==============================] - 0s 2ms/step - loss: 0.5501 - accuracy: 0.7718 - val_loss: 0.5812 - val_accuracy: 0.7178\n",
      "Epoch 29/1000\n",
      "29/29 [==============================] - 0s 2ms/step - loss: 0.5454 - accuracy: 0.7751 - val_loss: 0.5779 - val_accuracy: 0.7222\n",
      "Epoch 30/1000\n",
      "29/29 [==============================] - 0s 2ms/step - loss: 0.5410 - accuracy: 0.7762 - val_loss: 0.5747 - val_accuracy: 0.7266\n",
      "Epoch 31/1000\n",
      "29/29 [==============================] - 0s 2ms/step - loss: 0.5366 - accuracy: 0.7834 - val_loss: 0.5716 - val_accuracy: 0.7387\n",
      "Epoch 32/1000\n",
      "29/29 [==============================] - 0s 2ms/step - loss: 0.5323 - accuracy: 0.7878 - val_loss: 0.5685 - val_accuracy: 0.7486\n",
      "Epoch 33/1000\n",
      "29/29 [==============================] - 0s 2ms/step - loss: 0.5281 - accuracy: 0.7905 - val_loss: 0.5656 - val_accuracy: 0.7464\n",
      "Epoch 34/1000\n",
      "29/29 [==============================] - 0s 2ms/step - loss: 0.5239 - accuracy: 0.7949 - val_loss: 0.5628 - val_accuracy: 0.7475\n",
      "Epoch 35/1000\n",
      "29/29 [==============================] - 0s 2ms/step - loss: 0.5200 - accuracy: 0.7999 - val_loss: 0.5600 - val_accuracy: 0.7497\n",
      "Epoch 36/1000\n",
      "29/29 [==============================] - 0s 2ms/step - loss: 0.5160 - accuracy: 0.8037 - val_loss: 0.5573 - val_accuracy: 0.7519\n",
      "Epoch 37/1000\n",
      "29/29 [==============================] - 0s 2ms/step - loss: 0.5121 - accuracy: 0.8071 - val_loss: 0.5548 - val_accuracy: 0.7530\n",
      "Epoch 38/1000\n",
      "29/29 [==============================] - 0s 2ms/step - loss: 0.5083 - accuracy: 0.8109 - val_loss: 0.5522 - val_accuracy: 0.7563\n",
      "Epoch 39/1000\n",
      "29/29 [==============================] - 0s 2ms/step - loss: 0.5046 - accuracy: 0.8142 - val_loss: 0.5498 - val_accuracy: 0.7552\n",
      "Epoch 40/1000\n",
      "29/29 [==============================] - 0s 2ms/step - loss: 0.5009 - accuracy: 0.8186 - val_loss: 0.5473 - val_accuracy: 0.7563\n",
      "Epoch 41/1000\n",
      "29/29 [==============================] - 0s 2ms/step - loss: 0.4974 - accuracy: 0.8197 - val_loss: 0.5450 - val_accuracy: 0.7585\n",
      "Epoch 42/1000\n",
      "29/29 [==============================] - 0s 2ms/step - loss: 0.4939 - accuracy: 0.8208 - val_loss: 0.5427 - val_accuracy: 0.7596\n",
      "Epoch 43/1000\n",
      "29/29 [==============================] - 0s 2ms/step - loss: 0.4904 - accuracy: 0.8225 - val_loss: 0.5407 - val_accuracy: 0.7619\n",
      "Epoch 44/1000\n",
      "29/29 [==============================] - 0s 2ms/step - loss: 0.4871 - accuracy: 0.8241 - val_loss: 0.5385 - val_accuracy: 0.7641\n",
      "Epoch 45/1000\n",
      "29/29 [==============================] - 0s 2ms/step - loss: 0.4838 - accuracy: 0.8258 - val_loss: 0.5365 - val_accuracy: 0.7685\n",
      "Epoch 46/1000\n",
      "29/29 [==============================] - 0s 2ms/step - loss: 0.4805 - accuracy: 0.8264 - val_loss: 0.5345 - val_accuracy: 0.7696\n",
      "Epoch 47/1000\n",
      "29/29 [==============================] - 0s 2ms/step - loss: 0.4774 - accuracy: 0.8275 - val_loss: 0.5327 - val_accuracy: 0.7707\n",
      "Epoch 48/1000\n",
      "29/29 [==============================] - 0s 2ms/step - loss: 0.4743 - accuracy: 0.8291 - val_loss: 0.5307 - val_accuracy: 0.7696\n",
      "Epoch 49/1000\n",
      "29/29 [==============================] - 0s 2ms/step - loss: 0.4712 - accuracy: 0.8319 - val_loss: 0.5288 - val_accuracy: 0.7696\n",
      "Epoch 50/1000\n",
      "29/29 [==============================] - 0s 2ms/step - loss: 0.4682 - accuracy: 0.8313 - val_loss: 0.5270 - val_accuracy: 0.7707\n",
      "Epoch 51/1000\n",
      "29/29 [==============================] - 0s 2ms/step - loss: 0.4653 - accuracy: 0.8324 - val_loss: 0.5251 - val_accuracy: 0.7718\n",
      "Epoch 52/1000\n",
      "29/29 [==============================] - 0s 2ms/step - loss: 0.4624 - accuracy: 0.8357 - val_loss: 0.5235 - val_accuracy: 0.7718\n",
      "Epoch 53/1000\n",
      "29/29 [==============================] - 0s 2ms/step - loss: 0.4596 - accuracy: 0.8379 - val_loss: 0.5219 - val_accuracy: 0.7740\n",
      "Epoch 54/1000\n",
      "29/29 [==============================] - 0s 2ms/step - loss: 0.4568 - accuracy: 0.8379 - val_loss: 0.5203 - val_accuracy: 0.7740\n",
      "Epoch 55/1000\n",
      "29/29 [==============================] - 0s 2ms/step - loss: 0.4541 - accuracy: 0.8390 - val_loss: 0.5188 - val_accuracy: 0.7707\n",
      "Epoch 56/1000\n",
      "29/29 [==============================] - 0s 2ms/step - loss: 0.4515 - accuracy: 0.8390 - val_loss: 0.5173 - val_accuracy: 0.7707\n",
      "Epoch 57/1000\n",
      "29/29 [==============================] - 0s 2ms/step - loss: 0.4489 - accuracy: 0.8401 - val_loss: 0.5159 - val_accuracy: 0.7740\n",
      "Epoch 58/1000\n"
     ]
    },
    {
     "name": "stdout",
     "output_type": "stream",
     "text": [
      "29/29 [==============================] - 0s 2ms/step - loss: 0.4463 - accuracy: 0.8407 - val_loss: 0.5144 - val_accuracy: 0.7751\n",
      "Epoch 59/1000\n",
      "29/29 [==============================] - 0s 2ms/step - loss: 0.4439 - accuracy: 0.8412 - val_loss: 0.5131 - val_accuracy: 0.7707\n",
      "Epoch 60/1000\n",
      "29/29 [==============================] - 0s 2ms/step - loss: 0.4414 - accuracy: 0.8434 - val_loss: 0.5117 - val_accuracy: 0.7718\n",
      "Epoch 61/1000\n",
      "29/29 [==============================] - 0s 2ms/step - loss: 0.4390 - accuracy: 0.8445 - val_loss: 0.5105 - val_accuracy: 0.7740\n",
      "Epoch 62/1000\n",
      "29/29 [==============================] - 0s 2ms/step - loss: 0.4366 - accuracy: 0.8467 - val_loss: 0.5092 - val_accuracy: 0.7773\n",
      "Epoch 63/1000\n",
      "29/29 [==============================] - 0s 2ms/step - loss: 0.4343 - accuracy: 0.8479 - val_loss: 0.5081 - val_accuracy: 0.7762\n",
      "Epoch 64/1000\n",
      "29/29 [==============================] - 0s 2ms/step - loss: 0.4320 - accuracy: 0.8473 - val_loss: 0.5069 - val_accuracy: 0.7773\n",
      "Epoch 65/1000\n",
      "29/29 [==============================] - 0s 2ms/step - loss: 0.4297 - accuracy: 0.8484 - val_loss: 0.5057 - val_accuracy: 0.7784\n",
      "Epoch 66/1000\n",
      "29/29 [==============================] - 0s 2ms/step - loss: 0.4275 - accuracy: 0.8490 - val_loss: 0.5046 - val_accuracy: 0.7762\n",
      "Epoch 67/1000\n",
      "29/29 [==============================] - 0s 2ms/step - loss: 0.4253 - accuracy: 0.8512 - val_loss: 0.5036 - val_accuracy: 0.7773\n",
      "Epoch 68/1000\n",
      "29/29 [==============================] - 0s 2ms/step - loss: 0.4232 - accuracy: 0.8506 - val_loss: 0.5027 - val_accuracy: 0.7751\n",
      "Epoch 69/1000\n",
      "29/29 [==============================] - 0s 2ms/step - loss: 0.4211 - accuracy: 0.8512 - val_loss: 0.5017 - val_accuracy: 0.7773\n",
      "Epoch 70/1000\n",
      "29/29 [==============================] - 0s 2ms/step - loss: 0.4190 - accuracy: 0.8523 - val_loss: 0.5008 - val_accuracy: 0.7773\n",
      "Epoch 71/1000\n",
      "29/29 [==============================] - 0s 2ms/step - loss: 0.4170 - accuracy: 0.8528 - val_loss: 0.4998 - val_accuracy: 0.7762\n",
      "Epoch 72/1000\n",
      "29/29 [==============================] - 0s 2ms/step - loss: 0.4151 - accuracy: 0.8528 - val_loss: 0.4991 - val_accuracy: 0.7784\n",
      "Epoch 73/1000\n",
      "29/29 [==============================] - 0s 2ms/step - loss: 0.4131 - accuracy: 0.8517 - val_loss: 0.4982 - val_accuracy: 0.7773\n",
      "Epoch 74/1000\n",
      "29/29 [==============================] - 0s 2ms/step - loss: 0.4111 - accuracy: 0.8512 - val_loss: 0.4974 - val_accuracy: 0.7762\n",
      "Epoch 75/1000\n",
      "29/29 [==============================] - 0s 2ms/step - loss: 0.4093 - accuracy: 0.8523 - val_loss: 0.4967 - val_accuracy: 0.7762\n",
      "Epoch 76/1000\n",
      "29/29 [==============================] - 0s 2ms/step - loss: 0.4074 - accuracy: 0.8523 - val_loss: 0.4959 - val_accuracy: 0.7762\n",
      "Epoch 77/1000\n",
      "29/29 [==============================] - 0s 2ms/step - loss: 0.4056 - accuracy: 0.8523 - val_loss: 0.4952 - val_accuracy: 0.7762\n",
      "Epoch 78/1000\n",
      "29/29 [==============================] - 0s 2ms/step - loss: 0.4038 - accuracy: 0.8528 - val_loss: 0.4946 - val_accuracy: 0.7784\n",
      "Epoch 79/1000\n",
      "29/29 [==============================] - 0s 2ms/step - loss: 0.4020 - accuracy: 0.8556 - val_loss: 0.4938 - val_accuracy: 0.7784\n",
      "Epoch 80/1000\n",
      "29/29 [==============================] - 0s 2ms/step - loss: 0.4003 - accuracy: 0.8556 - val_loss: 0.4932 - val_accuracy: 0.7773\n",
      "Epoch 81/1000\n",
      "29/29 [==============================] - 0s 2ms/step - loss: 0.3986 - accuracy: 0.8556 - val_loss: 0.4926 - val_accuracy: 0.7773\n",
      "Epoch 82/1000\n",
      "29/29 [==============================] - 0s 2ms/step - loss: 0.3969 - accuracy: 0.8556 - val_loss: 0.4920 - val_accuracy: 0.7784\n",
      "Epoch 83/1000\n",
      "29/29 [==============================] - 0s 2ms/step - loss: 0.3952 - accuracy: 0.8545 - val_loss: 0.4914 - val_accuracy: 0.7784\n",
      "Epoch 84/1000\n",
      "29/29 [==============================] - 0s 2ms/step - loss: 0.3936 - accuracy: 0.8550 - val_loss: 0.4909 - val_accuracy: 0.7784\n",
      "Epoch 85/1000\n",
      "29/29 [==============================] - 0s 2ms/step - loss: 0.3920 - accuracy: 0.8545 - val_loss: 0.4903 - val_accuracy: 0.7784\n",
      "Epoch 86/1000\n",
      "29/29 [==============================] - 0s 2ms/step - loss: 0.3904 - accuracy: 0.8539 - val_loss: 0.4899 - val_accuracy: 0.7784\n",
      "Epoch 87/1000\n",
      "29/29 [==============================] - 0s 2ms/step - loss: 0.3888 - accuracy: 0.8561 - val_loss: 0.4895 - val_accuracy: 0.7773\n",
      "Epoch 88/1000\n",
      "29/29 [==============================] - 0s 2ms/step - loss: 0.3873 - accuracy: 0.8561 - val_loss: 0.4890 - val_accuracy: 0.7773\n",
      "Epoch 89/1000\n",
      "29/29 [==============================] - 0s 2ms/step - loss: 0.3858 - accuracy: 0.8578 - val_loss: 0.4887 - val_accuracy: 0.7773\n",
      "Epoch 90/1000\n",
      "29/29 [==============================] - 0s 2ms/step - loss: 0.3844 - accuracy: 0.8583 - val_loss: 0.4882 - val_accuracy: 0.7773\n",
      "Epoch 91/1000\n",
      "29/29 [==============================] - 0s 2ms/step - loss: 0.3829 - accuracy: 0.8605 - val_loss: 0.4878 - val_accuracy: 0.7773\n",
      "Epoch 92/1000\n",
      "29/29 [==============================] - 0s 2ms/step - loss: 0.3814 - accuracy: 0.8594 - val_loss: 0.4875 - val_accuracy: 0.7784\n",
      "Epoch 93/1000\n",
      "29/29 [==============================] - 0s 2ms/step - loss: 0.3800 - accuracy: 0.8583 - val_loss: 0.4871 - val_accuracy: 0.7784\n",
      "Epoch 94/1000\n",
      "29/29 [==============================] - 0s 2ms/step - loss: 0.3786 - accuracy: 0.8589 - val_loss: 0.4868 - val_accuracy: 0.7762\n",
      "Epoch 95/1000\n",
      "29/29 [==============================] - 0s 2ms/step - loss: 0.3772 - accuracy: 0.8605 - val_loss: 0.4866 - val_accuracy: 0.7762\n",
      "Epoch 96/1000\n",
      "29/29 [==============================] - 0s 2ms/step - loss: 0.3758 - accuracy: 0.8605 - val_loss: 0.4862 - val_accuracy: 0.7751\n",
      "Epoch 97/1000\n",
      "29/29 [==============================] - 0s 2ms/step - loss: 0.3745 - accuracy: 0.8605 - val_loss: 0.4859 - val_accuracy: 0.7751\n",
      "Epoch 98/1000\n",
      "29/29 [==============================] - 0s 2ms/step - loss: 0.3732 - accuracy: 0.8616 - val_loss: 0.4855 - val_accuracy: 0.7751\n",
      "Epoch 99/1000\n",
      "29/29 [==============================] - 0s 2ms/step - loss: 0.3719 - accuracy: 0.8622 - val_loss: 0.4854 - val_accuracy: 0.7751\n",
      "Epoch 100/1000\n",
      "29/29 [==============================] - 0s 2ms/step - loss: 0.3706 - accuracy: 0.8622 - val_loss: 0.4851 - val_accuracy: 0.7740\n",
      "Epoch 101/1000\n",
      "29/29 [==============================] - 0s 2ms/step - loss: 0.3693 - accuracy: 0.8622 - val_loss: 0.4849 - val_accuracy: 0.7751\n",
      "Epoch 102/1000\n",
      "29/29 [==============================] - 0s 2ms/step - loss: 0.3680 - accuracy: 0.8622 - val_loss: 0.4846 - val_accuracy: 0.7740\n",
      "Epoch 103/1000\n",
      "29/29 [==============================] - 0s 2ms/step - loss: 0.3668 - accuracy: 0.8627 - val_loss: 0.4845 - val_accuracy: 0.7729\n",
      "Epoch 104/1000\n",
      "29/29 [==============================] - 0s 2ms/step - loss: 0.3656 - accuracy: 0.8633 - val_loss: 0.4842 - val_accuracy: 0.7729\n",
      "Epoch 105/1000\n",
      "29/29 [==============================] - 0s 2ms/step - loss: 0.3643 - accuracy: 0.8633 - val_loss: 0.4841 - val_accuracy: 0.7729\n",
      "Epoch 106/1000\n",
      "29/29 [==============================] - 0s 2ms/step - loss: 0.3631 - accuracy: 0.8649 - val_loss: 0.4840 - val_accuracy: 0.7729\n",
      "Epoch 107/1000\n",
      "29/29 [==============================] - 0s 2ms/step - loss: 0.3619 - accuracy: 0.8638 - val_loss: 0.4838 - val_accuracy: 0.7729\n",
      "Epoch 108/1000\n",
      "29/29 [==============================] - 0s 2ms/step - loss: 0.3608 - accuracy: 0.8638 - val_loss: 0.4836 - val_accuracy: 0.7729\n",
      "Epoch 109/1000\n",
      "29/29 [==============================] - 0s 2ms/step - loss: 0.3597 - accuracy: 0.8638 - val_loss: 0.4835 - val_accuracy: 0.7729\n",
      "Epoch 110/1000\n",
      "29/29 [==============================] - 0s 2ms/step - loss: 0.3585 - accuracy: 0.8649 - val_loss: 0.4834 - val_accuracy: 0.7729\n",
      "Epoch 111/1000\n",
      "29/29 [==============================] - 0s 2ms/step - loss: 0.3574 - accuracy: 0.8655 - val_loss: 0.4834 - val_accuracy: 0.7729\n",
      "Epoch 112/1000\n",
      "29/29 [==============================] - 0s 2ms/step - loss: 0.3562 - accuracy: 0.8655 - val_loss: 0.4833 - val_accuracy: 0.7729\n",
      "Epoch 113/1000\n",
      "29/29 [==============================] - 0s 2ms/step - loss: 0.3551 - accuracy: 0.8649 - val_loss: 0.4833 - val_accuracy: 0.7740\n",
      "Epoch 114/1000\n",
      "29/29 [==============================] - 0s 2ms/step - loss: 0.3540 - accuracy: 0.8660 - val_loss: 0.4832 - val_accuracy: 0.7740\n",
      "Epoch 115/1000\n"
     ]
    },
    {
     "name": "stdout",
     "output_type": "stream",
     "text": [
      "29/29 [==============================] - 0s 2ms/step - loss: 0.3529 - accuracy: 0.8666 - val_loss: 0.4832 - val_accuracy: 0.7740\n",
      "Epoch 116/1000\n",
      "29/29 [==============================] - 0s 2ms/step - loss: 0.3519 - accuracy: 0.8660 - val_loss: 0.4830 - val_accuracy: 0.7740\n",
      "Epoch 117/1000\n",
      "29/29 [==============================] - 0s 2ms/step - loss: 0.3508 - accuracy: 0.8655 - val_loss: 0.4830 - val_accuracy: 0.7751\n",
      "Epoch 118/1000\n",
      "29/29 [==============================] - 0s 2ms/step - loss: 0.3498 - accuracy: 0.8655 - val_loss: 0.4829 - val_accuracy: 0.7762\n",
      "Epoch 119/1000\n",
      "29/29 [==============================] - 0s 2ms/step - loss: 0.3487 - accuracy: 0.8660 - val_loss: 0.4829 - val_accuracy: 0.7751\n",
      "Epoch 120/1000\n",
      "29/29 [==============================] - 0s 2ms/step - loss: 0.3477 - accuracy: 0.8660 - val_loss: 0.4829 - val_accuracy: 0.7751\n",
      "Epoch 121/1000\n",
      "29/29 [==============================] - 0s 2ms/step - loss: 0.3467 - accuracy: 0.8666 - val_loss: 0.4828 - val_accuracy: 0.7751\n",
      "Epoch 122/1000\n",
      "29/29 [==============================] - 0s 2ms/step - loss: 0.3457 - accuracy: 0.8660 - val_loss: 0.4828 - val_accuracy: 0.7751\n",
      "Epoch 123/1000\n",
      "29/29 [==============================] - 0s 2ms/step - loss: 0.3447 - accuracy: 0.8671 - val_loss: 0.4828 - val_accuracy: 0.7751\n",
      "Epoch 124/1000\n",
      "29/29 [==============================] - 0s 2ms/step - loss: 0.3437 - accuracy: 0.8671 - val_loss: 0.4827 - val_accuracy: 0.7751\n",
      "Epoch 125/1000\n",
      "29/29 [==============================] - 0s 2ms/step - loss: 0.3427 - accuracy: 0.8682 - val_loss: 0.4829 - val_accuracy: 0.7762\n",
      "Epoch 126/1000\n",
      "29/29 [==============================] - 0s 2ms/step - loss: 0.3418 - accuracy: 0.8682 - val_loss: 0.4828 - val_accuracy: 0.7762\n",
      "Epoch 127/1000\n",
      "29/29 [==============================] - 0s 2ms/step - loss: 0.3408 - accuracy: 0.8693 - val_loss: 0.4829 - val_accuracy: 0.7762\n",
      "Epoch 128/1000\n",
      "29/29 [==============================] - 0s 2ms/step - loss: 0.3398 - accuracy: 0.8699 - val_loss: 0.4829 - val_accuracy: 0.7751\n",
      "Epoch 129/1000\n",
      "29/29 [==============================] - 0s 2ms/step - loss: 0.3389 - accuracy: 0.8688 - val_loss: 0.4830 - val_accuracy: 0.7740\n",
      "Epoch 130/1000\n",
      "29/29 [==============================] - 0s 2ms/step - loss: 0.3380 - accuracy: 0.8693 - val_loss: 0.4831 - val_accuracy: 0.7740\n",
      "Epoch 131/1000\n",
      "29/29 [==============================] - 0s 2ms/step - loss: 0.3371 - accuracy: 0.8693 - val_loss: 0.4832 - val_accuracy: 0.7740\n",
      "Epoch 132/1000\n",
      "29/29 [==============================] - 0s 2ms/step - loss: 0.3361 - accuracy: 0.8699 - val_loss: 0.4832 - val_accuracy: 0.7740\n",
      "Epoch 133/1000\n",
      "29/29 [==============================] - 0s 2ms/step - loss: 0.3352 - accuracy: 0.8699 - val_loss: 0.4833 - val_accuracy: 0.7751\n",
      "Epoch 134/1000\n",
      "29/29 [==============================] - 0s 2ms/step - loss: 0.3343 - accuracy: 0.8699 - val_loss: 0.4835 - val_accuracy: 0.7740\n",
      "Epoch 135/1000\n",
      "29/29 [==============================] - 0s 2ms/step - loss: 0.3334 - accuracy: 0.8699 - val_loss: 0.4836 - val_accuracy: 0.7729\n",
      "Epoch 136/1000\n",
      "29/29 [==============================] - 0s 2ms/step - loss: 0.3325 - accuracy: 0.8699 - val_loss: 0.4836 - val_accuracy: 0.7740\n",
      "Epoch 137/1000\n",
      "29/29 [==============================] - 0s 2ms/step - loss: 0.3317 - accuracy: 0.8710 - val_loss: 0.4837 - val_accuracy: 0.7740\n",
      "Epoch 138/1000\n",
      "29/29 [==============================] - 0s 2ms/step - loss: 0.3308 - accuracy: 0.8710 - val_loss: 0.4838 - val_accuracy: 0.7740\n",
      "Epoch 139/1000\n",
      "29/29 [==============================] - 0s 2ms/step - loss: 0.3300 - accuracy: 0.8710 - val_loss: 0.4840 - val_accuracy: 0.7740\n",
      "Epoch 140/1000\n",
      "29/29 [==============================] - 0s 2ms/step - loss: 0.3291 - accuracy: 0.8716 - val_loss: 0.4842 - val_accuracy: 0.7740\n",
      "Epoch 141/1000\n",
      "29/29 [==============================] - 0s 1ms/step - loss: 0.3282 - accuracy: 0.8716 - val_loss: 0.4843 - val_accuracy: 0.7729\n",
      "Epoch 142/1000\n",
      "29/29 [==============================] - 0s 2ms/step - loss: 0.3274 - accuracy: 0.8727 - val_loss: 0.4845 - val_accuracy: 0.7740\n",
      "Epoch 143/1000\n",
      "29/29 [==============================] - 0s 2ms/step - loss: 0.3265 - accuracy: 0.8721 - val_loss: 0.4846 - val_accuracy: 0.7740\n",
      "Epoch 144/1000\n",
      "29/29 [==============================] - 0s 2ms/step - loss: 0.3257 - accuracy: 0.8716 - val_loss: 0.4847 - val_accuracy: 0.7740\n"
     ]
    }
   ],
   "source": [
    "history = nn.model.fit(\n",
    "    x=X_train, \n",
    "    y=y_train,\n",
    "    batch_size=64,\n",
    "    epochs=1000,\n",
    "    verbose=1,\n",
    "    validation_data=(X_val, y_val),\n",
    "    shuffle=True,\n",
    "    callbacks=[tensorflow.keras.callbacks.EarlyStopping(\n",
    "    restore_best_weights=True,\n",
    "    patience=20\n",
    "        )]\n",
    ")"
   ]
  },
  {
   "cell_type": "code",
   "execution_count": 20,
   "metadata": {
    "colab": {
     "base_uri": "https://localhost:8080/",
     "height": 295
    },
    "id": "to8ynCJUB1QC",
    "outputId": "cbe47f19-fa3e-44e4-ac78-8d6c2a21643a"
   },
   "outputs": [
    {
     "data": {
      "image/png": "[encoded data removed]",
      "text/plain": [
       "<Figure size 640x480 with 1 Axes>"
      ]
     },
     "metadata": {},
     "output_type": "display_data"
    }
   ],
   "source": [
    "plt.title('Accuracy during training')\n",
    "plt.plot(range(len(history.history['loss'])), history.history['accuracy'], label='training accuracy', color='green')\n",
    "plt.plot(range(len(history.history['loss'])), history.history['val_accuracy'], label='validation accuracy', color='red')\n",
    "plt.grid(color='gray', linewidth=.4)\n",
    "\n",
    "plt.legend(loc=\"lower right\")\n",
    "plt.xlabel(\"epochs\")\n",
    "plt.ylabel(\"accuracy\")\n",
    "plt.xlim(0, len(history.history['loss'])+1)\n",
    "plt.ylim(.45, 1.)\n",
    "plt.savefig('acc.png')"
   ]
  },
  {
   "cell_type": "code",
   "execution_count": 21,
   "metadata": {
    "colab": {
     "base_uri": "https://localhost:8080/",
     "height": 295
    },
    "id": "L2gFo_gLB4Dc",
    "outputId": "60eb7c90-3290-4006-f55e-dd22d3c2bf56"
   },
   "outputs": [
    {
     "data": {
      "image/png": "[encoded data removed]",
      "text/plain": [
       "<Figure size 640x480 with 1 Axes>"
      ]
     },
     "metadata": {},
     "output_type": "display_data"
    }
   ],
   "source": [
    "plt.title('Loss during training')\n",
    "plt.plot(range(len(history.history['loss'])), history.history['loss'], label='training loss', color='green')\n",
    "plt.plot(range(len(history.history['loss'])), history.history['val_loss'], label='validation loss', color='red')\n",
    "plt.grid(color='gray', linewidth=.4)\n",
    "\n",
    "plt.legend(loc=\"upper right\")\n",
    "plt.xlabel(\"epochs\")\n",
    "plt.ylabel(\"loss\")\n",
    "plt.savefig('loss.png')"
   ]
  },
  {
   "cell_type": "code",
   "execution_count": 22,
   "metadata": {
    "colab": {
     "base_uri": "https://localhost:8080/"
    },
    "id": "k3zkL_DUB52B",
    "outputId": "8a4bc362-fadd-4bf3-fc22-66b9a80dceab"
   },
   "outputs": [
    {
     "name": "stdout",
     "output_type": "stream",
     "text": [
      "29/29 [==============================] - 0s 710us/step - loss: 0.5180 - accuracy: 0.7475\n"
     ]
    },
    {
     "data": {
      "text/plain": [
       "[0.5180376768112183, 0.747519314289093]"
      ]
     },
     "execution_count": 22,
     "metadata": {},
     "output_type": "execute_result"
    }
   ],
   "source": [
    "nn.model.evaluate(x=X_test, y=y_test)"
   ]
  },
  {
   "cell_type": "code",
   "execution_count": 23,
   "metadata": {
    "id": "49fcjVFUB79k"
   },
   "outputs": [],
   "source": [
    "nn.model.save('vcm.h5')"
   ]
  },
  {
   "cell_type": "markdown",
   "metadata": {
    "id": "57LZ_fI59-Tk"
   },
   "source": [
    "### Check performace on negative and positive classes"
   ]
  },
  {
   "cell_type": "code",
   "execution_count": 24,
   "metadata": {
    "colab": {
     "base_uri": "https://localhost:8080/",
     "height": 0
    },
    "id": "vVhjh964zo0i",
    "outputId": "2a867053-d51e-4f8e-dade-75adf4495f1d"
   },
   "outputs": [
    {
     "data": {
      "text/plain": [
       "\"\\npos_dataset_test = [[] for array in range(len(datasets_test))]\\nfor array in range(len(datasets_test)):\\n    for item, i in zip(datasets_test[array], y_test):\\n        if i == 1:\\n            pos_dataset_test[array].append(list(item))\\nfor i in range(5):\\n    pos_dataset_test[i]=numpy.array(pos_dataset_test[i])\\ny_pos_test = numpy.array([1. for _ in range(len(pos_dataset_test[0]))])\\n\\nneg_dataset_test = [[] for array in range(len(datasets_test))]\\nfor array in range(len(datasets_test)):\\n    for item, i in zip(datasets_test[array], y_test):\\n        if i == 0:\\n            neg_dataset_test[array].append(list(item))\\nfor i in range(5):\\n    neg_dataset_test[i]=numpy.array(neg_dataset_test[i])\\ny_neg_test = numpy.array([0. for _ in range(len(neg_dataset_test[0]))])\\n\\npos_perf = nn.model.evaluate(x=pos_dataset_test, y=y_pos_test)\\nneg_perf = nn.model.evaluate(x=neg_dataset_test, y=y_neg_test)\\nprint('Accuracy on POSITIVE classes:', pos_perf[1])\\nprint('Accuracy on NEGATIVE classes:', neg_perf[1])\\n\\n\""
      ]
     },
     "execution_count": 24,
     "metadata": {},
     "output_type": "execute_result"
    }
   ],
   "source": [
    "'''\n",
    "pos_dataset_test = [[] for array in range(len(datasets_test))]\n",
    "for array in range(len(datasets_test)):\n",
    "    for item, i in zip(datasets_test[array], y_test):\n",
    "        if i == 1:\n",
    "            pos_dataset_test[array].append(list(item))\n",
    "for i in range(5):\n",
    "    pos_dataset_test[i]=numpy.array(pos_dataset_test[i])\n",
    "y_pos_test = numpy.array([1. for _ in range(len(pos_dataset_test[0]))])\n",
    "\n",
    "neg_dataset_test = [[] for array in range(len(datasets_test))]\n",
    "for array in range(len(datasets_test)):\n",
    "    for item, i in zip(datasets_test[array], y_test):\n",
    "        if i == 0:\n",
    "            neg_dataset_test[array].append(list(item))\n",
    "for i in range(5):\n",
    "    neg_dataset_test[i]=numpy.array(neg_dataset_test[i])\n",
    "y_neg_test = numpy.array([0. for _ in range(len(neg_dataset_test[0]))])\n",
    "\n",
    "pos_perf = nn.model.evaluate(x=pos_dataset_test, y=y_pos_test)\n",
    "neg_perf = nn.model.evaluate(x=neg_dataset_test, y=y_neg_test)\n",
    "print('Accuracy on POSITIVE classes:', pos_perf[1])\n",
    "print('Accuracy on NEGATIVE classes:', neg_perf[1])\n",
    "\n",
    "'''"
   ]
  }
 ],
 "metadata": {
  "colab": {
   "collapsed_sections": [
    "5_qRAUKplhNa",
    "57LZ_fI59-Tk"
   ],
   "provenance": []
  },
  "kernelspec": {
   "display_name": "Python 3 (ipykernel)",
   "language": "python",
   "name": "python3"
  },
  "language_info": {
   "codemirror_mode": {
    "name": "ipython",
    "version": 3
   },
   "file_extension": ".py",
   "mimetype": "text/x-python",
   "name": "python",
   "nbconvert_exporter": "python",
   "pygments_lexer": "ipython3",
   "version": "3.8.13"
  }
 },
 "nbformat": 4,
 "nbformat_minor": 1
}
