{
 "cells": [
  {
   "cell_type": "code",
   "execution_count": 1,
   "metadata": {
    "id": "ezfZzH9lnDl3"
   },
   "outputs": [],
   "source": [
    "%%capture\n",
    "!pip install Biopython\n",
    "!rm -r iFeature\n",
    "!git clone https://github.com/Superzchen/iFeature\n",
    "!git clone https://github.com/nicolagulmini/virulent_factor_classification.git\n",
    "!pip install visualkeras\n",
    "\n",
    "import numpy\n",
    "import tensorflow\n",
    "from tensorflow import keras\n",
    "import matplotlib.pyplot as plt\n",
    "from Bio import SeqIO\n"
   ]
  },
  {
   "cell_type": "code",
   "execution_count": 1,
   "metadata": {},
   "outputs": [
    {
     "name": "stderr",
     "output_type": "stream",
     "text": [
      "2023-02-01 19:06:55.868983: I tensorflow/core/platform/cpu_feature_guard.cc:193] This TensorFlow binary is optimized with oneAPI Deep Neural Network Library (oneDNN) to use the following CPU instructions in performance-critical operations:  AVX2 AVX512F AVX512_VNNI FMA\n",
      "To enable them in other operations, rebuild TensorFlow with the appropriate compiler flags.\n",
      "2023-02-01 19:06:55.994143: I tensorflow/core/util/util.cc:169] oneDNN custom operations are on. You may see slightly different numerical results due to floating-point round-off errors from different computation orders. To turn them off, set the environment variable `TF_ENABLE_ONEDNN_OPTS=0`.\n",
      "2023-02-01 19:06:55.998089: W tensorflow/stream_executor/platform/default/dso_loader.cc:64] Could not load dynamic library 'libcudart.so.11.0'; dlerror: libcudart.so.11.0: cannot open shared object file: No such file or directory\n",
      "2023-02-01 19:06:55.998100: I tensorflow/stream_executor/cuda/cudart_stub.cc:29] Ignore above cudart dlerror if you do not have a GPU set up on your machine.\n",
      "2023-02-01 19:06:56.017315: E tensorflow/stream_executor/cuda/cuda_blas.cc:2981] Unable to register cuBLAS factory: Attempting to register factory for plugin cuBLAS when one has already been registered\n",
      "2023-02-01 19:06:56.460717: W tensorflow/stream_executor/platform/default/dso_loader.cc:64] Could not load dynamic library 'libnvinfer.so.7'; dlerror: libnvinfer.so.7: cannot open shared object file: No such file or directory\n",
      "2023-02-01 19:06:56.460769: W tensorflow/stream_executor/platform/default/dso_loader.cc:64] Could not load dynamic library 'libnvinfer_plugin.so.7'; dlerror: libnvinfer_plugin.so.7: cannot open shared object file: No such file or directory\n",
      "2023-02-01 19:06:56.460773: W tensorflow/compiler/tf2tensorrt/utils/py_utils.cc:38] TF-TRT Warning: Cannot dlopen some TensorRT libraries. If you would like to use Nvidia GPU with TensorRT, please make sure the missing libraries mentioned above are installed properly.\n"
     ]
    }
   ],
   "source": [
    "import numpy\n",
    "import tensorflow\n",
    "from tensorflow import keras\n",
    "import matplotlib.pyplot as plt\n",
    "from Bio import SeqIO\n"
   ]
  },
  {
   "cell_type": "markdown",
   "metadata": {
    "id": "5_qRAUKplhNa"
   },
   "source": [
    "### Following [this](https://doi.org/10.1093/bib/bbv082) on dataset preparation a treshold of 60% identity have been chosen for a clustering with [CD-hit](http://weizhong-lab.ucsd.edu/cdhit-web-server/cgi-bin/index.cgi?cmd=cd-hit) "
   ]
  },
  {
   "cell_type": "code",
   "execution_count": 2,
   "metadata": {
    "colab": {
     "base_uri": "https://localhost:8080/",
     "height": 0
    },
    "id": "ICidQQboZ-Du",
    "outputId": "fecf22ec-6cbe-4286-9ca7-6c45615662d8"
   },
   "outputs": [
    {
     "data": {
      "application/vnd.google.colaboratory.intrinsic+json": {
       "type": "string"
      },
      "text/plain": [
       "\"\\n# parse CD-Hit data\\ninfile = open('virulent_factor_classification/new_datasets_cleaned/pos_fasta_60', 'r').readlines()\\npos_ids = []\\nfor element in str(infile).split('>'):\\n    for seq in element.split('\\n'):\\n        if '*' in seq:\\n            pos_ids.append(seq.split('|')[0][:-3])\\ninfile = open('virulent_factor_classification/new_datasets_cleaned/neg_fasta_60', 'r').readlines()\\nneg_ids = []\\nfor element in str(infile).split('>'):\\n    for seq in element.split('\\n'):\\n        if '*' in seq:\\n            neg_ids.append(seq.split('|')[1])\\n\\nprint(len(neg_ids))\\nprint(len(pos_ids))\\n\\nlimit = min(len(neg_ids), len(pos_ids))\\n\\n# clean sequence data\\npos_seqs = list(SeqIO.parse('./virulent_factor_classification/new_datasets/positive/pos.fasta', 'fasta'))\\ncleaned_pos_seqs = [entry for entry in pos_seqs if str(entry.id.split('(')[0]) in str(pos_ids)]\\n\\nneg_seqs = list(SeqIO.parse('./virulent_factor_classification/new_datasets/negative/neg.fasta', 'fasta'))\\ncleaned_neg_seqs = [entry for entry in neg_seqs if str(entry.id.split('|')[1]) in str(neg_ids)]\\n\\n# match lengths\\ncleaned_pos_seqs = cleaned_pos_seqs[:limit] \\ncleaned_neg_seqs = cleaned_neg_seqs[:limit]\\nprint('len of pos dataset:', len(cleaned_pos_seqs))\\nprint('len of neg dataset:', len(cleaned_neg_seqs))\\n\\n# rewrite fasta files\\ndef writer(fasta_list, outfile_name):\\n    outfile = open(outfile_name, 'w')\\n    for entry in fasta_list:\\n        outfile.write('>'+str(entry.id)+'\\n')\\n        outfile.write(str(entry.seq)+'\\n')\\n\\nwriter(cleaned_pos_seqs, 'cleaned_pos.fasta')\\nwriter(cleaned_neg_seqs, 'cleaned_neg.fasta')\\n\""
      ]
     },
     "execution_count": 2,
     "metadata": {},
     "output_type": "execute_result"
    }
   ],
   "source": [
    "'''\n",
    "# parse CD-Hit data\n",
    "infile = open('virulent_factor_classification/new_datasets_cleaned/pos_fasta_60', 'r').readlines()\n",
    "pos_ids = []\n",
    "for element in str(infile).split('>'):\n",
    "    for seq in element.split('\\n'):\n",
    "        if '*' in seq:\n",
    "            pos_ids.append(seq.split('|')[0][:-3])\n",
    "infile = open('virulent_factor_classification/new_datasets_cleaned/neg_fasta_60', 'r').readlines()\n",
    "neg_ids = []\n",
    "for element in str(infile).split('>'):\n",
    "    for seq in element.split('\\n'):\n",
    "        if '*' in seq:\n",
    "            neg_ids.append(seq.split('|')[1])\n",
    "\n",
    "print(len(neg_ids))\n",
    "print(len(pos_ids))\n",
    "\n",
    "limit = min(len(neg_ids), len(pos_ids))\n",
    "\n",
    "# clean sequence data\n",
    "pos_seqs = list(SeqIO.parse('./virulent_factor_classification/new_datasets/positive/pos.fasta', 'fasta'))\n",
    "cleaned_pos_seqs = [entry for entry in pos_seqs if str(entry.id.split('(')[0]) in str(pos_ids)]\n",
    "\n",
    "neg_seqs = list(SeqIO.parse('./virulent_factor_classification/new_datasets/negative/neg.fasta', 'fasta'))\n",
    "cleaned_neg_seqs = [entry for entry in neg_seqs if str(entry.id.split('|')[1]) in str(neg_ids)]\n",
    "\n",
    "# match lengths\n",
    "cleaned_pos_seqs = cleaned_pos_seqs[:limit] \n",
    "cleaned_neg_seqs = cleaned_neg_seqs[:limit]\n",
    "print('len of pos dataset:', len(cleaned_pos_seqs))\n",
    "print('len of neg dataset:', len(cleaned_neg_seqs))\n",
    "\n",
    "# rewrite fasta files\n",
    "def writer(fasta_list, outfile_name):\n",
    "    outfile = open(outfile_name, 'w')\n",
    "    for entry in fasta_list:\n",
    "        outfile.write('>'+str(entry.id)+'\\n')\n",
    "        outfile.write(str(entry.seq)+'\\n')\n",
    "\n",
    "writer(cleaned_pos_seqs, 'cleaned_pos.fasta')\n",
    "writer(cleaned_neg_seqs, 'cleaned_neg.fasta')\n",
    "'''\n",
    "# already done"
   ]
  },
  {
   "cell_type": "markdown",
   "metadata": {
    "id": "IOUs84rp-GwW"
   },
   "source": [
    "Now, remove antigens from datasets in order to overcome NERVE overfitting"
   ]
  },
  {
   "cell_type": "code",
   "execution_count": 3,
   "metadata": {
    "id": "lzqfmP8o9_NB"
   },
   "outputs": [],
   "source": [
    "# Remove proteins with over 60% "
   ]
  },
  {
   "cell_type": "markdown",
   "metadata": {
    "id": "afQpOFWT-B2C"
   },
   "source": [
    "# Pipeline"
   ]
  },
  {
   "cell_type": "code",
   "execution_count": 4,
   "metadata": {
    "colab": {
     "base_uri": "https://localhost:8080/",
     "height": 178
    },
    "id": "os-KrM89Cf6S",
    "outputId": "7806f9de-565f-4048-d168-eb91c2157f89"
   },
   "outputs": [
    {
     "data": {
      "application/vnd.google.colaboratory.intrinsic+json": {
       "type": "string"
      },
      "text/plain": [
       "'\\n!python iFeature/iFeature.py --file ./virulent_factor_classification/data/25_similarity/pos_25.fasta --type AAC --out aac_cleaned_pos.out    # amino acids composition\\n!python iFeature/iFeature.py --file ./virulent_factor_classification/data/25_similarity/pos_25.fasta --type DPC --out dpc_cleaned_pos.out    # dipeptide composition\\n!python iFeature/iFeature.py --file ./virulent_factor_classification/data/25_similarity/pos_25.fasta --type CTDC --out ctdc_cleaned_pos.out  # composition\\n!python iFeature/iFeature.py --file ./virulent_factor_classification/data/25_similarity/pos_25.fasta --type CTDT --out ctdt_cleaned_pos.out  # transition\\n!python iFeature/iFeature.py --file ./virulent_factor_classification/data/25_similarity/pos_25.fasta --type CTDD --out ctdd_cleaned_pos.out  # distribution\\n\\nprint(\"pos: DONE!\")\\n\\n!python iFeature/iFeature.py --file ./virulent_factor_classification/data/25_similarity/neg_25.fasta --type AAC --out aac_cleaned_neg.out    # amino acids composition\\n!python iFeature/iFeature.py --file ./virulent_factor_classification/data/25_similarity/neg_25.fasta --type DPC --out dpc_cleaned_neg.out    # dipeptide composition\\n!python iFeature/iFeature.py --file ./virulent_factor_classification/data/25_similarity/neg_25.fasta --type CTDC --out ctdc_cleaned_neg.out  # composition\\n!python iFeature/iFeature.py --file ./virulent_factor_classification/data/25_similarity/neg_25.fasta --type CTDT --out ctdt_cleaned_neg.out  # transition\\n!python iFeature/iFeature.py --file ./virulent_factor_classification/data/25_similarity/neg_25.fasta --type CTDD --out ctdd_cleaned_neg.out  # distribution\\n\\nprint(\"neg: DONE!\")\\n'"
      ]
     },
     "execution_count": 4,
     "metadata": {},
     "output_type": "execute_result"
    }
   ],
   "source": [
    "'''\n",
    "!python iFeature/iFeature.py --file ./virulent_factor_classification/data/25_similarity/pos_25.fasta --type AAC --out aac_cleaned_pos.out    # amino acids composition\n",
    "!python iFeature/iFeature.py --file ./virulent_factor_classification/data/25_similarity/pos_25.fasta --type DPC --out dpc_cleaned_pos.out    # dipeptide composition\n",
    "!python iFeature/iFeature.py --file ./virulent_factor_classification/data/25_similarity/pos_25.fasta --type CTDC --out ctdc_cleaned_pos.out  # composition\n",
    "!python iFeature/iFeature.py --file ./virulent_factor_classification/data/25_similarity/pos_25.fasta --type CTDT --out ctdt_cleaned_pos.out  # transition\n",
    "!python iFeature/iFeature.py --file ./virulent_factor_classification/data/25_similarity/pos_25.fasta --type CTDD --out ctdd_cleaned_pos.out  # distribution\n",
    "\n",
    "print(\"pos: DONE!\")\n",
    "\n",
    "!python iFeature/iFeature.py --file ./virulent_factor_classification/data/25_similarity/neg_25.fasta --type AAC --out aac_cleaned_neg.out    # amino acids composition\n",
    "!python iFeature/iFeature.py --file ./virulent_factor_classification/data/25_similarity/neg_25.fasta --type DPC --out dpc_cleaned_neg.out    # dipeptide composition\n",
    "!python iFeature/iFeature.py --file ./virulent_factor_classification/data/25_similarity/neg_25.fasta --type CTDC --out ctdc_cleaned_neg.out  # composition\n",
    "!python iFeature/iFeature.py --file ./virulent_factor_classification/data/25_similarity/neg_25.fasta --type CTDT --out ctdt_cleaned_neg.out  # transition\n",
    "!python iFeature/iFeature.py --file ./virulent_factor_classification/data/25_similarity/neg_25.fasta --type CTDD --out ctdd_cleaned_neg.out  # distribution\n",
    "\n",
    "print(\"neg: DONE!\")\n",
    "'''\n",
    "# already done"
   ]
  },
  {
   "cell_type": "code",
   "execution_count": 2,
   "metadata": {
    "id": "IXLoKnrvsMK-"
   },
   "outputs": [],
   "source": [
    "def from_files_to_vectors(fasta_path, positive=True):\n",
    "    if positive:\n",
    "        proteins = list(SeqIO.parse(fasta_path+'pos_25.fasta', \"fasta\"))\n",
    "    else:\n",
    "        proteins = list(SeqIO.parse(fasta_path+'neg_25.fasta', \"fasta\"))\n",
    "    extension = \".out\"\n",
    "    files = [\"aac\", \"dpc\", \"ctdc\", \"ctdt\", \"ctdd\"]\n",
    "    if positive:\n",
    "        names = \"_cleaned_pos\"\n",
    "    else:\n",
    "        names = \"_cleaned_neg\"\n",
    "    for i in range(len(files)):\n",
    "        files[i] += names\n",
    "    datasets = [[] for el in files]\n",
    "    for i in range(len(files)):\n",
    "        with open(fasta_path+files[i]+extension) as f:\n",
    "            lines = f.readlines()[1:]\n",
    "            check_prot = 0\n",
    "            for line in lines:\n",
    "                information = line.split('\\t')\n",
    "                if not information[0] == proteins[check_prot].id:\n",
    "                    print(\"Error in protein order! Return\")\n",
    "                    return datasets\n",
    "                datasets[i].append(numpy.array([float(el) for el in information[1:]]))\n",
    "                check_prot += 1\n",
    "        datasets[i] = numpy.array(datasets[i])\n",
    "    return datasets"
   ]
  },
  {
   "cell_type": "code",
   "execution_count": 3,
   "metadata": {
    "id": "qwYSUH_r2Pw6"
   },
   "outputs": [],
   "source": [
    "pos_datasets = from_files_to_vectors(\"./data/25_similarity/pos/\", positive=True)\n",
    "neg_datasets = from_files_to_vectors(\"./data/25_similarity/neg/\", positive=False)\n",
    "\n",
    "y_pos = numpy.ones(pos_datasets[0].shape[0])\n",
    "y_neg = numpy.zeros(neg_datasets[0].shape[0])"
   ]
  },
  {
   "cell_type": "code",
   "execution_count": 4,
   "metadata": {
    "colab": {
     "base_uri": "https://localhost:8080/"
    },
    "id": "n6ugvKCJ_SQU",
    "outputId": "69aa8c5a-af07-44c5-ea0a-96069b80cfb7"
   },
   "outputs": [
    {
     "name": "stdout",
     "output_type": "stream",
     "text": [
      "Virulent: 1850\n",
      "NON Virulent: 1817\n",
      "1 -th feature dim: 20\n",
      "2 -th feature dim: 400\n",
      "3 -th feature dim: 39\n",
      "4 -th feature dim: 39\n",
      "5 -th feature dim: 195\n",
      "Data matrix dimension: (3667, 693)\n"
     ]
    }
   ],
   "source": [
    "# attach datasets in order to obtain a matrix of (n, 20+400+39+39+195) features\n",
    "\n",
    "# keep in mind the number of virulent factors and the number of not virulent factors\n",
    "rows = 0\n",
    "n_pos = y_pos.shape[0]\n",
    "n_neg = y_neg.shape[0]\n",
    "rows = n_pos + n_neg\n",
    "print('Virulent:', n_pos)\n",
    "print('NON Virulent:', n_neg)\n",
    "\n",
    "# feature vectors dimensions\n",
    "columns = 0\n",
    "for i in range(len(pos_datasets)):\n",
    "    tmp_dim = pos_datasets[i].shape[1]\n",
    "    print(i+1, '-th feature dim:', tmp_dim)\n",
    "    columns += tmp_dim\n",
    "\n",
    "# data matrix to process\n",
    "X = numpy.zeros((rows, columns))\n",
    "print('Data matrix dimension:', X.shape)\n",
    "for i in range(n_pos):\n",
    "    X[i] = numpy.concatenate([pos_datasets[j][i] for j in range(5)])\n",
    "for i in range(n_neg):\n",
    "    X[n_pos+i] = numpy.concatenate([neg_datasets[j][i] for j in range(5)])"
   ]
  },
  {
   "cell_type": "code",
   "execution_count": 5,
   "metadata": {
    "id": "QxfYFLoS_hai"
   },
   "outputs": [],
   "source": [
    "# permutation\n",
    "numpy.random.seed(42)\n",
    "\n",
    "y = numpy.concatenate((y_pos, y_neg), axis=0)\n",
    "c = numpy.random.permutation(numpy.arange(y.shape[0]))\n",
    "y = y[c]\n",
    "X = X[c] "
   ]
  },
  {
   "cell_type": "code",
   "execution_count": 6,
   "metadata": {
    "colab": {
     "base_uri": "https://localhost:8080/"
    },
    "id": "ZzpCOTgl_o9A",
    "outputId": "538f9805-1ed4-4bc4-fcc4-be1ad9b9b154"
   },
   "outputs": [
    {
     "name": "stdout",
     "output_type": "stream",
     "text": [
      "Training data shape: (1833, 693) (1833,)\n",
      "Validation data shape: (917, 693) (917,)\n",
      "Test data shape: (917, 693) (917,)\n",
      "\n",
      "Training virulent factors and not-virulent factors: 944 889\n",
      "Validation virulent factors and not-virulent factors: 442 475\n",
      "Test virulent factors and not-virulent factors: 464 453\n"
     ]
    }
   ],
   "source": [
    "# remember: standardization or scaling AFTER train-test split, otherwise there's data leakage!!!\n",
    "X_train = X[:int(X.shape[0]*.5)]\n",
    "X_val = X[int(X.shape[0]*.5):int(X.shape[0]*.75)]\n",
    "X_test = X[int(X.shape[0]*.75):]\n",
    "\n",
    "y_train = y[:int(y.shape[0]*.5)]\n",
    "y_val = y[int(y.shape[0]*.5):int(y.shape[0]*.75)]\n",
    "y_test = y[int(y.shape[0]*.75):]\n",
    "\n",
    "print('Training data shape:', X_train.shape, y_train.shape)\n",
    "print('Validation data shape:', X_val.shape, y_val.shape)\n",
    "print('Test data shape:', X_test.shape, y_test.shape)\n",
    "\n",
    "print('\\nTraining virulent factors and not-virulent factors:', int(sum(y_train)), int(y_train.shape[0]-sum(y_train)))\n",
    "print('Validation virulent factors and not-virulent factors:', int(sum(y_val)), int(y_val.shape[0]-sum(y_val)))\n",
    "print('Test virulent factors and not-virulent factors:', int(sum(y_test)), int(y_test.shape[0]-sum(y_test)))"
   ]
  },
  {
   "cell_type": "code",
   "execution_count": 7,
   "metadata": {
    "id": "EWhx9WSsAB-1"
   },
   "outputs": [],
   "source": [
    "# PCA\n",
    "\n",
    "stdX = numpy.zeros(X_train.shape)\n",
    "stdX_val = numpy.zeros(X_val.shape)\n",
    "stdX_test = numpy.zeros(X_test.shape)\n",
    "\n",
    "means = numpy.zeros(X_train.shape[1])\n",
    "std_devs = numpy.zeros(X_train.shape[1])\n",
    "\n",
    "for j in range(X_train.shape[1]):\n",
    "    column = X_train[:,j]\n",
    "    means[j] = numpy.mean(column)\n",
    "    std_devs[j] = numpy.std(column)\n",
    "    stdX[:,j] = (column - means[j]) / std_devs[j]\n",
    "    stdX_val[:,j] = (X_val[:,j] - means[j]) / std_devs[j]\n",
    "    stdX_test[:,j] = (X_test[:,j] - means[j]) / std_devs[j]\n",
    "\n",
    "numpy.save('means', means)\n",
    "numpy.save('std_devs', std_devs)\n",
    "\n",
    "covariance_matrix = numpy.cov(stdX.T)\n",
    "\n",
    "eigen_values, eigen_vectors = numpy.linalg.eig(covariance_matrix)\n",
    "eigen_values = numpy.real(eigen_values)\n",
    "eigen_vectors = numpy.real(eigen_vectors)\n",
    "\n",
    "variance_explained = []\n",
    "for i in eigen_values:\n",
    "    variance_explained.append((i/sum(eigen_values))*100)\n",
    "\n",
    "cumulative_variance_explained = numpy.cumsum(variance_explained)"
   ]
  },
  {
   "cell_type": "code",
   "execution_count": 8,
   "metadata": {
    "colab": {
     "base_uri": "https://localhost:8080/",
     "height": 295
    },
    "id": "3H21ZME1BWz7",
    "outputId": "bc36f7aa-3347-4586-9a36-7c39b5287d34"
   },
   "outputs": [
    {
     "data": {
      "image/png": "[encoded data removed]",
      "text/plain": [
       "<Figure size 640x480 with 1 Axes>"
      ]
     },
     "metadata": {},
     "output_type": "display_data"
    }
   ],
   "source": [
    "plt.title(\"Explained variance vs Number of components\")\n",
    "\n",
    "plt.xlabel(\"Number of components\")\n",
    "plt.ylabel(\"Cumulative explained variance\")\n",
    "plt.grid(color='gray', linewidth=.4)\n",
    "\n",
    "plt.plot(range(len(cumulative_variance_explained)), cumulative_variance_explained)\n",
    "\n",
    "plt.show()\n",
    "#plt.savefig('Explained variance.png')"
   ]
  },
  {
   "cell_type": "code",
   "execution_count": 9,
   "metadata": {
    "colab": {
     "base_uri": "https://localhost:8080/"
    },
    "id": "HNRicsM0BZ82",
    "outputId": "2597cd27-45c5-49f8-be42-741a081d08be"
   },
   "outputs": [
    {
     "name": "stdout",
     "output_type": "stream",
     "text": [
      "Principal components: 400\n",
      "Discarded components: 293\n"
     ]
    }
   ],
   "source": [
    "K = 400 # more or less like adhesin\n",
    "print('Principal components:', K)\n",
    "print('Discarded components:', columns-K)"
   ]
  },
  {
   "cell_type": "code",
   "execution_count": 10,
   "metadata": {
    "colab": {
     "base_uri": "https://localhost:8080/",
     "height": 295
    },
    "id": "z3HVUUpRBdHb",
    "outputId": "1f021dd9-1b76-4807-fa6b-4ef9ee9e766d"
   },
   "outputs": [
    {
     "data": {
      "image/png": "[encoded data removed]",
      "text/plain": [
       "<Figure size 640x480 with 1 Axes>"
      ]
     },
     "metadata": {},
     "output_type": "display_data"
    }
   ],
   "source": [
    "plt.title(\"Explained variance vs first \" + str(K) + \" components\")\n",
    "\n",
    "plt.xlabel(\"Number of components\")\n",
    "plt.ylabel(\"Cumulative explained variance\")\n",
    "plt.grid(color='gray', linewidth=.4)\n",
    "\n",
    "plt.plot(range(K), cumulative_variance_explained[:K])\n",
    "\n",
    "plt.show()\n",
    "#plt.savefig('Explained variance.png')"
   ]
  },
  {
   "cell_type": "code",
   "execution_count": 11,
   "metadata": {
    "colab": {
     "base_uri": "https://localhost:8080/"
    },
    "id": "HtOHXpbNBi30",
    "outputId": "12028f20-cf40-4993-c608-f7dcb03f5551"
   },
   "outputs": [
    {
     "name": "stdout",
     "output_type": "stream",
     "text": [
      "(693, 400)\n"
     ]
    }
   ],
   "source": [
    "# Project using first K components\n",
    "\n",
    "projection_matrix = numpy.real((eigen_vectors.T[:][:K]).T)\n",
    "print(projection_matrix.shape)\n",
    "\n",
    "numpy.save('projection_matrix', projection_matrix)"
   ]
  },
  {
   "cell_type": "code",
   "execution_count": 12,
   "metadata": {
    "id": "NNtLkAdwBlSA"
   },
   "outputs": [],
   "source": [
    "# project matrices\n",
    "X_train = stdX.dot(projection_matrix)\n",
    "X_val = stdX_val.dot(projection_matrix)\n",
    "X_test = stdX_test.dot(projection_matrix)"
   ]
  },
  {
   "cell_type": "code",
   "execution_count": 13,
   "metadata": {
    "id": "WRA6m63cBsnQ"
   },
   "outputs": [],
   "source": [
    "from tensorflow.keras import regularizers\n",
    "\n",
    "class neural_network:\n",
    "    def __init__(self):\n",
    "        input = tensorflow.keras.Input(shape=(K,))\n",
    "\n",
    "        dense = tensorflow.keras.layers.Dense(units=10, activation='sigmoid')(input) # it shows that a linear activation is sufficiet to get the same accuracy of the sigmoid (so it's like a matrix multiplication with a non-linearity at the end...)\n",
    "        #batch = tensorflow.keras.layers.BatchNormalization()(dense)\n",
    "        #activation = tensorflow.keras.activations.sigmoid(batch)\n",
    "        #drop = tensorflow.keras.layers.Dropout(.1)(activation)\n",
    "\n",
    "        output = tensorflow.keras.layers.Dense(1, activation='sigmoid')(dense)\n",
    "\n",
    "        model = tensorflow.keras.models.Model(inputs=input, outputs=output)\n",
    "        model.compile(optimizer=tensorflow.keras.optimizers.Adam(learning_rate=0.0001), loss='binary_crossentropy', metrics='accuracy')\n",
    "        self.model = model"
   ]
  },
  {
   "cell_type": "code",
   "execution_count": 14,
   "metadata": {
    "id": "GyOV0zbtBu6a"
   },
   "outputs": [
    {
     "name": "stderr",
     "output_type": "stream",
     "text": [
      "2023-02-01 19:08:00.819824: W tensorflow/stream_executor/platform/default/dso_loader.cc:64] Could not load dynamic library 'libcuda.so.1'; dlerror: libcuda.so.1: cannot open shared object file: No such file or directory\n",
      "2023-02-01 19:08:00.819843: W tensorflow/stream_executor/cuda/cuda_driver.cc:263] failed call to cuInit: UNKNOWN ERROR (303)\n",
      "2023-02-01 19:08:00.819856: I tensorflow/stream_executor/cuda/cuda_diagnostics.cc:156] kernel driver does not appear to be running on this host (79b804562f18): /proc/driver/nvidia/version does not exist\n",
      "2023-02-01 19:08:00.820016: I tensorflow/core/platform/cpu_feature_guard.cc:193] This TensorFlow binary is optimized with oneAPI Deep Neural Network Library (oneDNN) to use the following CPU instructions in performance-critical operations:  AVX2 AVX512F AVX512_VNNI FMA\n",
      "To enable them in other operations, rebuild TensorFlow with the appropriate compiler flags.\n"
     ]
    }
   ],
   "source": [
    "nn = neural_network()"
   ]
  },
  {
   "cell_type": "code",
   "execution_count": 15,
   "metadata": {
    "id": "z8HiUAOvBwuw"
   },
   "outputs": [
    {
     "name": "stdout",
     "output_type": "stream",
     "text": [
      "Epoch 1/1000\n",
      "29/29 [==============================] - 0s 5ms/step - loss: 0.7221 - accuracy: 0.4430 - val_loss: 0.7270 - val_accuracy: 0.4438\n",
      "Epoch 2/1000\n",
      "29/29 [==============================] - 0s 2ms/step - loss: 0.7157 - accuracy: 0.4599 - val_loss: 0.7216 - val_accuracy: 0.4526\n",
      "Epoch 3/1000\n",
      "29/29 [==============================] - 0s 2ms/step - loss: 0.7097 - accuracy: 0.4834 - val_loss: 0.7164 - val_accuracy: 0.4678\n",
      "Epoch 4/1000\n",
      "29/29 [==============================] - 0s 2ms/step - loss: 0.7039 - accuracy: 0.4992 - val_loss: 0.7112 - val_accuracy: 0.4831\n",
      "Epoch 5/1000\n",
      "29/29 [==============================] - 0s 2ms/step - loss: 0.6981 - accuracy: 0.5161 - val_loss: 0.7062 - val_accuracy: 0.5016\n",
      "Epoch 6/1000\n",
      "29/29 [==============================] - 0s 2ms/step - loss: 0.6924 - accuracy: 0.5325 - val_loss: 0.7013 - val_accuracy: 0.5125\n",
      "Epoch 7/1000\n",
      "29/29 [==============================] - 0s 2ms/step - loss: 0.6869 - accuracy: 0.5450 - val_loss: 0.6964 - val_accuracy: 0.5322\n",
      "Epoch 8/1000\n",
      "29/29 [==============================] - 0s 2ms/step - loss: 0.6814 - accuracy: 0.5586 - val_loss: 0.6917 - val_accuracy: 0.5453\n",
      "Epoch 9/1000\n",
      "29/29 [==============================] - 0s 2ms/step - loss: 0.6760 - accuracy: 0.5696 - val_loss: 0.6870 - val_accuracy: 0.5551\n",
      "Epoch 10/1000\n",
      "29/29 [==============================] - 0s 2ms/step - loss: 0.6707 - accuracy: 0.5854 - val_loss: 0.6825 - val_accuracy: 0.5692\n",
      "Epoch 11/1000\n",
      "29/29 [==============================] - 0s 2ms/step - loss: 0.6654 - accuracy: 0.5963 - val_loss: 0.6781 - val_accuracy: 0.5812\n",
      "Epoch 12/1000\n",
      "29/29 [==============================] - 0s 2ms/step - loss: 0.6602 - accuracy: 0.6181 - val_loss: 0.6737 - val_accuracy: 0.5921\n",
      "Epoch 13/1000\n",
      "29/29 [==============================] - 0s 2ms/step - loss: 0.6551 - accuracy: 0.6372 - val_loss: 0.6692 - val_accuracy: 0.6031\n",
      "Epoch 14/1000\n",
      "29/29 [==============================] - 0s 2ms/step - loss: 0.6500 - accuracy: 0.6547 - val_loss: 0.6650 - val_accuracy: 0.6172\n",
      "Epoch 15/1000\n",
      "29/29 [==============================] - 0s 2ms/step - loss: 0.6450 - accuracy: 0.6688 - val_loss: 0.6608 - val_accuracy: 0.6281\n",
      "Epoch 16/1000\n",
      "29/29 [==============================] - 0s 2ms/step - loss: 0.6400 - accuracy: 0.6792 - val_loss: 0.6567 - val_accuracy: 0.6390\n",
      "Epoch 17/1000\n",
      "29/29 [==============================] - 0s 2ms/step - loss: 0.6351 - accuracy: 0.6907 - val_loss: 0.6527 - val_accuracy: 0.6456\n",
      "Epoch 18/1000\n",
      "29/29 [==============================] - 0s 2ms/step - loss: 0.6302 - accuracy: 0.7016 - val_loss: 0.6486 - val_accuracy: 0.6532\n",
      "Epoch 19/1000\n",
      "29/29 [==============================] - 0s 2ms/step - loss: 0.6254 - accuracy: 0.7070 - val_loss: 0.6447 - val_accuracy: 0.6598\n",
      "Epoch 20/1000\n",
      "29/29 [==============================] - 0s 2ms/step - loss: 0.6206 - accuracy: 0.7158 - val_loss: 0.6408 - val_accuracy: 0.6685\n",
      "Epoch 21/1000\n",
      "29/29 [==============================] - 0s 2ms/step - loss: 0.6159 - accuracy: 0.7234 - val_loss: 0.6369 - val_accuracy: 0.6696\n",
      "Epoch 22/1000\n",
      "29/29 [==============================] - 0s 2ms/step - loss: 0.6112 - accuracy: 0.7321 - val_loss: 0.6332 - val_accuracy: 0.6772\n",
      "Epoch 23/1000\n",
      "29/29 [==============================] - 0s 2ms/step - loss: 0.6066 - accuracy: 0.7376 - val_loss: 0.6294 - val_accuracy: 0.6805\n",
      "Epoch 24/1000\n",
      "29/29 [==============================] - 0s 2ms/step - loss: 0.6021 - accuracy: 0.7447 - val_loss: 0.6257 - val_accuracy: 0.6881\n",
      "Epoch 25/1000\n",
      "29/29 [==============================] - 0s 2ms/step - loss: 0.5975 - accuracy: 0.7518 - val_loss: 0.6222 - val_accuracy: 0.6936\n",
      "Epoch 26/1000\n",
      "29/29 [==============================] - 0s 2ms/step - loss: 0.5931 - accuracy: 0.7550 - val_loss: 0.6186 - val_accuracy: 0.6990\n",
      "Epoch 27/1000\n",
      "29/29 [==============================] - 0s 2ms/step - loss: 0.5886 - accuracy: 0.7610 - val_loss: 0.6152 - val_accuracy: 0.7023\n",
      "Epoch 28/1000\n",
      "29/29 [==============================] - 0s 2ms/step - loss: 0.5843 - accuracy: 0.7621 - val_loss: 0.6117 - val_accuracy: 0.7077\n",
      "Epoch 29/1000\n",
      "29/29 [==============================] - 0s 2ms/step - loss: 0.5799 - accuracy: 0.7638 - val_loss: 0.6084 - val_accuracy: 0.7121\n",
      "Epoch 30/1000\n",
      "29/29 [==============================] - 0s 2ms/step - loss: 0.5757 - accuracy: 0.7692 - val_loss: 0.6051 - val_accuracy: 0.7186\n",
      "Epoch 31/1000\n",
      "29/29 [==============================] - 0s 2ms/step - loss: 0.5715 - accuracy: 0.7741 - val_loss: 0.6019 - val_accuracy: 0.7197\n",
      "Epoch 32/1000\n",
      "29/29 [==============================] - 0s 2ms/step - loss: 0.5673 - accuracy: 0.7769 - val_loss: 0.5987 - val_accuracy: 0.7208\n",
      "Epoch 33/1000\n",
      "29/29 [==============================] - 0s 2ms/step - loss: 0.5632 - accuracy: 0.7818 - val_loss: 0.5956 - val_accuracy: 0.7208\n",
      "Epoch 34/1000\n",
      "29/29 [==============================] - 0s 2ms/step - loss: 0.5591 - accuracy: 0.7845 - val_loss: 0.5925 - val_accuracy: 0.7197\n",
      "Epoch 35/1000\n",
      "29/29 [==============================] - 0s 2ms/step - loss: 0.5551 - accuracy: 0.7867 - val_loss: 0.5893 - val_accuracy: 0.7252\n",
      "Epoch 36/1000\n",
      "29/29 [==============================] - 0s 2ms/step - loss: 0.5511 - accuracy: 0.7932 - val_loss: 0.5864 - val_accuracy: 0.7274\n",
      "Epoch 37/1000\n",
      "29/29 [==============================] - 0s 2ms/step - loss: 0.5472 - accuracy: 0.7960 - val_loss: 0.5836 - val_accuracy: 0.7263\n",
      "Epoch 38/1000\n",
      "29/29 [==============================] - 0s 2ms/step - loss: 0.5434 - accuracy: 0.7976 - val_loss: 0.5808 - val_accuracy: 0.7263\n",
      "Epoch 39/1000\n",
      "29/29 [==============================] - 0s 2ms/step - loss: 0.5396 - accuracy: 0.7960 - val_loss: 0.5780 - val_accuracy: 0.7274\n",
      "Epoch 40/1000\n",
      "29/29 [==============================] - 0s 2ms/step - loss: 0.5359 - accuracy: 0.7971 - val_loss: 0.5753 - val_accuracy: 0.7317\n",
      "Epoch 41/1000\n",
      "29/29 [==============================] - 0s 2ms/step - loss: 0.5322 - accuracy: 0.8014 - val_loss: 0.5727 - val_accuracy: 0.7339\n",
      "Epoch 42/1000\n",
      "29/29 [==============================] - 0s 2ms/step - loss: 0.5285 - accuracy: 0.8036 - val_loss: 0.5701 - val_accuracy: 0.7361\n",
      "Epoch 43/1000\n",
      "29/29 [==============================] - 0s 1ms/step - loss: 0.5250 - accuracy: 0.8058 - val_loss: 0.5675 - val_accuracy: 0.7372\n",
      "Epoch 44/1000\n",
      "29/29 [==============================] - 0s 2ms/step - loss: 0.5214 - accuracy: 0.8085 - val_loss: 0.5650 - val_accuracy: 0.7350\n",
      "Epoch 45/1000\n",
      "29/29 [==============================] - 0s 2ms/step - loss: 0.5179 - accuracy: 0.8107 - val_loss: 0.5628 - val_accuracy: 0.7383\n",
      "Epoch 46/1000\n",
      "29/29 [==============================] - 0s 2ms/step - loss: 0.5145 - accuracy: 0.8112 - val_loss: 0.5603 - val_accuracy: 0.7415\n",
      "Epoch 47/1000\n",
      "29/29 [==============================] - 0s 2ms/step - loss: 0.5111 - accuracy: 0.8134 - val_loss: 0.5580 - val_accuracy: 0.7415\n",
      "Epoch 48/1000\n",
      "29/29 [==============================] - 0s 2ms/step - loss: 0.5078 - accuracy: 0.8129 - val_loss: 0.5558 - val_accuracy: 0.7448\n",
      "Epoch 49/1000\n",
      "29/29 [==============================] - 0s 2ms/step - loss: 0.5045 - accuracy: 0.8123 - val_loss: 0.5536 - val_accuracy: 0.7459\n",
      "Epoch 50/1000\n",
      "29/29 [==============================] - 0s 2ms/step - loss: 0.5013 - accuracy: 0.8123 - val_loss: 0.5514 - val_accuracy: 0.7470\n",
      "Epoch 51/1000\n",
      "29/29 [==============================] - 0s 2ms/step - loss: 0.4981 - accuracy: 0.8134 - val_loss: 0.5493 - val_accuracy: 0.7459\n",
      "Epoch 52/1000\n",
      "29/29 [==============================] - 0s 2ms/step - loss: 0.4950 - accuracy: 0.8140 - val_loss: 0.5473 - val_accuracy: 0.7437\n",
      "Epoch 53/1000\n",
      "29/29 [==============================] - 0s 2ms/step - loss: 0.4919 - accuracy: 0.8151 - val_loss: 0.5452 - val_accuracy: 0.7448\n",
      "Epoch 54/1000\n",
      "29/29 [==============================] - 0s 1ms/step - loss: 0.4889 - accuracy: 0.8161 - val_loss: 0.5432 - val_accuracy: 0.7492\n",
      "Epoch 55/1000\n",
      "29/29 [==============================] - 0s 2ms/step - loss: 0.4859 - accuracy: 0.8189 - val_loss: 0.5414 - val_accuracy: 0.7481\n",
      "Epoch 56/1000\n",
      "29/29 [==============================] - 0s 2ms/step - loss: 0.4830 - accuracy: 0.8189 - val_loss: 0.5395 - val_accuracy: 0.7481\n",
      "Epoch 57/1000\n",
      "29/29 [==============================] - 0s 2ms/step - loss: 0.4801 - accuracy: 0.8211 - val_loss: 0.5379 - val_accuracy: 0.7492\n",
      "Epoch 58/1000\n"
     ]
    },
    {
     "name": "stdout",
     "output_type": "stream",
     "text": [
      "29/29 [==============================] - 0s 2ms/step - loss: 0.4773 - accuracy: 0.8227 - val_loss: 0.5361 - val_accuracy: 0.7481\n",
      "Epoch 59/1000\n",
      "29/29 [==============================] - 0s 2ms/step - loss: 0.4745 - accuracy: 0.8221 - val_loss: 0.5345 - val_accuracy: 0.7503\n",
      "Epoch 60/1000\n",
      "29/29 [==============================] - 0s 2ms/step - loss: 0.4718 - accuracy: 0.8249 - val_loss: 0.5328 - val_accuracy: 0.7503\n",
      "Epoch 61/1000\n",
      "29/29 [==============================] - 0s 2ms/step - loss: 0.4691 - accuracy: 0.8254 - val_loss: 0.5312 - val_accuracy: 0.7514\n",
      "Epoch 62/1000\n",
      "29/29 [==============================] - 0s 2ms/step - loss: 0.4664 - accuracy: 0.8254 - val_loss: 0.5297 - val_accuracy: 0.7525\n",
      "Epoch 63/1000\n",
      "29/29 [==============================] - 0s 2ms/step - loss: 0.4638 - accuracy: 0.8265 - val_loss: 0.5283 - val_accuracy: 0.7525\n",
      "Epoch 64/1000\n",
      "29/29 [==============================] - 0s 2ms/step - loss: 0.4612 - accuracy: 0.8282 - val_loss: 0.5268 - val_accuracy: 0.7546\n",
      "Epoch 65/1000\n",
      "29/29 [==============================] - 0s 2ms/step - loss: 0.4587 - accuracy: 0.8287 - val_loss: 0.5255 - val_accuracy: 0.7557\n",
      "Epoch 66/1000\n",
      "29/29 [==============================] - 0s 2ms/step - loss: 0.4562 - accuracy: 0.8287 - val_loss: 0.5241 - val_accuracy: 0.7557\n",
      "Epoch 67/1000\n",
      "29/29 [==============================] - 0s 2ms/step - loss: 0.4538 - accuracy: 0.8314 - val_loss: 0.5229 - val_accuracy: 0.7557\n",
      "Epoch 68/1000\n",
      "29/29 [==============================] - 0s 2ms/step - loss: 0.4514 - accuracy: 0.8325 - val_loss: 0.5215 - val_accuracy: 0.7557\n",
      "Epoch 69/1000\n",
      "29/29 [==============================] - 0s 2ms/step - loss: 0.4490 - accuracy: 0.8342 - val_loss: 0.5204 - val_accuracy: 0.7568\n",
      "Epoch 70/1000\n",
      "29/29 [==============================] - 0s 2ms/step - loss: 0.4467 - accuracy: 0.8358 - val_loss: 0.5192 - val_accuracy: 0.7568\n",
      "Epoch 71/1000\n",
      "29/29 [==============================] - 0s 2ms/step - loss: 0.4444 - accuracy: 0.8369 - val_loss: 0.5181 - val_accuracy: 0.7579\n",
      "Epoch 72/1000\n",
      "29/29 [==============================] - 0s 2ms/step - loss: 0.4422 - accuracy: 0.8385 - val_loss: 0.5169 - val_accuracy: 0.7590\n",
      "Epoch 73/1000\n",
      "29/29 [==============================] - 0s 2ms/step - loss: 0.4400 - accuracy: 0.8396 - val_loss: 0.5158 - val_accuracy: 0.7612\n",
      "Epoch 74/1000\n",
      "29/29 [==============================] - 0s 2ms/step - loss: 0.4377 - accuracy: 0.8396 - val_loss: 0.5148 - val_accuracy: 0.7612\n",
      "Epoch 75/1000\n",
      "29/29 [==============================] - 0s 2ms/step - loss: 0.4356 - accuracy: 0.8396 - val_loss: 0.5138 - val_accuracy: 0.7612\n",
      "Epoch 76/1000\n",
      "29/29 [==============================] - 0s 2ms/step - loss: 0.4335 - accuracy: 0.8423 - val_loss: 0.5129 - val_accuracy: 0.7623\n",
      "Epoch 77/1000\n",
      "29/29 [==============================] - 0s 2ms/step - loss: 0.4314 - accuracy: 0.8440 - val_loss: 0.5120 - val_accuracy: 0.7623\n",
      "Epoch 78/1000\n",
      "29/29 [==============================] - 0s 2ms/step - loss: 0.4294 - accuracy: 0.8451 - val_loss: 0.5111 - val_accuracy: 0.7623\n",
      "Epoch 79/1000\n",
      "29/29 [==============================] - 0s 2ms/step - loss: 0.4274 - accuracy: 0.8451 - val_loss: 0.5103 - val_accuracy: 0.7623\n",
      "Epoch 80/1000\n",
      "29/29 [==============================] - 0s 2ms/step - loss: 0.4254 - accuracy: 0.8451 - val_loss: 0.5095 - val_accuracy: 0.7612\n",
      "Epoch 81/1000\n",
      "29/29 [==============================] - 0s 2ms/step - loss: 0.4235 - accuracy: 0.8467 - val_loss: 0.5086 - val_accuracy: 0.7601\n",
      "Epoch 82/1000\n",
      "29/29 [==============================] - 0s 2ms/step - loss: 0.4215 - accuracy: 0.8472 - val_loss: 0.5080 - val_accuracy: 0.7601\n",
      "Epoch 83/1000\n",
      "29/29 [==============================] - 0s 2ms/step - loss: 0.4196 - accuracy: 0.8483 - val_loss: 0.5073 - val_accuracy: 0.7612\n",
      "Epoch 84/1000\n",
      "29/29 [==============================] - 0s 2ms/step - loss: 0.4178 - accuracy: 0.8494 - val_loss: 0.5066 - val_accuracy: 0.7612\n",
      "Epoch 85/1000\n",
      "29/29 [==============================] - 0s 2ms/step - loss: 0.4159 - accuracy: 0.8505 - val_loss: 0.5060 - val_accuracy: 0.7601\n",
      "Epoch 86/1000\n",
      "29/29 [==============================] - 0s 2ms/step - loss: 0.4142 - accuracy: 0.8494 - val_loss: 0.5052 - val_accuracy: 0.7601\n",
      "Epoch 87/1000\n",
      "29/29 [==============================] - 0s 2ms/step - loss: 0.4124 - accuracy: 0.8489 - val_loss: 0.5046 - val_accuracy: 0.7601\n",
      "Epoch 88/1000\n",
      "29/29 [==============================] - 0s 1ms/step - loss: 0.4106 - accuracy: 0.8500 - val_loss: 0.5040 - val_accuracy: 0.7590\n",
      "Epoch 89/1000\n",
      "29/29 [==============================] - 0s 2ms/step - loss: 0.4089 - accuracy: 0.8500 - val_loss: 0.5034 - val_accuracy: 0.7590\n",
      "Epoch 90/1000\n",
      "29/29 [==============================] - 0s 2ms/step - loss: 0.4072 - accuracy: 0.8511 - val_loss: 0.5030 - val_accuracy: 0.7590\n",
      "Epoch 91/1000\n",
      "29/29 [==============================] - 0s 2ms/step - loss: 0.4055 - accuracy: 0.8511 - val_loss: 0.5025 - val_accuracy: 0.7590\n",
      "Epoch 92/1000\n",
      "29/29 [==============================] - 0s 2ms/step - loss: 0.4038 - accuracy: 0.8511 - val_loss: 0.5020 - val_accuracy: 0.7590\n",
      "Epoch 93/1000\n",
      "29/29 [==============================] - 0s 2ms/step - loss: 0.4022 - accuracy: 0.8511 - val_loss: 0.5015 - val_accuracy: 0.7590\n",
      "Epoch 94/1000\n",
      "29/29 [==============================] - 0s 2ms/step - loss: 0.4006 - accuracy: 0.8511 - val_loss: 0.5011 - val_accuracy: 0.7590\n",
      "Epoch 95/1000\n",
      "29/29 [==============================] - 0s 2ms/step - loss: 0.3990 - accuracy: 0.8511 - val_loss: 0.5007 - val_accuracy: 0.7601\n",
      "Epoch 96/1000\n",
      "29/29 [==============================] - 0s 2ms/step - loss: 0.3974 - accuracy: 0.8522 - val_loss: 0.5003 - val_accuracy: 0.7601\n",
      "Epoch 97/1000\n",
      "29/29 [==============================] - 0s 2ms/step - loss: 0.3959 - accuracy: 0.8543 - val_loss: 0.5000 - val_accuracy: 0.7601\n",
      "Epoch 98/1000\n",
      "29/29 [==============================] - 0s 2ms/step - loss: 0.3943 - accuracy: 0.8543 - val_loss: 0.4997 - val_accuracy: 0.7601\n",
      "Epoch 99/1000\n",
      "29/29 [==============================] - 0s 2ms/step - loss: 0.3928 - accuracy: 0.8565 - val_loss: 0.4993 - val_accuracy: 0.7590\n",
      "Epoch 100/1000\n",
      "29/29 [==============================] - 0s 2ms/step - loss: 0.3913 - accuracy: 0.8582 - val_loss: 0.4991 - val_accuracy: 0.7601\n",
      "Epoch 101/1000\n",
      "29/29 [==============================] - 0s 2ms/step - loss: 0.3899 - accuracy: 0.8587 - val_loss: 0.4987 - val_accuracy: 0.7590\n",
      "Epoch 102/1000\n",
      "29/29 [==============================] - 0s 2ms/step - loss: 0.3884 - accuracy: 0.8603 - val_loss: 0.4984 - val_accuracy: 0.7590\n",
      "Epoch 103/1000\n",
      "29/29 [==============================] - 0s 2ms/step - loss: 0.3870 - accuracy: 0.8609 - val_loss: 0.4982 - val_accuracy: 0.7601\n",
      "Epoch 104/1000\n",
      "29/29 [==============================] - 0s 2ms/step - loss: 0.3856 - accuracy: 0.8614 - val_loss: 0.4980 - val_accuracy: 0.7612\n",
      "Epoch 105/1000\n",
      "29/29 [==============================] - 0s 2ms/step - loss: 0.3842 - accuracy: 0.8620 - val_loss: 0.4978 - val_accuracy: 0.7612\n",
      "Epoch 106/1000\n",
      "29/29 [==============================] - 0s 2ms/step - loss: 0.3828 - accuracy: 0.8642 - val_loss: 0.4976 - val_accuracy: 0.7612\n",
      "Epoch 107/1000\n",
      "29/29 [==============================] - 0s 2ms/step - loss: 0.3814 - accuracy: 0.8636 - val_loss: 0.4975 - val_accuracy: 0.7612\n",
      "Epoch 108/1000\n",
      "29/29 [==============================] - 0s 2ms/step - loss: 0.3801 - accuracy: 0.8642 - val_loss: 0.4972 - val_accuracy: 0.7612\n",
      "Epoch 109/1000\n",
      "29/29 [==============================] - 0s 2ms/step - loss: 0.3787 - accuracy: 0.8647 - val_loss: 0.4971 - val_accuracy: 0.7612\n",
      "Epoch 110/1000\n",
      "29/29 [==============================] - 0s 2ms/step - loss: 0.3774 - accuracy: 0.8652 - val_loss: 0.4971 - val_accuracy: 0.7612\n",
      "Epoch 111/1000\n",
      "29/29 [==============================] - 0s 2ms/step - loss: 0.3762 - accuracy: 0.8663 - val_loss: 0.4970 - val_accuracy: 0.7612\n",
      "Epoch 112/1000\n",
      "29/29 [==============================] - 0s 2ms/step - loss: 0.3749 - accuracy: 0.8663 - val_loss: 0.4968 - val_accuracy: 0.7612\n",
      "Epoch 113/1000\n",
      "29/29 [==============================] - 0s 2ms/step - loss: 0.3736 - accuracy: 0.8680 - val_loss: 0.4968 - val_accuracy: 0.7612\n",
      "Epoch 114/1000\n",
      "29/29 [==============================] - 0s 2ms/step - loss: 0.3723 - accuracy: 0.8685 - val_loss: 0.4966 - val_accuracy: 0.7601\n",
      "Epoch 115/1000\n"
     ]
    },
    {
     "name": "stdout",
     "output_type": "stream",
     "text": [
      "29/29 [==============================] - 0s 2ms/step - loss: 0.3711 - accuracy: 0.8696 - val_loss: 0.4967 - val_accuracy: 0.7601\n",
      "Epoch 116/1000\n",
      "29/29 [==============================] - 0s 2ms/step - loss: 0.3698 - accuracy: 0.8702 - val_loss: 0.4966 - val_accuracy: 0.7601\n",
      "Epoch 117/1000\n",
      "29/29 [==============================] - 0s 2ms/step - loss: 0.3686 - accuracy: 0.8707 - val_loss: 0.4966 - val_accuracy: 0.7601\n",
      "Epoch 118/1000\n",
      "29/29 [==============================] - 0s 2ms/step - loss: 0.3674 - accuracy: 0.8723 - val_loss: 0.4966 - val_accuracy: 0.7590\n",
      "Epoch 119/1000\n",
      "29/29 [==============================] - 0s 2ms/step - loss: 0.3662 - accuracy: 0.8712 - val_loss: 0.4966 - val_accuracy: 0.7590\n",
      "Epoch 120/1000\n",
      "29/29 [==============================] - 0s 2ms/step - loss: 0.3651 - accuracy: 0.8718 - val_loss: 0.4966 - val_accuracy: 0.7601\n",
      "Epoch 121/1000\n",
      "29/29 [==============================] - 0s 1ms/step - loss: 0.3639 - accuracy: 0.8712 - val_loss: 0.4967 - val_accuracy: 0.7601\n",
      "Epoch 122/1000\n",
      "29/29 [==============================] - 0s 2ms/step - loss: 0.3628 - accuracy: 0.8712 - val_loss: 0.4966 - val_accuracy: 0.7612\n",
      "Epoch 123/1000\n",
      "29/29 [==============================] - 0s 2ms/step - loss: 0.3616 - accuracy: 0.8723 - val_loss: 0.4968 - val_accuracy: 0.7612\n",
      "Epoch 124/1000\n",
      "29/29 [==============================] - 0s 2ms/step - loss: 0.3605 - accuracy: 0.8723 - val_loss: 0.4968 - val_accuracy: 0.7601\n",
      "Epoch 125/1000\n",
      "29/29 [==============================] - 0s 2ms/step - loss: 0.3594 - accuracy: 0.8723 - val_loss: 0.4969 - val_accuracy: 0.7601\n",
      "Epoch 126/1000\n",
      "29/29 [==============================] - 0s 2ms/step - loss: 0.3583 - accuracy: 0.8723 - val_loss: 0.4969 - val_accuracy: 0.7612\n",
      "Epoch 127/1000\n",
      "29/29 [==============================] - 0s 2ms/step - loss: 0.3572 - accuracy: 0.8729 - val_loss: 0.4970 - val_accuracy: 0.7612\n",
      "Epoch 128/1000\n",
      "29/29 [==============================] - 0s 2ms/step - loss: 0.3561 - accuracy: 0.8734 - val_loss: 0.4971 - val_accuracy: 0.7612\n",
      "Epoch 129/1000\n",
      "29/29 [==============================] - 0s 2ms/step - loss: 0.3550 - accuracy: 0.8734 - val_loss: 0.4972 - val_accuracy: 0.7623\n",
      "Epoch 130/1000\n",
      "29/29 [==============================] - 0s 2ms/step - loss: 0.3540 - accuracy: 0.8740 - val_loss: 0.4975 - val_accuracy: 0.7623\n",
      "Epoch 131/1000\n",
      "29/29 [==============================] - 0s 2ms/step - loss: 0.3529 - accuracy: 0.8740 - val_loss: 0.4976 - val_accuracy: 0.7623\n",
      "Epoch 132/1000\n",
      "29/29 [==============================] - 0s 2ms/step - loss: 0.3519 - accuracy: 0.8745 - val_loss: 0.4976 - val_accuracy: 0.7623\n",
      "Epoch 133/1000\n",
      "29/29 [==============================] - 0s 2ms/step - loss: 0.3509 - accuracy: 0.8756 - val_loss: 0.4978 - val_accuracy: 0.7612\n",
      "Epoch 134/1000\n",
      "29/29 [==============================] - 0s 2ms/step - loss: 0.3499 - accuracy: 0.8751 - val_loss: 0.4980 - val_accuracy: 0.7612\n",
      "Epoch 135/1000\n",
      "29/29 [==============================] - 0s 2ms/step - loss: 0.3489 - accuracy: 0.8756 - val_loss: 0.4982 - val_accuracy: 0.7623\n",
      "Epoch 136/1000\n",
      "29/29 [==============================] - 0s 2ms/step - loss: 0.3479 - accuracy: 0.8756 - val_loss: 0.4984 - val_accuracy: 0.7644\n"
     ]
    }
   ],
   "source": [
    "history = nn.model.fit(\n",
    "    x=X_train, \n",
    "    y=y_train,\n",
    "    batch_size=64,\n",
    "    epochs=1000,\n",
    "    verbose=1,\n",
    "    validation_data=(X_val, y_val),\n",
    "    shuffle=True,\n",
    "    callbacks=[tensorflow.keras.callbacks.EarlyStopping(\n",
    "    restore_best_weights=True,\n",
    "    patience=20\n",
    "        )]\n",
    ")"
   ]
  },
  {
   "cell_type": "code",
   "execution_count": 16,
   "metadata": {
    "colab": {
     "base_uri": "https://localhost:8080/",
     "height": 295
    },
    "id": "to8ynCJUB1QC",
    "outputId": "cbe47f19-fa3e-44e4-ac78-8d6c2a21643a"
   },
   "outputs": [
    {
     "data": {
      "image/png": "[encoded data removed]",
      "text/plain": [
       "<Figure size 640x480 with 1 Axes>"
      ]
     },
     "metadata": {},
     "output_type": "display_data"
    }
   ],
   "source": [
    "plt.title('Accuracy during training')\n",
    "plt.plot(range(len(history.history['loss'])), history.history['accuracy'], label='training accuracy', color='green')\n",
    "plt.plot(range(len(history.history['loss'])), history.history['val_accuracy'], label='validation accuracy', color='red')\n",
    "plt.grid(color='gray', linewidth=.4)\n",
    "\n",
    "plt.legend(loc=\"lower right\")\n",
    "plt.xlabel(\"epochs\")\n",
    "plt.ylabel(\"accuracy\")\n",
    "plt.xlim(0, len(history.history['loss'])+1)\n",
    "plt.ylim(.45, 1.)\n",
    "plt.savefig('acc.png')"
   ]
  },
  {
   "cell_type": "code",
   "execution_count": 17,
   "metadata": {
    "colab": {
     "base_uri": "https://localhost:8080/",
     "height": 295
    },
    "id": "L2gFo_gLB4Dc",
    "outputId": "60eb7c90-3290-4006-f55e-dd22d3c2bf56"
   },
   "outputs": [
    {
     "data": {
      "image/png": "[encoded data removed]",
      "text/plain": [
       "<Figure size 640x480 with 1 Axes>"
      ]
     },
     "metadata": {},
     "output_type": "display_data"
    }
   ],
   "source": [
    "plt.title('Loss during training')\n",
    "plt.plot(range(len(history.history['loss'])), history.history['loss'], label='training loss', color='green')\n",
    "plt.plot(range(len(history.history['loss'])), history.history['val_loss'], label='validation loss', color='red')\n",
    "plt.grid(color='gray', linewidth=.4)\n",
    "\n",
    "plt.legend(loc=\"upper right\")\n",
    "plt.xlabel(\"epochs\")\n",
    "plt.ylabel(\"loss\")\n",
    "plt.savefig('loss.png')"
   ]
  },
  {
   "cell_type": "code",
   "execution_count": 18,
   "metadata": {
    "colab": {
     "base_uri": "https://localhost:8080/"
    },
    "id": "k3zkL_DUB52B",
    "outputId": "8a4bc362-fadd-4bf3-fc22-66b9a80dceab"
   },
   "outputs": [
    {
     "name": "stdout",
     "output_type": "stream",
     "text": [
      "29/29 [==============================] - 0s 651us/step - loss: 0.5080 - accuracy: 0.7557\n"
     ]
    },
    {
     "data": {
      "text/plain": [
       "[0.5080090761184692, 0.7557252049446106]"
      ]
     },
     "execution_count": 18,
     "metadata": {},
     "output_type": "execute_result"
    }
   ],
   "source": [
    "nn.model.evaluate(x=X_test, y=y_test)"
   ]
  },
  {
   "cell_type": "code",
   "execution_count": 19,
   "metadata": {
    "id": "49fcjVFUB79k"
   },
   "outputs": [],
   "source": [
    "nn.model.save('vcm.h5')"
   ]
  },
  {
   "cell_type": "markdown",
   "metadata": {
    "id": "57LZ_fI59-Tk"
   },
   "source": [
    "### Check performace on negative and positive classes"
   ]
  },
  {
   "cell_type": "code",
   "execution_count": 23,
   "metadata": {
    "colab": {
     "base_uri": "https://localhost:8080/",
     "height": 0
    },
    "id": "vVhjh964zo0i",
    "outputId": "2a867053-d51e-4f8e-dade-75adf4495f1d"
   },
   "outputs": [
    {
     "data": {
      "application/vnd.google.colaboratory.intrinsic+json": {
       "type": "string"
      },
      "text/plain": [
       "\"\\npos_dataset_test = [[] for array in range(len(datasets_test))]\\nfor array in range(len(datasets_test)):\\n    for item, i in zip(datasets_test[array], y_test):\\n        if i == 1:\\n            pos_dataset_test[array].append(list(item))\\nfor i in range(5):\\n    pos_dataset_test[i]=numpy.array(pos_dataset_test[i])\\ny_pos_test = numpy.array([1. for _ in range(len(pos_dataset_test[0]))])\\n\\nneg_dataset_test = [[] for array in range(len(datasets_test))]\\nfor array in range(len(datasets_test)):\\n    for item, i in zip(datasets_test[array], y_test):\\n        if i == 0:\\n            neg_dataset_test[array].append(list(item))\\nfor i in range(5):\\n    neg_dataset_test[i]=numpy.array(neg_dataset_test[i])\\ny_neg_test = numpy.array([0. for _ in range(len(neg_dataset_test[0]))])\\n\\npos_perf = nn.model.evaluate(x=pos_dataset_test, y=y_pos_test)\\nneg_perf = nn.model.evaluate(x=neg_dataset_test, y=y_neg_test)\\nprint('Accuracy on POSITIVE classes:', pos_perf[1])\\nprint('Accuracy on NEGATIVE classes:', neg_perf[1])\\n\\n\""
      ]
     },
     "execution_count": 23,
     "metadata": {},
     "output_type": "execute_result"
    }
   ],
   "source": [
    "'''\n",
    "pos_dataset_test = [[] for array in range(len(datasets_test))]\n",
    "for array in range(len(datasets_test)):\n",
    "    for item, i in zip(datasets_test[array], y_test):\n",
    "        if i == 1:\n",
    "            pos_dataset_test[array].append(list(item))\n",
    "for i in range(5):\n",
    "    pos_dataset_test[i]=numpy.array(pos_dataset_test[i])\n",
    "y_pos_test = numpy.array([1. for _ in range(len(pos_dataset_test[0]))])\n",
    "\n",
    "neg_dataset_test = [[] for array in range(len(datasets_test))]\n",
    "for array in range(len(datasets_test)):\n",
    "    for item, i in zip(datasets_test[array], y_test):\n",
    "        if i == 0:\n",
    "            neg_dataset_test[array].append(list(item))\n",
    "for i in range(5):\n",
    "    neg_dataset_test[i]=numpy.array(neg_dataset_test[i])\n",
    "y_neg_test = numpy.array([0. for _ in range(len(neg_dataset_test[0]))])\n",
    "\n",
    "pos_perf = nn.model.evaluate(x=pos_dataset_test, y=y_pos_test)\n",
    "neg_perf = nn.model.evaluate(x=neg_dataset_test, y=y_neg_test)\n",
    "print('Accuracy on POSITIVE classes:', pos_perf[1])\n",
    "print('Accuracy on NEGATIVE classes:', neg_perf[1])\n",
    "\n",
    "'''"
   ]
  }
 ],
 "metadata": {
  "colab": {
   "collapsed_sections": [
    "5_qRAUKplhNa",
    "57LZ_fI59-Tk"
   ],
   "provenance": []
  },
  "kernelspec": {
   "display_name": "Python 3 (ipykernel)",
   "language": "python",
   "name": "python3"
  },
  "language_info": {
   "codemirror_mode": {
    "name": "ipython",
    "version": 3
   },
   "file_extension": ".py",
   "mimetype": "text/x-python",
   "name": "python",
   "nbconvert_exporter": "python",
   "pygments_lexer": "ipython3",
   "version": "3.8.13"
  }
 },
 "nbformat": 4,
 "nbformat_minor": 1
}
