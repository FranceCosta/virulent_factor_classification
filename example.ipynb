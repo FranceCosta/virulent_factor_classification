{
  "nbformat": 4,
  "nbformat_minor": 0,
  "metadata": {
    "colab": {
      "name": "Virulent_pred_cleaned.ipynb",
      "provenance": [],
      "collapsed_sections": []
    },
    "kernelspec": {
      "name": "python3",
      "display_name": "Python 3"
    },
    "language_info": {
      "name": "python"
    }
  },
  "cells": [
    {
      "cell_type": "code",
      "execution_count": null,
      "metadata": {
        "colab": {
          "base_uri": "https://localhost:8080/"
        },
        "id": "ezfZzH9lnDl3",
        "outputId": "15d0186c-5d2d-4d19-89b9-3b45db9cc515"
      },
      "outputs": [
        {
          "output_type": "stream",
          "name": "stdout",
          "text": [
            "Requirement already satisfied: Biopython in /usr/local/lib/python3.7/dist-packages (1.79)\n",
            "Requirement already satisfied: numpy in /usr/local/lib/python3.7/dist-packages (from Biopython) (1.21.5)\n",
            "Cloning into 'iFeature'...\n",
            "remote: Enumerating objects: 313, done.\u001b[K\n",
            "remote: Counting objects: 100% (25/25), done.\u001b[K\n",
            "remote: Compressing objects: 100% (25/25), done.\u001b[K\n",
            "remote: Total 313 (delta 14), reused 1 (delta 0), pack-reused 288\u001b[K\n",
            "Receiving objects: 100% (313/313), 6.72 MiB | 27.42 MiB/s, done.\n",
            "Resolving deltas: 100% (143/143), done.\n",
            "fatal: destination path 'virulent_factor_classification' already exists and is not an empty directory.\n"
          ]
        }
      ],
      "source": [
        "!pip install Biopython\n",
        "!rm -r iFeature\n",
        "!git clone https://github.com/Superzchen/iFeature\n",
        "!git clone https://github.com/FranceCosta/virulent_factor_classification.git\n",
        "\n",
        "import numpy\n",
        "import tensorflow\n",
        "from tensorflow import keras\n",
        "import matplotlib.pyplot as plt\n",
        "from Bio import SeqIO"
      ]
    },
    {
      "cell_type": "markdown",
      "source": [
        "### Following [this](https://doi.org/10.1093/bib/bbv082) on dataset preparation a treshold of 60% identity have been chosen for a clustering with [CD-hit](http://weizhong-lab.ucsd.edu/cdhit-web-server/cgi-bin/index.cgi?cmd=cd-hit) "
      ],
      "metadata": {
        "id": "5_qRAUKplhNa"
      }
    },
    {
      "cell_type": "code",
      "source": [
        "# parse CD-Hit data\n",
        "infile = open('virulent_factor_classification/new_datasets_cleaned/pos_fasta_60', 'r').readlines()\n",
        "pos_ids = []\n",
        "for element in str(infile).split('>'):\n",
        "  for seq in element.split('\\n'):\n",
        "    if '*' in seq:\n",
        "      pos_ids.append(seq.split('|')[0][:-3])\n",
        "infile = open('virulent_factor_classification/new_datasets_cleaned/neg_fasta_60', 'r').readlines()\n",
        "neg_ids = []\n",
        "for element in str(infile).split('>'):\n",
        "  for seq in element.split('\\n'):\n",
        "    if '*' in seq:\n",
        "      neg_ids.append(seq.split('|')[1])"
      ],
      "metadata": {
        "id": "ICidQQboZ-Du"
      },
      "execution_count": null,
      "outputs": []
    },
    {
      "cell_type": "code",
      "source": [
        "print(len(neg_ids))\n",
        "print(len(pos_ids))"
      ],
      "metadata": {
        "colab": {
          "base_uri": "https://localhost:8080/"
        },
        "id": "qwwuP9Ph47w9",
        "outputId": "4d6784cc-dc86-45e5-bfcd-4f954cb3a457"
      },
      "execution_count": null,
      "outputs": [
        {
          "output_type": "stream",
          "name": "stdout",
          "text": [
            "3107\n",
            "3705\n"
          ]
        }
      ]
    },
    {
      "cell_type": "code",
      "source": [
        "# clean sequence data\n",
        "pos_seqs = list(SeqIO.parse('./virulent_factor_classification/new_datasets/positive/pos.fasta', 'fasta'))\n",
        "cleaned_pos_seqs = [entry for entry in pos_seqs if str(entry.id.split('(')[0]) in str(pos_ids)]\n",
        "\n",
        "neg_seqs = list(SeqIO.parse('./virulent_factor_classification/new_datasets/negative/neg.fasta', 'fasta'))\n",
        "cleaned_neg_seqs = [entry for entry in neg_seqs if str(entry.id.split('|')[1]) in str(neg_ids)]\n",
        "\n",
        "cleaned_pos_seqs = cleaned_pos_seqs[:3107] # reduce dataset to match negative dataset length\n",
        "print(len(cleaned_pos_seqs))\n",
        "print(len(cleaned_neg_seqs))"
      ],
      "metadata": {
        "colab": {
          "base_uri": "https://localhost:8080/"
        },
        "id": "CMV4mWfs-RAO",
        "outputId": "98ab6d16-83e2-4099-c0d3-e066f16e5248"
      },
      "execution_count": null,
      "outputs": [
        {
          "output_type": "stream",
          "name": "stdout",
          "text": [
            "3107\n",
            "3107\n"
          ]
        }
      ]
    },
    {
      "cell_type": "code",
      "source": [
        "# rewrite fasta files\n",
        "def writer(fasta_list, outfile_name):\n",
        "  outfile = open(outfile_name, 'w')\n",
        "  for entry in fasta_list:\n",
        "    outfile.write('>'+str(entry.id)+'\\n')\n",
        "    outfile.write(str(entry.seq)+'\\n')\n",
        "writer(cleaned_pos_seqs, 'cleaned_pos.fasta')\n",
        "writer(cleaned_neg_seqs, 'cleaned_neg.fasta')"
      ],
      "metadata": {
        "id": "90TEgHgjBSLk"
      },
      "execution_count": null,
      "outputs": []
    },
    {
      "cell_type": "code",
      "source": [
        "!python iFeature/iFeature.py --file ./cleaned_pos.fasta --type AAC --out aac_cleaned_pos.out    # amino acids composition\n",
        "!python iFeature/iFeature.py --file ./cleaned_pos.fasta --type DPC --out dpc_cleaned_pos.out    # dipeptide composition\n",
        "!python iFeature/iFeature.py --file ./cleaned_pos.fasta --type CTDC --out ctdc_cleaned_pos.out  # composition\n",
        "!python iFeature/iFeature.py --file ./cleaned_pos.fasta --type CTDT --out ctdt_cleaned_pos.out  # transition\n",
        "!python iFeature/iFeature.py --file ./cleaned_pos.fasta --type CTDD --out ctdd_cleaned_pos.out  # distribution\n",
        "\n",
        "!python iFeature/iFeature.py --file ./cleaned_neg.fasta --type AAC --out aac_cleaned_neg.out    # amino acids composition\n",
        "!python iFeature/iFeature.py --file ./cleaned_neg.fasta --type DPC --out dpc_cleaned_neg.out    # dipeptide composition\n",
        "!python iFeature/iFeature.py --file ./cleaned_neg.fasta --type CTDC --out ctdc_cleaned_neg.out  # composition\n",
        "!python iFeature/iFeature.py --file ./cleaned_neg.fasta --type CTDT --out ctdt_cleaned_neg.out  # transition\n",
        "!python iFeature/iFeature.py --file ./cleaned_neg.fasta --type CTDD --out ctdd_cleaned_neg.out  # distribution"
      ],
      "metadata": {
        "colab": {
          "base_uri": "https://localhost:8080/"
        },
        "id": "os-KrM89Cf6S",
        "outputId": "cab4acbf-3d1f-455b-b754-b3afbd08618f"
      },
      "execution_count": null,
      "outputs": [
        {
          "output_type": "stream",
          "name": "stdout",
          "text": [
            "Descriptor type: AAC\n",
            "Descriptor type: DPC\n",
            "Descriptor type: CTDC\n",
            "Descriptor type: CTDT\n",
            "Descriptor type: CTDD\n",
            "Descriptor type: AAC\n",
            "Descriptor type: DPC\n",
            "Descriptor type: CTDC\n",
            "Descriptor type: CTDT\n",
            "Descriptor type: CTDD\n"
          ]
        }
      ]
    },
    {
      "cell_type": "code",
      "source": [
        "def from_files_to_vectors(fasta_path, positive=True):\n",
        "    if positive:\n",
        "        proteins = list(SeqIO.parse(fasta_path+'cleaned_pos.fasta', \"fasta\"))\n",
        "    else:\n",
        "        proteins = list(SeqIO.parse(fasta_path+'cleaned_neg.fasta', \"fasta\"))\n",
        "    extension = \".out\"\n",
        "    files = [\"aac\", \"dpc\", \"ctdc\", \"ctdt\", \"ctdd\"]\n",
        "    if positive:\n",
        "        names = \"_cleaned_pos\"\n",
        "    else:\n",
        "        names = \"_cleaned_neg\"\n",
        "    for i in range(len(files)):\n",
        "        files[i] += names\n",
        "    datasets = [[] for el in files]\n",
        "    for i in range(len(files)):\n",
        "        with open(fasta_path+files[i]+extension) as f:\n",
        "            lines = f.readlines()[1:]\n",
        "            check_prot = 0\n",
        "            for line in lines:\n",
        "                information = line.split('\\t')\n",
        "                if not information[0] == proteins[check_prot].id:\n",
        "                    print(\"Error in protein order! Return\")\n",
        "                    return datasets\n",
        "                datasets[i].append(numpy.array([float(el) for el in information[1:]]))\n",
        "                check_prot += 1\n",
        "        datasets[i] = numpy.array(datasets[i])\n",
        "    return datasets"
      ],
      "metadata": {
        "id": "IXLoKnrvsMK-"
      },
      "execution_count": null,
      "outputs": []
    },
    {
      "cell_type": "code",
      "source": [
        "pos_datasets = from_files_to_vectors(\"./virulent_factor_classification/new_datasets_cleaned/positive/\", positive=True)\n",
        "neg_datasets = from_files_to_vectors(\"./virulent_factor_classification/new_datasets_cleaned/negative/\", positive=False)"
      ],
      "metadata": {
        "id": "qwYSUH_r2Pw6"
      },
      "execution_count": null,
      "outputs": []
    },
    {
      "cell_type": "code",
      "source": [
        "y_pos = numpy.array([1. for _ in range(pos_datasets[0].shape[0])])\n",
        "y_neg = numpy.array([0. for _ in range(neg_datasets[0].shape[0])])"
      ],
      "metadata": {
        "id": "f4MVfbeB2du8"
      },
      "execution_count": null,
      "outputs": []
    },
    {
      "cell_type": "code",
      "source": [
        "datasets = []\n",
        "for i in range(len(pos_datasets)):\n",
        "    datasets.append(\n",
        "        numpy.concatenate((pos_datasets[i], neg_datasets[i]), axis=0)\n",
        "    )\n",
        "y = numpy.concatenate((y_pos, y_neg), axis=0)"
      ],
      "metadata": {
        "id": "6zMXmQ1_6OmK"
      },
      "execution_count": null,
      "outputs": []
    },
    {
      "cell_type": "code",
      "source": [
        "numpy.random.seed(42)\n",
        "c = numpy.random.permutation(numpy.arange(y.shape[0]))\n",
        "for i in range(len(pos_datasets)):\n",
        "    datasets[i] = datasets[i][c]\n",
        "y = y[c]"
      ],
      "metadata": {
        "id": "fXzNFJkE5syG"
      },
      "execution_count": null,
      "outputs": []
    },
    {
      "cell_type": "code",
      "source": [
        "train_len = int(.5*y.shape[0])\n",
        "val_len = int(.25*y.shape[0])\n",
        "print(train_len, val_len)"
      ],
      "metadata": {
        "colab": {
          "base_uri": "https://localhost:8080/"
        },
        "id": "uR2KVNVD7wSf",
        "outputId": "ddcd108e-544c-4695-9e7d-76f80b283254"
      },
      "execution_count": null,
      "outputs": [
        {
          "output_type": "stream",
          "name": "stdout",
          "text": [
            "3107 1553\n"
          ]
        }
      ]
    },
    {
      "cell_type": "code",
      "source": [
        "datasets_train = [el[:train_len] for el in datasets]\n",
        "y_train = y[:train_len] # shape = (3107,)\n",
        "\n",
        "datasets_val = [el[train_len:train_len+val_len] for el in datasets]\n",
        "y_val = y[train_len:train_len+val_len] # shape = (1553,)\n",
        "\n",
        "datasets_test = [el[train_len+val_len:] for el in datasets]\n",
        "y_test = y[train_len+val_len:] # shape = (1554,)"
      ],
      "metadata": {
        "id": "Cz2ZF3CL6J3b"
      },
      "execution_count": null,
      "outputs": []
    },
    {
      "cell_type": "code",
      "source": [
        "class neural_network:\n",
        "    def __init__(self):\n",
        "        input_aac = tensorflow.keras.Input(shape=(20,))\n",
        "        input_dpc = tensorflow.keras.Input(shape=(400,))\n",
        "        input_ctdc = tensorflow.keras.Input(shape=(39,))\n",
        "        input_ctdt = tensorflow.keras.Input(shape=(39,))\n",
        "        input_ctdd = tensorflow.keras.Input(shape=(195,))\n",
        "        \n",
        "        aac_dense = tensorflow.keras.layers.Dense(20, activation='sigmoid')(input_aac)\n",
        "        dpc_dense = tensorflow.keras.layers.Dense(400, activation='sigmoid')(input_dpc)\n",
        "        ctdc_dense = tensorflow.keras.layers.Dense(39, activation='sigmoid')(input_ctdc)\n",
        "        ctdt_dense = tensorflow.keras.layers.Dense(39, activation='sigmoid')(input_ctdt)\n",
        "        ctdd_dense = tensorflow.keras.layers.Dense(195, activation='sigmoid')(input_ctdd)\n",
        "\n",
        "        concat = tensorflow.keras.layers.Concatenate()([aac_dense, dpc_dense, ctdc_dense, ctdt_dense, ctdd_dense])\n",
        "\n",
        "        output = tensorflow.keras.layers.Dense(1, activation='sigmoid')(concat)\n",
        "        model = tensorflow.keras.models.Model(inputs=[input_aac, input_dpc, input_ctdc, input_ctdt, input_ctdd], outputs=output)\n",
        "        model.compile(optimizer=tensorflow.keras.optimizers.Adam(learning_rate=0.001), loss='binary_crossentropy', metrics='accuracy')\n",
        "        self.model = model"
      ],
      "metadata": {
        "id": "iFTw-ztU4eVN"
      },
      "execution_count": null,
      "outputs": []
    },
    {
      "cell_type": "code",
      "source": [
        "nn = neural_network()"
      ],
      "metadata": {
        "id": "D9fue6LXDdMv"
      },
      "execution_count": null,
      "outputs": []
    },
    {
      "cell_type": "code",
      "source": [
        "history = nn.model.fit(\n",
        "    x=datasets_train, \n",
        "    y=y_train,\n",
        "    batch_size=32,\n",
        "    epochs=100,\n",
        "    verbose=2,\n",
        "    validation_data=(datasets_val, y_val),\n",
        "    shuffle=True\n",
        ")"
      ],
      "metadata": {
        "id": "Umtj8rG_DqFQ",
        "colab": {
          "base_uri": "https://localhost:8080/"
        },
        "outputId": "a1719c8e-ed2d-47f4-8776-a6b0b55f9f77"
      },
      "execution_count": null,
      "outputs": [
        {
          "output_type": "stream",
          "name": "stdout",
          "text": [
            "Epoch 1/100\n",
            "98/98 - 1s - loss: 0.6954 - accuracy: 0.5146 - val_loss: 0.7293 - val_accuracy: 0.4971 - 1s/epoch - 13ms/step\n",
            "Epoch 2/100\n",
            "98/98 - 0s - loss: 0.6877 - accuracy: 0.5365 - val_loss: 0.6787 - val_accuracy: 0.5145 - 491ms/epoch - 5ms/step\n",
            "Epoch 3/100\n",
            "98/98 - 0s - loss: 0.6740 - accuracy: 0.6051 - val_loss: 0.6697 - val_accuracy: 0.5776 - 458ms/epoch - 5ms/step\n",
            "Epoch 4/100\n",
            "98/98 - 0s - loss: 0.6633 - accuracy: 0.6067 - val_loss: 0.6678 - val_accuracy: 0.5441 - 495ms/epoch - 5ms/step\n",
            "Epoch 5/100\n",
            "98/98 - 0s - loss: 0.6544 - accuracy: 0.6283 - val_loss: 0.6888 - val_accuracy: 0.5023 - 472ms/epoch - 5ms/step\n",
            "Epoch 6/100\n",
            "98/98 - 0s - loss: 0.6465 - accuracy: 0.6373 - val_loss: 0.6364 - val_accuracy: 0.6484 - 479ms/epoch - 5ms/step\n",
            "Epoch 7/100\n",
            "98/98 - 0s - loss: 0.6303 - accuracy: 0.6707 - val_loss: 0.6437 - val_accuracy: 0.5454 - 498ms/epoch - 5ms/step\n",
            "Epoch 8/100\n",
            "98/98 - 0s - loss: 0.6177 - accuracy: 0.7016 - val_loss: 0.6461 - val_accuracy: 0.5364 - 487ms/epoch - 5ms/step\n",
            "Epoch 9/100\n",
            "98/98 - 0s - loss: 0.6066 - accuracy: 0.7110 - val_loss: 0.6166 - val_accuracy: 0.6091 - 419ms/epoch - 4ms/step\n",
            "Epoch 10/100\n",
            "98/98 - 1s - loss: 0.5970 - accuracy: 0.7045 - val_loss: 0.5941 - val_accuracy: 0.7070 - 502ms/epoch - 5ms/step\n",
            "Epoch 11/100\n",
            "98/98 - 0s - loss: 0.5808 - accuracy: 0.7267 - val_loss: 0.5845 - val_accuracy: 0.7128 - 489ms/epoch - 5ms/step\n",
            "Epoch 12/100\n",
            "98/98 - 1s - loss: 0.5756 - accuracy: 0.7219 - val_loss: 0.5754 - val_accuracy: 0.7193 - 504ms/epoch - 5ms/step\n",
            "Epoch 13/100\n",
            "98/98 - 0s - loss: 0.5656 - accuracy: 0.7210 - val_loss: 0.5968 - val_accuracy: 0.6182 - 432ms/epoch - 4ms/step\n",
            "Epoch 14/100\n",
            "98/98 - 0s - loss: 0.5572 - accuracy: 0.7261 - val_loss: 0.5641 - val_accuracy: 0.7109 - 497ms/epoch - 5ms/step\n",
            "Epoch 15/100\n",
            "98/98 - 0s - loss: 0.5460 - accuracy: 0.7428 - val_loss: 0.5522 - val_accuracy: 0.7469 - 420ms/epoch - 4ms/step\n",
            "Epoch 16/100\n",
            "98/98 - 0s - loss: 0.5341 - accuracy: 0.7502 - val_loss: 0.5484 - val_accuracy: 0.7489 - 497ms/epoch - 5ms/step\n",
            "Epoch 17/100\n",
            "98/98 - 0s - loss: 0.5250 - accuracy: 0.7564 - val_loss: 0.5400 - val_accuracy: 0.7495 - 436ms/epoch - 4ms/step\n",
            "Epoch 18/100\n",
            "98/98 - 1s - loss: 0.5212 - accuracy: 0.7541 - val_loss: 0.5459 - val_accuracy: 0.7109 - 503ms/epoch - 5ms/step\n",
            "Epoch 19/100\n",
            "98/98 - 0s - loss: 0.5125 - accuracy: 0.7576 - val_loss: 0.5320 - val_accuracy: 0.7527 - 422ms/epoch - 4ms/step\n",
            "Epoch 20/100\n",
            "98/98 - 0s - loss: 0.5101 - accuracy: 0.7631 - val_loss: 0.5493 - val_accuracy: 0.6864 - 475ms/epoch - 5ms/step\n",
            "Epoch 21/100\n",
            "98/98 - 0s - loss: 0.5054 - accuracy: 0.7628 - val_loss: 0.5325 - val_accuracy: 0.7257 - 481ms/epoch - 5ms/step\n",
            "Epoch 22/100\n",
            "98/98 - 0s - loss: 0.4973 - accuracy: 0.7667 - val_loss: 0.5188 - val_accuracy: 0.7514 - 430ms/epoch - 4ms/step\n",
            "Epoch 23/100\n",
            "98/98 - 0s - loss: 0.4910 - accuracy: 0.7650 - val_loss: 0.5159 - val_accuracy: 0.7495 - 435ms/epoch - 4ms/step\n",
            "Epoch 24/100\n",
            "98/98 - 0s - loss: 0.4924 - accuracy: 0.7692 - val_loss: 0.5348 - val_accuracy: 0.7135 - 425ms/epoch - 4ms/step\n",
            "Epoch 25/100\n",
            "98/98 - 0s - loss: 0.4869 - accuracy: 0.7702 - val_loss: 0.5154 - val_accuracy: 0.7450 - 442ms/epoch - 5ms/step\n",
            "Epoch 26/100\n",
            "98/98 - 0s - loss: 0.4821 - accuracy: 0.7699 - val_loss: 0.5333 - val_accuracy: 0.7444 - 442ms/epoch - 5ms/step\n",
            "Epoch 27/100\n",
            "98/98 - 0s - loss: 0.4809 - accuracy: 0.7753 - val_loss: 0.5058 - val_accuracy: 0.7495 - 431ms/epoch - 4ms/step\n",
            "Epoch 28/100\n",
            "98/98 - 0s - loss: 0.4799 - accuracy: 0.7747 - val_loss: 0.5111 - val_accuracy: 0.7386 - 482ms/epoch - 5ms/step\n",
            "Epoch 29/100\n",
            "98/98 - 0s - loss: 0.4734 - accuracy: 0.7757 - val_loss: 0.5059 - val_accuracy: 0.7650 - 434ms/epoch - 4ms/step\n",
            "Epoch 30/100\n",
            "98/98 - 0s - loss: 0.4695 - accuracy: 0.7770 - val_loss: 0.4986 - val_accuracy: 0.7598 - 408ms/epoch - 4ms/step\n",
            "Epoch 31/100\n",
            "98/98 - 0s - loss: 0.4648 - accuracy: 0.7844 - val_loss: 0.5045 - val_accuracy: 0.7399 - 416ms/epoch - 4ms/step\n",
            "Epoch 32/100\n",
            "98/98 - 1s - loss: 0.4652 - accuracy: 0.7844 - val_loss: 0.5063 - val_accuracy: 0.7650 - 641ms/epoch - 7ms/step\n",
            "Epoch 33/100\n",
            "98/98 - 1s - loss: 0.4662 - accuracy: 0.7818 - val_loss: 0.4939 - val_accuracy: 0.7637 - 946ms/epoch - 10ms/step\n",
            "Epoch 34/100\n",
            "98/98 - 1s - loss: 0.4613 - accuracy: 0.7860 - val_loss: 0.5013 - val_accuracy: 0.7405 - 991ms/epoch - 10ms/step\n",
            "Epoch 35/100\n",
            "98/98 - 1s - loss: 0.4589 - accuracy: 0.7844 - val_loss: 0.4935 - val_accuracy: 0.7669 - 1s/epoch - 11ms/step\n",
            "Epoch 36/100\n",
            "98/98 - 1s - loss: 0.4641 - accuracy: 0.7799 - val_loss: 0.4977 - val_accuracy: 0.7450 - 995ms/epoch - 10ms/step\n",
            "Epoch 37/100\n",
            "98/98 - 1s - loss: 0.4563 - accuracy: 0.7940 - val_loss: 0.4969 - val_accuracy: 0.7721 - 991ms/epoch - 10ms/step\n",
            "Epoch 38/100\n",
            "98/98 - 1s - loss: 0.4585 - accuracy: 0.7840 - val_loss: 0.4992 - val_accuracy: 0.7431 - 800ms/epoch - 8ms/step\n",
            "Epoch 39/100\n",
            "98/98 - 1s - loss: 0.4538 - accuracy: 0.7866 - val_loss: 0.4893 - val_accuracy: 0.7688 - 970ms/epoch - 10ms/step\n",
            "Epoch 40/100\n",
            "98/98 - 1s - loss: 0.4484 - accuracy: 0.7943 - val_loss: 0.4891 - val_accuracy: 0.7695 - 692ms/epoch - 7ms/step\n",
            "Epoch 41/100\n",
            "98/98 - 0s - loss: 0.4455 - accuracy: 0.7976 - val_loss: 0.4954 - val_accuracy: 0.7701 - 476ms/epoch - 5ms/step\n",
            "Epoch 42/100\n",
            "98/98 - 0s - loss: 0.4482 - accuracy: 0.7918 - val_loss: 0.4955 - val_accuracy: 0.7469 - 416ms/epoch - 4ms/step\n",
            "Epoch 43/100\n",
            "98/98 - 0s - loss: 0.4421 - accuracy: 0.7956 - val_loss: 0.4878 - val_accuracy: 0.7650 - 469ms/epoch - 5ms/step\n",
            "Epoch 44/100\n",
            "98/98 - 0s - loss: 0.4452 - accuracy: 0.7982 - val_loss: 0.4885 - val_accuracy: 0.7592 - 408ms/epoch - 4ms/step\n",
            "Epoch 45/100\n",
            "98/98 - 0s - loss: 0.4401 - accuracy: 0.8005 - val_loss: 0.4865 - val_accuracy: 0.7746 - 413ms/epoch - 4ms/step\n",
            "Epoch 46/100\n",
            "98/98 - 0s - loss: 0.4417 - accuracy: 0.7924 - val_loss: 0.4864 - val_accuracy: 0.7733 - 436ms/epoch - 4ms/step\n",
            "Epoch 47/100\n",
            "98/98 - 0s - loss: 0.4436 - accuracy: 0.7969 - val_loss: 0.5050 - val_accuracy: 0.7650 - 459ms/epoch - 5ms/step\n",
            "Epoch 48/100\n",
            "98/98 - 0s - loss: 0.4431 - accuracy: 0.7924 - val_loss: 0.4912 - val_accuracy: 0.7727 - 482ms/epoch - 5ms/step\n",
            "Epoch 49/100\n",
            "98/98 - 0s - loss: 0.4379 - accuracy: 0.8017 - val_loss: 0.4886 - val_accuracy: 0.7585 - 472ms/epoch - 5ms/step\n",
            "Epoch 50/100\n",
            "98/98 - 0s - loss: 0.4379 - accuracy: 0.8033 - val_loss: 0.4856 - val_accuracy: 0.7753 - 493ms/epoch - 5ms/step\n",
            "Epoch 51/100\n",
            "98/98 - 0s - loss: 0.4416 - accuracy: 0.7905 - val_loss: 0.4855 - val_accuracy: 0.7753 - 415ms/epoch - 4ms/step\n",
            "Epoch 52/100\n",
            "98/98 - 0s - loss: 0.4359 - accuracy: 0.7988 - val_loss: 0.4874 - val_accuracy: 0.7618 - 476ms/epoch - 5ms/step\n",
            "Epoch 53/100\n",
            "98/98 - 0s - loss: 0.4368 - accuracy: 0.7988 - val_loss: 0.4868 - val_accuracy: 0.7708 - 475ms/epoch - 5ms/step\n",
            "Epoch 54/100\n",
            "98/98 - 0s - loss: 0.4347 - accuracy: 0.8001 - val_loss: 0.4864 - val_accuracy: 0.7727 - 423ms/epoch - 4ms/step\n",
            "Epoch 55/100\n",
            "98/98 - 0s - loss: 0.4328 - accuracy: 0.8030 - val_loss: 0.4998 - val_accuracy: 0.7463 - 416ms/epoch - 4ms/step\n",
            "Epoch 56/100\n",
            "98/98 - 0s - loss: 0.4320 - accuracy: 0.8066 - val_loss: 0.5004 - val_accuracy: 0.7688 - 435ms/epoch - 4ms/step\n",
            "Epoch 57/100\n",
            "98/98 - 0s - loss: 0.4334 - accuracy: 0.8005 - val_loss: 0.4889 - val_accuracy: 0.7547 - 428ms/epoch - 4ms/step\n",
            "Epoch 58/100\n",
            "98/98 - 0s - loss: 0.4288 - accuracy: 0.8062 - val_loss: 0.4866 - val_accuracy: 0.7682 - 473ms/epoch - 5ms/step\n",
            "Epoch 59/100\n",
            "98/98 - 0s - loss: 0.4325 - accuracy: 0.7982 - val_loss: 0.4854 - val_accuracy: 0.7727 - 496ms/epoch - 5ms/step\n",
            "Epoch 60/100\n",
            "98/98 - 0s - loss: 0.4281 - accuracy: 0.8037 - val_loss: 0.4855 - val_accuracy: 0.7727 - 409ms/epoch - 4ms/step\n",
            "Epoch 61/100\n",
            "98/98 - 0s - loss: 0.4276 - accuracy: 0.8040 - val_loss: 0.4859 - val_accuracy: 0.7727 - 481ms/epoch - 5ms/step\n",
            "Epoch 62/100\n",
            "98/98 - 0s - loss: 0.4259 - accuracy: 0.8075 - val_loss: 0.5278 - val_accuracy: 0.7296 - 405ms/epoch - 4ms/step\n",
            "Epoch 63/100\n",
            "98/98 - 0s - loss: 0.4333 - accuracy: 0.8046 - val_loss: 0.4872 - val_accuracy: 0.7753 - 408ms/epoch - 4ms/step\n",
            "Epoch 64/100\n",
            "98/98 - 0s - loss: 0.4257 - accuracy: 0.8095 - val_loss: 0.4976 - val_accuracy: 0.7714 - 480ms/epoch - 5ms/step\n",
            "Epoch 65/100\n",
            "98/98 - 0s - loss: 0.4260 - accuracy: 0.8062 - val_loss: 0.4862 - val_accuracy: 0.7714 - 471ms/epoch - 5ms/step\n",
            "Epoch 66/100\n",
            "98/98 - 0s - loss: 0.4227 - accuracy: 0.8075 - val_loss: 0.4864 - val_accuracy: 0.7740 - 476ms/epoch - 5ms/step\n",
            "Epoch 67/100\n",
            "98/98 - 0s - loss: 0.4284 - accuracy: 0.7998 - val_loss: 0.4901 - val_accuracy: 0.7553 - 408ms/epoch - 4ms/step\n",
            "Epoch 68/100\n",
            "98/98 - 0s - loss: 0.4265 - accuracy: 0.8059 - val_loss: 0.4991 - val_accuracy: 0.7527 - 434ms/epoch - 4ms/step\n",
            "Epoch 69/100\n",
            "98/98 - 0s - loss: 0.4218 - accuracy: 0.8017 - val_loss: 0.4919 - val_accuracy: 0.7733 - 420ms/epoch - 4ms/step\n",
            "Epoch 70/100\n",
            "98/98 - 0s - loss: 0.4281 - accuracy: 0.8005 - val_loss: 0.5013 - val_accuracy: 0.7727 - 480ms/epoch - 5ms/step\n",
            "Epoch 71/100\n",
            "98/98 - 0s - loss: 0.4205 - accuracy: 0.8072 - val_loss: 0.4885 - val_accuracy: 0.7746 - 479ms/epoch - 5ms/step\n",
            "Epoch 72/100\n",
            "98/98 - 0s - loss: 0.4231 - accuracy: 0.8072 - val_loss: 0.4872 - val_accuracy: 0.7740 - 427ms/epoch - 4ms/step\n",
            "Epoch 73/100\n",
            "98/98 - 0s - loss: 0.4194 - accuracy: 0.8114 - val_loss: 0.5086 - val_accuracy: 0.7695 - 451ms/epoch - 5ms/step\n",
            "Epoch 74/100\n",
            "98/98 - 0s - loss: 0.4175 - accuracy: 0.8088 - val_loss: 0.4878 - val_accuracy: 0.7740 - 462ms/epoch - 5ms/step\n",
            "Epoch 75/100\n",
            "98/98 - 0s - loss: 0.4227 - accuracy: 0.8095 - val_loss: 0.4908 - val_accuracy: 0.7579 - 424ms/epoch - 4ms/step\n",
            "Epoch 76/100\n",
            "98/98 - 0s - loss: 0.4168 - accuracy: 0.8091 - val_loss: 0.4885 - val_accuracy: 0.7708 - 414ms/epoch - 4ms/step\n",
            "Epoch 77/100\n",
            "98/98 - 0s - loss: 0.4175 - accuracy: 0.8124 - val_loss: 0.4980 - val_accuracy: 0.7508 - 477ms/epoch - 5ms/step\n",
            "Epoch 78/100\n",
            "98/98 - 0s - loss: 0.4202 - accuracy: 0.8072 - val_loss: 0.4888 - val_accuracy: 0.7708 - 464ms/epoch - 5ms/step\n",
            "Epoch 79/100\n",
            "98/98 - 0s - loss: 0.4181 - accuracy: 0.8140 - val_loss: 0.4930 - val_accuracy: 0.7566 - 422ms/epoch - 4ms/step\n",
            "Epoch 80/100\n",
            "98/98 - 0s - loss: 0.4201 - accuracy: 0.8017 - val_loss: 0.4899 - val_accuracy: 0.7721 - 467ms/epoch - 5ms/step\n",
            "Epoch 81/100\n",
            "98/98 - 0s - loss: 0.4156 - accuracy: 0.8114 - val_loss: 0.4904 - val_accuracy: 0.7675 - 409ms/epoch - 4ms/step\n",
            "Epoch 82/100\n",
            "98/98 - 0s - loss: 0.4137 - accuracy: 0.8133 - val_loss: 0.4911 - val_accuracy: 0.7643 - 481ms/epoch - 5ms/step\n",
            "Epoch 83/100\n",
            "98/98 - 1s - loss: 0.4202 - accuracy: 0.8075 - val_loss: 0.5036 - val_accuracy: 0.7514 - 736ms/epoch - 8ms/step\n",
            "Epoch 84/100\n",
            "98/98 - 0s - loss: 0.4110 - accuracy: 0.8165 - val_loss: 0.4942 - val_accuracy: 0.7547 - 412ms/epoch - 4ms/step\n",
            "Epoch 85/100\n",
            "98/98 - 1s - loss: 0.4141 - accuracy: 0.8162 - val_loss: 0.4991 - val_accuracy: 0.7733 - 779ms/epoch - 8ms/step\n",
            "Epoch 86/100\n",
            "98/98 - 0s - loss: 0.4170 - accuracy: 0.8159 - val_loss: 0.4911 - val_accuracy: 0.7688 - 416ms/epoch - 4ms/step\n",
            "Epoch 87/100\n",
            "98/98 - 0s - loss: 0.4133 - accuracy: 0.8140 - val_loss: 0.4928 - val_accuracy: 0.7650 - 439ms/epoch - 4ms/step\n",
            "Epoch 88/100\n",
            "98/98 - 0s - loss: 0.4119 - accuracy: 0.8153 - val_loss: 0.4937 - val_accuracy: 0.7714 - 412ms/epoch - 4ms/step\n",
            "Epoch 89/100\n",
            "98/98 - 0s - loss: 0.4120 - accuracy: 0.8185 - val_loss: 0.4955 - val_accuracy: 0.7701 - 470ms/epoch - 5ms/step\n",
            "Epoch 90/100\n",
            "98/98 - 0s - loss: 0.4095 - accuracy: 0.8162 - val_loss: 0.4994 - val_accuracy: 0.7733 - 415ms/epoch - 4ms/step\n",
            "Epoch 91/100\n",
            "98/98 - 0s - loss: 0.4153 - accuracy: 0.8182 - val_loss: 0.4996 - val_accuracy: 0.7733 - 430ms/epoch - 4ms/step\n",
            "Epoch 92/100\n",
            "98/98 - 0s - loss: 0.4085 - accuracy: 0.8185 - val_loss: 0.4928 - val_accuracy: 0.7708 - 414ms/epoch - 4ms/step\n",
            "Epoch 93/100\n",
            "98/98 - 0s - loss: 0.4159 - accuracy: 0.8095 - val_loss: 0.4947 - val_accuracy: 0.7618 - 480ms/epoch - 5ms/step\n",
            "Epoch 94/100\n",
            "98/98 - 0s - loss: 0.4057 - accuracy: 0.8239 - val_loss: 0.4980 - val_accuracy: 0.7547 - 487ms/epoch - 5ms/step\n",
            "Epoch 95/100\n",
            "98/98 - 0s - loss: 0.4087 - accuracy: 0.8143 - val_loss: 0.4944 - val_accuracy: 0.7637 - 442ms/epoch - 5ms/step\n",
            "Epoch 96/100\n",
            "98/98 - 0s - loss: 0.4087 - accuracy: 0.8153 - val_loss: 0.4945 - val_accuracy: 0.7688 - 473ms/epoch - 5ms/step\n",
            "Epoch 97/100\n",
            "98/98 - 0s - loss: 0.4125 - accuracy: 0.8169 - val_loss: 0.5100 - val_accuracy: 0.7482 - 413ms/epoch - 4ms/step\n",
            "Epoch 98/100\n",
            "98/98 - 0s - loss: 0.4158 - accuracy: 0.8120 - val_loss: 0.4947 - val_accuracy: 0.7682 - 417ms/epoch - 4ms/step\n",
            "Epoch 99/100\n",
            "98/98 - 0s - loss: 0.4075 - accuracy: 0.8162 - val_loss: 0.4985 - val_accuracy: 0.7708 - 477ms/epoch - 5ms/step\n",
            "Epoch 100/100\n",
            "98/98 - 0s - loss: 0.4061 - accuracy: 0.8165 - val_loss: 0.4957 - val_accuracy: 0.7675 - 415ms/epoch - 4ms/step\n"
          ]
        }
      ]
    },
    {
      "cell_type": "code",
      "source": [
        "plt.title('Accuracy during training')\n",
        "plt.plot(range(len(history.history['loss'])), history.history['accuracy'], label='accuracy', color='green')\n",
        "plt.plot(range(len(history.history['loss'])), history.history['val_accuracy'], label='validation accuracy', color='red')\n",
        "plt.grid(color='gray', linewidth=.4)\n",
        "\n",
        "plt.legend(loc=\"lower left\")\n",
        "plt.xlabel(\"epochs\")\n",
        "plt.ylabel(\"accuracy\")\n",
        "plt.xlim(0, len(history.history['loss'])+1)\n",
        "plt.savefig('acc.png')"
      ],
      "metadata": {
        "colab": {
          "base_uri": "https://localhost:8080/",
          "height": 295
        },
        "id": "vAZZfqY-E5Th",
        "outputId": "a33fa089-e868-449b-d91e-898d9f887752"
      },
      "execution_count": null,
      "outputs": [
        {
          "output_type": "display_data",
          "data": {
            "text/plain": [
              "<Figure size 432x288 with 1 Axes>"
            ],
            "image/png": "[encoded data removed]"
          },
          "metadata": {
            "needs_background": "light"
          }
        }
      ]
    },
    {
      "cell_type": "code",
      "source": [
        "nn.model.evaluate(x=datasets_test, y=y_test)"
      ],
      "metadata": {
        "colab": {
          "base_uri": "https://localhost:8080/"
        },
        "id": "68-xjmOMFPQf",
        "outputId": "8a5c475a-40b5-44b8-89c5-4bb7bc473e22"
      },
      "execution_count": null,
      "outputs": [
        {
          "output_type": "stream",
          "name": "stdout",
          "text": [
            "49/49 [==============================] - 0s 2ms/step - loss: 0.4861 - accuracy: 0.7844\n"
          ]
        },
        {
          "output_type": "execute_result",
          "data": {
            "text/plain": [
              "[0.4861437976360321, 0.784427285194397]"
            ]
          },
          "metadata": {},
          "execution_count": 36
        }
      ]
    },
    {
      "cell_type": "code",
      "source": [
        "nn.model.save('trained_model.h5')"
      ],
      "metadata": {
        "id": "6_SvPGfiF57L"
      },
      "execution_count": null,
      "outputs": []
    },
    {
      "cell_type": "markdown",
      "source": [
        "### Check performace on negative and positive classes"
      ],
      "metadata": {
        "id": "57LZ_fI59-Tk"
      }
    },
    {
      "cell_type": "code",
      "source": [
        "pos_dataset_test = [[] for array in range(len(datasets_test))]\n",
        "for array in range(len(datasets_test)):\n",
        "  for item, i in zip(datasets_test[array], y_test):\n",
        "    if i == 1:\n",
        "      pos_dataset_test[array].append(list(item))\n",
        "for i in range(5):\n",
        "  pos_dataset_test[i]=numpy.array(pos_dataset_test[i])\n",
        "y_pos_test = numpy.array([1. for _ in range(len(pos_dataset_test[0]))])\n",
        "\n",
        "neg_dataset_test = [[] for array in range(len(datasets_test))]\n",
        "for array in range(len(datasets_test)):\n",
        "  for item, i in zip(datasets_test[array], y_test):\n",
        "    if i == 0:\n",
        "      neg_dataset_test[array].append(list(item))\n",
        "for i in range(5):\n",
        "  neg_dataset_test[i]=numpy.array(neg_dataset_test[i])\n",
        "y_neg_test = numpy.array([0. for _ in range(len(neg_dataset_test[0]))])"
      ],
      "metadata": {
        "id": "vVhjh964zo0i"
      },
      "execution_count": null,
      "outputs": []
    },
    {
      "cell_type": "code",
      "source": [
        "nn.model.evaluate(x=pos_dataset_test, y=y_pos_test)"
      ],
      "metadata": {
        "colab": {
          "base_uri": "https://localhost:8080/"
        },
        "id": "nebgwtry1LKe",
        "outputId": "6f2241f3-131a-4660-a131-c308ad13fe81"
      },
      "execution_count": null,
      "outputs": [
        {
          "output_type": "stream",
          "name": "stdout",
          "text": [
            "24/24 [==============================] - 0s 4ms/step - loss: 0.5371 - accuracy: 0.7480\n"
          ]
        },
        {
          "output_type": "execute_result",
          "data": {
            "text/plain": [
              "[0.5371150374412537, 0.748021125793457]"
            ]
          },
          "metadata": {},
          "execution_count": 98
        }
      ]
    },
    {
      "cell_type": "code",
      "source": [
        "nn.model.evaluate(x=neg_dataset_test, y=y_neg_test)"
      ],
      "metadata": {
        "colab": {
          "base_uri": "https://localhost:8080/"
        },
        "id": "cvtOCBmM1MOf",
        "outputId": "551b848f-65fa-48c1-9388-84822eda068c"
      },
      "execution_count": null,
      "outputs": [
        {
          "output_type": "stream",
          "name": "stdout",
          "text": [
            "25/25 [==============================] - 0s 2ms/step - loss: 0.4376 - accuracy: 0.8191\n"
          ]
        },
        {
          "output_type": "execute_result",
          "data": {
            "text/plain": [
              "[0.43760573863983154, 0.8190954923629761]"
            ]
          },
          "metadata": {},
          "execution_count": 104
        }
      ]
    },
    {
      "cell_type": "code",
      "source": [
        ""
      ],
      "metadata": {
        "id": "-l0U866a2DRg"
      },
      "execution_count": null,
      "outputs": []
    },
    {
      "cell_type": "code",
      "source": [
        ""
      ],
      "metadata": {
        "id": "H-GcluCY2X5k"
      },
      "execution_count": null,
      "outputs": []
    }
  ]
}
