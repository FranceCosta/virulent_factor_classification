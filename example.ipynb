{
  "nbformat": 4,
  "nbformat_minor": 0,
  "metadata": {
    "colab": {
      "name": "Virulent_pred_cleaned.ipynb",
      "provenance": [],
      "collapsed_sections": []
    },
    "kernelspec": {
      "name": "python3",
      "display_name": "Python 3"
    },
    "language_info": {
      "name": "python"
    }
  },
  "cells": [
    {
      "cell_type": "code",
      "execution_count": 1,
      "metadata": {
        "colab": {
          "base_uri": "https://localhost:8080/"
        },
        "id": "ezfZzH9lnDl3",
        "outputId": "88a6d008-b32d-40c5-cde0-7d15afdee205"
      },
      "outputs": [
        {
          "output_type": "stream",
          "name": "stdout",
          "text": [
            "Collecting Biopython\n",
            "  Downloading biopython-1.79-cp37-cp37m-manylinux_2_5_x86_64.manylinux1_x86_64.whl (2.3 MB)\n",
            "\u001b[K     |████████████████████████████████| 2.3 MB 3.2 MB/s \n",
            "\u001b[?25hRequirement already satisfied: numpy in /usr/local/lib/python3.7/dist-packages (from Biopython) (1.21.5)\n",
            "Installing collected packages: Biopython\n",
            "Successfully installed Biopython-1.79\n",
            "rm: cannot remove 'iFeature': No such file or directory\n",
            "Cloning into 'iFeature'...\n",
            "remote: Enumerating objects: 313, done.\u001b[K\n",
            "remote: Counting objects: 100% (25/25), done.\u001b[K\n",
            "remote: Compressing objects: 100% (25/25), done.\u001b[K\n",
            "remote: Total 313 (delta 14), reused 1 (delta 0), pack-reused 288\u001b[K\n",
            "Receiving objects: 100% (313/313), 6.72 MiB | 20.18 MiB/s, done.\n",
            "Resolving deltas: 100% (143/143), done.\n",
            "Cloning into 'virulent_factor_classification'...\n",
            "remote: Enumerating objects: 186, done.\u001b[K\n",
            "remote: Counting objects: 100% (186/186), done.\u001b[K\n",
            "remote: Compressing objects: 100% (169/169), done.\u001b[K\n",
            "remote: Total 186 (delta 77), reused 61 (delta 14), pack-reused 0\u001b[K\n",
            "Receiving objects: 100% (186/186), 59.49 MiB | 11.44 MiB/s, done.\n",
            "Resolving deltas: 100% (77/77), done.\n",
            "Checking out files: 100% (46/46), done.\n"
          ]
        }
      ],
      "source": [
        "!pip install Biopython\n",
        "!rm -r iFeature\n",
        "!git clone https://github.com/Superzchen/iFeature\n",
        "!git clone https://github.com/FranceCosta/virulent_factor_classification.git\n",
        "\n",
        "import numpy\n",
        "import tensorflow\n",
        "from tensorflow import keras\n",
        "import matplotlib.pyplot as plt\n",
        "from Bio import SeqIO"
      ]
    },
    {
      "cell_type": "markdown",
      "source": [
        "### Following [this](https://doi.org/10.1093/bib/bbv082) on dataset preparation a treshold of 60% identity have been chosen for a clustering with [CD-hit](http://weizhong-lab.ucsd.edu/cdhit-web-server/cgi-bin/index.cgi?cmd=cd-hit) "
      ],
      "metadata": {
        "id": "5_qRAUKplhNa"
      }
    },
    {
      "cell_type": "code",
      "source": [
        "# parse CD-Hit data\n",
        "infile = open('virulent_factor_classification/new_datasets_cleaned/pos_fasta_60', 'r').readlines()\n",
        "pos_ids = []\n",
        "for element in str(infile).split('>'):\n",
        "  for seq in element.split('\\n'):\n",
        "    if '*' in seq:\n",
        "      pos_ids.append(seq.split('|')[0][:-3])\n",
        "infile = open('virulent_factor_classification/new_datasets_cleaned/neg_fasta_60', 'r').readlines()\n",
        "neg_ids = []\n",
        "for element in str(infile).split('>'):\n",
        "  for seq in element.split('\\n'):\n",
        "    if '*' in seq:\n",
        "      neg_ids.append(seq.split('|')[1])"
      ],
      "metadata": {
        "id": "ICidQQboZ-Du"
      },
      "execution_count": 20,
      "outputs": []
    },
    {
      "cell_type": "code",
      "source": [
        "print(len(neg_ids))\n",
        "print(len(pos_ids))"
      ],
      "metadata": {
        "colab": {
          "base_uri": "https://localhost:8080/"
        },
        "id": "qwwuP9Ph47w9",
        "outputId": "4d6784cc-dc86-45e5-bfcd-4f954cb3a457"
      },
      "execution_count": 21,
      "outputs": [
        {
          "output_type": "stream",
          "name": "stdout",
          "text": [
            "3107\n",
            "3705\n"
          ]
        }
      ]
    },
    {
      "cell_type": "code",
      "source": [
        "# clean sequence data\n",
        "pos_seqs = list(SeqIO.parse('./virulent_factor_classification/new_datasets/positive/pos.fasta', 'fasta'))\n",
        "cleaned_pos_seqs = [entry for entry in pos_seqs if str(entry.id.split('(')[0]) in str(pos_ids)]\n",
        "\n",
        "neg_seqs = list(SeqIO.parse('./virulent_factor_classification/new_datasets/negative/neg.fasta', 'fasta'))\n",
        "cleaned_neg_seqs = [entry for entry in neg_seqs if str(entry.id.split('|')[1]) in str(neg_ids)]\n",
        "\n",
        "cleaned_pos_seqs = cleaned_pos_seqs[:3107] # reduce dataset to match negative dataset length\n",
        "print(len(cleaned_pos_seqs))\n",
        "print(len(cleaned_neg_seqs))"
      ],
      "metadata": {
        "colab": {
          "base_uri": "https://localhost:8080/"
        },
        "id": "CMV4mWfs-RAO",
        "outputId": "98ab6d16-83e2-4099-c0d3-e066f16e5248"
      },
      "execution_count": 33,
      "outputs": [
        {
          "output_type": "stream",
          "name": "stdout",
          "text": [
            "3107\n",
            "3107\n"
          ]
        }
      ]
    },
    {
      "cell_type": "code",
      "source": [
        "# rewrite fasta files\n",
        "def writer(fasta_list, outfile_name):\n",
        "  outfile = open(outfile_name, 'w')\n",
        "  for entry in fasta_list:\n",
        "    outfile.write('>'+str(entry.id)+'\\n')\n",
        "    outfile.write(str(entry.seq)+'\\n')\n",
        "writer(cleaned_pos_seqs, 'cleaned_pos.fasta')\n",
        "writer(cleaned_neg_seqs, 'cleaned_neg.fasta')"
      ],
      "metadata": {
        "id": "90TEgHgjBSLk"
      },
      "execution_count": 35,
      "outputs": []
    },
    {
      "cell_type": "code",
      "source": [
        "!python iFeature/iFeature.py --file ./cleaned_pos.fasta --type AAC --out aac_cleaned_pos.out    # amino acids composition\n",
        "!python iFeature/iFeature.py --file ./cleaned_pos.fasta --type DPC --out dpc_cleaned_pos.out    # dipeptide composition\n",
        "!python iFeature/iFeature.py --file ./cleaned_pos.fasta --type CTDC --out ctdc_cleaned_pos.out  # composition\n",
        "!python iFeature/iFeature.py --file ./cleaned_pos.fasta --type CTDT --out ctdt_cleaned_pos.out  # transition\n",
        "!python iFeature/iFeature.py --file ./cleaned_pos.fasta --type CTDD --out ctdd_cleaned_pos.out  # distribution\n",
        "\n",
        "!python iFeature/iFeature.py --file ./cleaned_neg.fasta --type AAC --out aac_cleaned_neg.out    # amino acids composition\n",
        "!python iFeature/iFeature.py --file ./cleaned_neg.fasta --type DPC --out dpc_cleaned_neg.out    # dipeptide composition\n",
        "!python iFeature/iFeature.py --file ./cleaned_neg.fasta --type CTDC --out ctdc_cleaned_neg.out  # composition\n",
        "!python iFeature/iFeature.py --file ./cleaned_neg.fasta --type CTDT --out ctdt_cleaned_neg.out  # transition\n",
        "!python iFeature/iFeature.py --file ./cleaned_neg.fasta --type CTDD --out ctdd_cleaned_neg.out  # distribution"
      ],
      "metadata": {
        "colab": {
          "base_uri": "https://localhost:8080/"
        },
        "id": "os-KrM89Cf6S",
        "outputId": "cab4acbf-3d1f-455b-b754-b3afbd08618f"
      },
      "execution_count": 36,
      "outputs": [
        {
          "output_type": "stream",
          "name": "stdout",
          "text": [
            "Descriptor type: AAC\n",
            "Descriptor type: DPC\n",
            "Descriptor type: CTDC\n",
            "Descriptor type: CTDT\n",
            "Descriptor type: CTDD\n",
            "Descriptor type: AAC\n",
            "Descriptor type: DPC\n",
            "Descriptor type: CTDC\n",
            "Descriptor type: CTDT\n",
            "Descriptor type: CTDD\n"
          ]
        }
      ]
    },
    {
      "cell_type": "code",
      "source": [
        "def from_files_to_vectors(fasta_path, positive=True):\n",
        "    if positive:\n",
        "        proteins = list(SeqIO.parse(fasta_path+'cleaned_pos.fasta', \"fasta\"))\n",
        "    else:\n",
        "        proteins = list(SeqIO.parse(fasta_path+'cleaned_neg.fasta', \"fasta\"))\n",
        "    extension = \".out\"\n",
        "    files = [\"aac\", \"dpc\", \"ctdc\", \"ctdt\", \"ctdd\"]\n",
        "    if positive:\n",
        "        names = \"_cleaned_pos\"\n",
        "    else:\n",
        "        names = \"_cleaned_neg\"\n",
        "    for i in range(len(files)):\n",
        "        files[i] += names\n",
        "    datasets = [[] for el in files]\n",
        "    for i in range(len(files)):\n",
        "        with open(fasta_path+files[i]+extension) as f:\n",
        "            lines = f.readlines()[1:]\n",
        "            check_prot = 0\n",
        "            for line in lines:\n",
        "                information = line.split('\\t')\n",
        "                if not information[0] == proteins[check_prot].id:\n",
        "                    print(\"Error in protein order! Return\")\n",
        "                    return datasets\n",
        "                datasets[i].append(numpy.array([float(el) for el in information[1:]]))\n",
        "                check_prot += 1\n",
        "        datasets[i] = numpy.array(datasets[i])\n",
        "    return datasets"
      ],
      "metadata": {
        "id": "IXLoKnrvsMK-"
      },
      "execution_count": 8,
      "outputs": []
    },
    {
      "cell_type": "code",
      "source": [
        "pos_datasets = from_files_to_vectors(\"./virulent_factor_classification/new_datasets_cleaned/positive/\", positive=True)\n",
        "neg_datasets = from_files_to_vectors(\"./virulent_factor_classification/new_datasets_cleaned/negative/\", positive=False)"
      ],
      "metadata": {
        "id": "qwYSUH_r2Pw6"
      },
      "execution_count": 9,
      "outputs": []
    },
    {
      "cell_type": "code",
      "source": [
        "y_pos = numpy.array([1. for _ in range(pos_datasets[0].shape[0])])\n",
        "y_neg = numpy.array([0. for _ in range(neg_datasets[0].shape[0])])"
      ],
      "metadata": {
        "id": "f4MVfbeB2du8"
      },
      "execution_count": 10,
      "outputs": []
    },
    {
      "cell_type": "code",
      "source": [
        "datasets = []\n",
        "for i in range(len(pos_datasets)):\n",
        "    datasets.append(\n",
        "        numpy.concatenate((pos_datasets[i], neg_datasets[i]), axis=0)\n",
        "    )\n",
        "y = numpy.concatenate((y_pos, y_neg), axis=0)"
      ],
      "metadata": {
        "id": "6zMXmQ1_6OmK"
      },
      "execution_count": 11,
      "outputs": []
    },
    {
      "cell_type": "code",
      "source": [
        "numpy.random.seed(42)\n",
        "c = numpy.random.permutation(numpy.arange(y.shape[0]))\n",
        "for i in range(len(pos_datasets)):\n",
        "    datasets[i] = datasets[i][c]\n",
        "y = y[c]"
      ],
      "metadata": {
        "id": "fXzNFJkE5syG"
      },
      "execution_count": 12,
      "outputs": []
    },
    {
      "cell_type": "code",
      "source": [
        "train_len = int(.5*y.shape[0])\n",
        "val_len = int(.25*y.shape[0])\n",
        "print(train_len, val_len)"
      ],
      "metadata": {
        "colab": {
          "base_uri": "https://localhost:8080/"
        },
        "id": "uR2KVNVD7wSf",
        "outputId": "ff07c69c-816d-46a1-ab0f-a4820819234d"
      },
      "execution_count": 15,
      "outputs": [
        {
          "output_type": "stream",
          "name": "stdout",
          "text": [
            "3107 1553\n"
          ]
        }
      ]
    },
    {
      "cell_type": "code",
      "source": [
        "datasets_train = [el[:train_len] for el in datasets]\n",
        "y_train = y[:train_len] # shape = (3107,)\n",
        "\n",
        "datasets_val = [el[train_len:train_len+val_len] for el in datasets]\n",
        "y_val = y[train_len:train_len+val_len] # shape = (1553,)\n",
        "\n",
        "datasets_test = [el[train_len+val_len:] for el in datasets]\n",
        "y_test = y[train_len+val_len:] # shape = (1554,)"
      ],
      "metadata": {
        "id": "Cz2ZF3CL6J3b"
      },
      "execution_count": 21,
      "outputs": []
    },
    {
      "cell_type": "code",
      "source": [
        "class neural_network:\n",
        "    def __init__(self):\n",
        "        input_aac = tensorflow.keras.Input(shape=(20,))\n",
        "        input_dpc = tensorflow.keras.Input(shape=(400,))\n",
        "        input_ctdc = tensorflow.keras.Input(shape=(39,))\n",
        "        input_ctdt = tensorflow.keras.Input(shape=(39,))\n",
        "        input_ctdd = tensorflow.keras.Input(shape=(195,))\n",
        "        \n",
        "        aac_dense = tensorflow.keras.layers.Dense(20, activation='sigmoid')(input_aac)\n",
        "        dpc_dense = tensorflow.keras.layers.Dense(400, activation='sigmoid')(input_dpc)\n",
        "        ctdc_dense = tensorflow.keras.layers.Dense(39, activation='sigmoid')(input_ctdc)\n",
        "        ctdt_dense = tensorflow.keras.layers.Dense(39, activation='sigmoid')(input_ctdt)\n",
        "        ctdd_dense = tensorflow.keras.layers.Dense(195, activation='sigmoid')(input_ctdd)\n",
        "\n",
        "        concat = tensorflow.keras.layers.Concatenate()([aac_dense, dpc_dense, ctdc_dense, ctdt_dense, ctdd_dense])\n",
        "        output = tensorflow.keras.layers.Dense(1, activation='sigmoid')(concat)\n",
        "        model = tensorflow.keras.models.Model(inputs=[input_aac, input_dpc, input_ctdc, input_ctdt, input_ctdd], outputs=output)\n",
        "        model.compile(optimizer=tensorflow.keras.optimizers.Adam(learning_rate=0.001), loss='binary_crossentropy', metrics='accuracy')\n",
        "        self.model = model"
      ],
      "metadata": {
        "id": "iFTw-ztU4eVN"
      },
      "execution_count": 22,
      "outputs": []
    },
    {
      "cell_type": "code",
      "source": [
        "nn = neural_network()"
      ],
      "metadata": {
        "id": "D9fue6LXDdMv"
      },
      "execution_count": 23,
      "outputs": []
    },
    {
      "cell_type": "code",
      "source": [
        "history = nn.model.fit(\n",
        "    x=datasets_train, \n",
        "    y=y_train,\n",
        "    batch_size=32,\n",
        "    epochs=100,\n",
        "    verbose=2,\n",
        "    validation_data=(datasets_val, y_val),\n",
        "    shuffle=True\n",
        ")"
      ],
      "metadata": {
        "id": "Umtj8rG_DqFQ",
        "colab": {
          "base_uri": "https://localhost:8080/"
        },
        "outputId": "04fbf3e0-cffc-4d7a-8147-3af06132ec24"
      },
      "execution_count": 24,
      "outputs": [
        {
          "output_type": "stream",
          "name": "stdout",
          "text": [
            "Epoch 1/100\n",
            "98/98 - 2s - loss: 0.6934 - accuracy: 0.5237 - val_loss: 0.7039 - val_accuracy: 0.4971 - 2s/epoch - 16ms/step\n",
            "Epoch 2/100\n",
            "98/98 - 1s - loss: 0.6866 - accuracy: 0.5333 - val_loss: 0.6753 - val_accuracy: 0.5325 - 501ms/epoch - 5ms/step\n",
            "Epoch 3/100\n",
            "98/98 - 0s - loss: 0.6722 - accuracy: 0.5713 - val_loss: 0.6719 - val_accuracy: 0.5441 - 440ms/epoch - 4ms/step\n",
            "Epoch 4/100\n",
            "98/98 - 0s - loss: 0.6619 - accuracy: 0.6015 - val_loss: 0.6546 - val_accuracy: 0.7296 - 448ms/epoch - 5ms/step\n",
            "Epoch 5/100\n",
            "98/98 - 0s - loss: 0.6522 - accuracy: 0.6382 - val_loss: 0.6557 - val_accuracy: 0.5325 - 488ms/epoch - 5ms/step\n",
            "Epoch 6/100\n",
            "98/98 - 0s - loss: 0.6451 - accuracy: 0.6376 - val_loss: 0.6359 - val_accuracy: 0.7257 - 498ms/epoch - 5ms/step\n",
            "Epoch 7/100\n",
            "98/98 - 0s - loss: 0.6259 - accuracy: 0.7068 - val_loss: 0.6279 - val_accuracy: 0.6194 - 448ms/epoch - 5ms/step\n",
            "Epoch 8/100\n",
            "98/98 - 0s - loss: 0.6122 - accuracy: 0.7222 - val_loss: 0.6114 - val_accuracy: 0.7302 - 483ms/epoch - 5ms/step\n",
            "Epoch 9/100\n",
            "98/98 - 0s - loss: 0.6009 - accuracy: 0.7152 - val_loss: 0.6169 - val_accuracy: 0.5976 - 436ms/epoch - 4ms/step\n",
            "Epoch 10/100\n",
            "98/98 - 0s - loss: 0.5899 - accuracy: 0.7242 - val_loss: 0.5905 - val_accuracy: 0.7386 - 435ms/epoch - 4ms/step\n",
            "Epoch 11/100\n",
            "98/98 - 0s - loss: 0.5750 - accuracy: 0.7341 - val_loss: 0.5933 - val_accuracy: 0.7238 - 494ms/epoch - 5ms/step\n",
            "Epoch 12/100\n",
            "98/98 - 0s - loss: 0.5716 - accuracy: 0.7284 - val_loss: 0.5757 - val_accuracy: 0.7077 - 484ms/epoch - 5ms/step\n",
            "Epoch 13/100\n",
            "98/98 - 1s - loss: 0.5563 - accuracy: 0.7403 - val_loss: 0.5789 - val_accuracy: 0.6600 - 531ms/epoch - 5ms/step\n",
            "Epoch 14/100\n",
            "98/98 - 0s - loss: 0.5501 - accuracy: 0.7370 - val_loss: 0.5569 - val_accuracy: 0.7424 - 456ms/epoch - 5ms/step\n",
            "Epoch 15/100\n",
            "98/98 - 0s - loss: 0.5400 - accuracy: 0.7432 - val_loss: 0.5485 - val_accuracy: 0.7476 - 499ms/epoch - 5ms/step\n",
            "Epoch 16/100\n",
            "98/98 - 0s - loss: 0.5299 - accuracy: 0.7457 - val_loss: 0.5429 - val_accuracy: 0.7463 - 449ms/epoch - 5ms/step\n",
            "Epoch 17/100\n",
            "98/98 - 0s - loss: 0.5201 - accuracy: 0.7625 - val_loss: 0.5423 - val_accuracy: 0.7302 - 417ms/epoch - 4ms/step\n",
            "Epoch 18/100\n",
            "98/98 - 0s - loss: 0.5158 - accuracy: 0.7531 - val_loss: 0.5310 - val_accuracy: 0.7502 - 486ms/epoch - 5ms/step\n",
            "Epoch 19/100\n",
            "98/98 - 0s - loss: 0.5072 - accuracy: 0.7586 - val_loss: 0.5276 - val_accuracy: 0.7508 - 425ms/epoch - 4ms/step\n",
            "Epoch 20/100\n",
            "98/98 - 0s - loss: 0.5071 - accuracy: 0.7564 - val_loss: 0.5260 - val_accuracy: 0.7572 - 484ms/epoch - 5ms/step\n",
            "Epoch 21/100\n",
            "98/98 - 0s - loss: 0.4997 - accuracy: 0.7644 - val_loss: 0.5338 - val_accuracy: 0.7514 - 484ms/epoch - 5ms/step\n",
            "Epoch 22/100\n",
            "98/98 - 0s - loss: 0.4941 - accuracy: 0.7647 - val_loss: 0.5150 - val_accuracy: 0.7514 - 458ms/epoch - 5ms/step\n",
            "Epoch 23/100\n",
            "98/98 - 0s - loss: 0.4886 - accuracy: 0.7683 - val_loss: 0.5132 - val_accuracy: 0.7566 - 475ms/epoch - 5ms/step\n",
            "Epoch 24/100\n",
            "98/98 - 0s - loss: 0.4903 - accuracy: 0.7712 - val_loss: 0.5106 - val_accuracy: 0.7598 - 498ms/epoch - 5ms/step\n",
            "Epoch 25/100\n",
            "98/98 - 1s - loss: 0.4810 - accuracy: 0.7834 - val_loss: 0.5088 - val_accuracy: 0.7521 - 540ms/epoch - 6ms/step\n",
            "Epoch 26/100\n",
            "98/98 - 1s - loss: 0.4821 - accuracy: 0.7692 - val_loss: 0.5263 - val_accuracy: 0.7225 - 633ms/epoch - 6ms/step\n",
            "Epoch 27/100\n",
            "98/98 - 1s - loss: 0.4761 - accuracy: 0.7744 - val_loss: 0.5027 - val_accuracy: 0.7630 - 1s/epoch - 11ms/step\n",
            "Epoch 28/100\n",
            "98/98 - 1s - loss: 0.4736 - accuracy: 0.7805 - val_loss: 0.5170 - val_accuracy: 0.7321 - 842ms/epoch - 9ms/step\n",
            "Epoch 29/100\n",
            "98/98 - 1s - loss: 0.4713 - accuracy: 0.7724 - val_loss: 0.4995 - val_accuracy: 0.7572 - 793ms/epoch - 8ms/step\n",
            "Epoch 30/100\n",
            "98/98 - 1s - loss: 0.4681 - accuracy: 0.7821 - val_loss: 0.5186 - val_accuracy: 0.7296 - 975ms/epoch - 10ms/step\n",
            "Epoch 31/100\n",
            "98/98 - 1s - loss: 0.4646 - accuracy: 0.7837 - val_loss: 0.4971 - val_accuracy: 0.7663 - 909ms/epoch - 9ms/step\n",
            "Epoch 32/100\n",
            "98/98 - 1s - loss: 0.4637 - accuracy: 0.7837 - val_loss: 0.4948 - val_accuracy: 0.7675 - 859ms/epoch - 9ms/step\n",
            "Epoch 33/100\n",
            "98/98 - 1s - loss: 0.4596 - accuracy: 0.7847 - val_loss: 0.4985 - val_accuracy: 0.7482 - 952ms/epoch - 10ms/step\n",
            "Epoch 34/100\n",
            "98/98 - 1s - loss: 0.4589 - accuracy: 0.7792 - val_loss: 0.4957 - val_accuracy: 0.7701 - 1s/epoch - 10ms/step\n",
            "Epoch 35/100\n",
            "98/98 - 1s - loss: 0.4548 - accuracy: 0.7921 - val_loss: 0.4914 - val_accuracy: 0.7650 - 654ms/epoch - 7ms/step\n",
            "Epoch 36/100\n",
            "98/98 - 0s - loss: 0.4536 - accuracy: 0.7911 - val_loss: 0.4918 - val_accuracy: 0.7598 - 472ms/epoch - 5ms/step\n",
            "Epoch 37/100\n",
            "98/98 - 0s - loss: 0.4560 - accuracy: 0.7847 - val_loss: 0.4955 - val_accuracy: 0.7489 - 484ms/epoch - 5ms/step\n",
            "Epoch 38/100\n",
            "98/98 - 0s - loss: 0.4534 - accuracy: 0.7924 - val_loss: 0.5003 - val_accuracy: 0.7405 - 435ms/epoch - 4ms/step\n",
            "Epoch 39/100\n",
            "98/98 - 0s - loss: 0.4525 - accuracy: 0.7847 - val_loss: 0.5066 - val_accuracy: 0.7618 - 464ms/epoch - 5ms/step\n",
            "Epoch 40/100\n",
            "98/98 - 0s - loss: 0.4473 - accuracy: 0.7988 - val_loss: 0.4894 - val_accuracy: 0.7708 - 418ms/epoch - 4ms/step\n",
            "Epoch 41/100\n",
            "98/98 - 0s - loss: 0.4456 - accuracy: 0.7972 - val_loss: 0.4917 - val_accuracy: 0.7534 - 419ms/epoch - 4ms/step\n",
            "Epoch 42/100\n",
            "98/98 - 0s - loss: 0.4468 - accuracy: 0.7940 - val_loss: 0.4904 - val_accuracy: 0.7572 - 472ms/epoch - 5ms/step\n",
            "Epoch 43/100\n",
            "98/98 - 0s - loss: 0.4476 - accuracy: 0.7969 - val_loss: 0.4870 - val_accuracy: 0.7721 - 474ms/epoch - 5ms/step\n",
            "Epoch 44/100\n",
            "98/98 - 0s - loss: 0.4452 - accuracy: 0.7937 - val_loss: 0.4874 - val_accuracy: 0.7643 - 421ms/epoch - 4ms/step\n",
            "Epoch 45/100\n",
            "98/98 - 0s - loss: 0.4419 - accuracy: 0.7953 - val_loss: 0.4861 - val_accuracy: 0.7746 - 468ms/epoch - 5ms/step\n",
            "Epoch 46/100\n",
            "98/98 - 0s - loss: 0.4433 - accuracy: 0.7959 - val_loss: 0.4932 - val_accuracy: 0.7688 - 411ms/epoch - 4ms/step\n",
            "Epoch 47/100\n",
            "98/98 - 0s - loss: 0.4387 - accuracy: 0.8037 - val_loss: 0.4859 - val_accuracy: 0.7727 - 468ms/epoch - 5ms/step\n",
            "Epoch 48/100\n",
            "98/98 - 0s - loss: 0.4381 - accuracy: 0.7992 - val_loss: 0.4883 - val_accuracy: 0.7740 - 418ms/epoch - 4ms/step\n",
            "Epoch 49/100\n",
            "98/98 - 0s - loss: 0.4379 - accuracy: 0.7992 - val_loss: 0.4859 - val_accuracy: 0.7714 - 466ms/epoch - 5ms/step\n",
            "Epoch 50/100\n",
            "98/98 - 0s - loss: 0.4364 - accuracy: 0.8017 - val_loss: 0.4853 - val_accuracy: 0.7733 - 422ms/epoch - 4ms/step\n",
            "Epoch 51/100\n",
            "98/98 - 0s - loss: 0.4347 - accuracy: 0.8030 - val_loss: 0.4852 - val_accuracy: 0.7721 - 410ms/epoch - 4ms/step\n",
            "Epoch 52/100\n",
            "98/98 - 0s - loss: 0.4359 - accuracy: 0.8024 - val_loss: 0.4854 - val_accuracy: 0.7740 - 473ms/epoch - 5ms/step\n",
            "Epoch 53/100\n",
            "98/98 - 0s - loss: 0.4322 - accuracy: 0.8053 - val_loss: 0.4888 - val_accuracy: 0.7560 - 420ms/epoch - 4ms/step\n",
            "Epoch 54/100\n",
            "98/98 - 0s - loss: 0.4311 - accuracy: 0.8062 - val_loss: 0.4917 - val_accuracy: 0.7566 - 408ms/epoch - 4ms/step\n",
            "Epoch 55/100\n",
            "98/98 - 0s - loss: 0.4314 - accuracy: 0.8050 - val_loss: 0.4893 - val_accuracy: 0.7740 - 413ms/epoch - 4ms/step\n",
            "Epoch 56/100\n",
            "98/98 - 0s - loss: 0.4314 - accuracy: 0.8062 - val_loss: 0.4879 - val_accuracy: 0.7740 - 462ms/epoch - 5ms/step\n",
            "Epoch 57/100\n",
            "98/98 - 0s - loss: 0.4285 - accuracy: 0.8050 - val_loss: 0.4984 - val_accuracy: 0.7482 - 420ms/epoch - 4ms/step\n",
            "Epoch 58/100\n",
            "98/98 - 0s - loss: 0.4274 - accuracy: 0.8050 - val_loss: 0.4852 - val_accuracy: 0.7721 - 443ms/epoch - 5ms/step\n",
            "Epoch 59/100\n",
            "98/98 - 0s - loss: 0.4272 - accuracy: 0.8043 - val_loss: 0.4853 - val_accuracy: 0.7740 - 407ms/epoch - 4ms/step\n",
            "Epoch 60/100\n",
            "98/98 - 0s - loss: 0.4281 - accuracy: 0.8059 - val_loss: 0.4941 - val_accuracy: 0.7521 - 409ms/epoch - 4ms/step\n",
            "Epoch 61/100\n",
            "98/98 - 0s - loss: 0.4334 - accuracy: 0.7998 - val_loss: 0.5086 - val_accuracy: 0.7682 - 396ms/epoch - 4ms/step\n",
            "Epoch 62/100\n",
            "98/98 - 0s - loss: 0.4310 - accuracy: 0.7934 - val_loss: 0.4952 - val_accuracy: 0.7514 - 473ms/epoch - 5ms/step\n",
            "Epoch 63/100\n",
            "98/98 - 0s - loss: 0.4258 - accuracy: 0.8053 - val_loss: 0.4863 - val_accuracy: 0.7721 - 456ms/epoch - 5ms/step\n",
            "Epoch 64/100\n",
            "98/98 - 0s - loss: 0.4271 - accuracy: 0.8082 - val_loss: 0.4870 - val_accuracy: 0.7688 - 483ms/epoch - 5ms/step\n",
            "Epoch 65/100\n",
            "98/98 - 0s - loss: 0.4272 - accuracy: 0.8027 - val_loss: 0.5467 - val_accuracy: 0.7514 - 462ms/epoch - 5ms/step\n",
            "Epoch 66/100\n",
            "98/98 - 0s - loss: 0.4291 - accuracy: 0.8059 - val_loss: 0.4879 - val_accuracy: 0.7740 - 425ms/epoch - 4ms/step\n",
            "Epoch 67/100\n",
            "98/98 - 0s - loss: 0.4356 - accuracy: 0.8043 - val_loss: 0.4865 - val_accuracy: 0.7733 - 396ms/epoch - 4ms/step\n",
            "Epoch 68/100\n",
            "98/98 - 0s - loss: 0.4247 - accuracy: 0.8091 - val_loss: 0.4867 - val_accuracy: 0.7746 - 401ms/epoch - 4ms/step\n",
            "Epoch 69/100\n",
            "98/98 - 0s - loss: 0.4230 - accuracy: 0.8095 - val_loss: 0.4868 - val_accuracy: 0.7740 - 419ms/epoch - 4ms/step\n",
            "Epoch 70/100\n",
            "98/98 - 0s - loss: 0.4206 - accuracy: 0.8059 - val_loss: 0.4871 - val_accuracy: 0.7733 - 397ms/epoch - 4ms/step\n",
            "Epoch 71/100\n",
            "98/98 - 0s - loss: 0.4201 - accuracy: 0.8091 - val_loss: 0.4932 - val_accuracy: 0.7514 - 423ms/epoch - 4ms/step\n",
            "Epoch 72/100\n",
            "98/98 - 0s - loss: 0.4193 - accuracy: 0.8133 - val_loss: 0.4876 - val_accuracy: 0.7721 - 402ms/epoch - 4ms/step\n",
            "Epoch 73/100\n",
            "98/98 - 0s - loss: 0.4213 - accuracy: 0.8082 - val_loss: 0.4946 - val_accuracy: 0.7746 - 404ms/epoch - 4ms/step\n",
            "Epoch 74/100\n",
            "98/98 - 0s - loss: 0.4198 - accuracy: 0.8069 - val_loss: 0.4879 - val_accuracy: 0.7733 - 419ms/epoch - 4ms/step\n",
            "Epoch 75/100\n",
            "98/98 - 0s - loss: 0.4266 - accuracy: 0.8069 - val_loss: 0.4885 - val_accuracy: 0.7721 - 410ms/epoch - 4ms/step\n",
            "Epoch 76/100\n",
            "98/98 - 0s - loss: 0.4191 - accuracy: 0.8117 - val_loss: 0.4902 - val_accuracy: 0.7630 - 434ms/epoch - 4ms/step\n",
            "Epoch 77/100\n",
            "98/98 - 0s - loss: 0.4179 - accuracy: 0.8156 - val_loss: 0.4887 - val_accuracy: 0.7721 - 461ms/epoch - 5ms/step\n",
            "Epoch 78/100\n",
            "98/98 - 0s - loss: 0.4157 - accuracy: 0.8146 - val_loss: 0.4887 - val_accuracy: 0.7714 - 426ms/epoch - 4ms/step\n",
            "Epoch 79/100\n",
            "98/98 - 0s - loss: 0.4149 - accuracy: 0.8162 - val_loss: 0.4891 - val_accuracy: 0.7714 - 405ms/epoch - 4ms/step\n",
            "Epoch 80/100\n",
            "98/98 - 0s - loss: 0.4150 - accuracy: 0.8120 - val_loss: 0.4928 - val_accuracy: 0.7547 - 455ms/epoch - 5ms/step\n",
            "Epoch 81/100\n",
            "98/98 - 0s - loss: 0.4206 - accuracy: 0.8082 - val_loss: 0.4903 - val_accuracy: 0.7682 - 478ms/epoch - 5ms/step\n",
            "Epoch 82/100\n",
            "98/98 - 0s - loss: 0.4125 - accuracy: 0.8127 - val_loss: 0.4919 - val_accuracy: 0.7721 - 458ms/epoch - 5ms/step\n",
            "Epoch 83/100\n",
            "98/98 - 0s - loss: 0.4152 - accuracy: 0.8143 - val_loss: 0.4899 - val_accuracy: 0.7695 - 496ms/epoch - 5ms/step\n",
            "Epoch 84/100\n",
            "98/98 - 0s - loss: 0.4176 - accuracy: 0.8114 - val_loss: 0.4901 - val_accuracy: 0.7695 - 408ms/epoch - 4ms/step\n",
            "Epoch 85/100\n",
            "98/98 - 0s - loss: 0.4157 - accuracy: 0.8156 - val_loss: 0.4949 - val_accuracy: 0.7553 - 480ms/epoch - 5ms/step\n",
            "Epoch 86/100\n",
            "98/98 - 0s - loss: 0.4162 - accuracy: 0.8143 - val_loss: 0.4925 - val_accuracy: 0.7650 - 409ms/epoch - 4ms/step\n",
            "Epoch 87/100\n",
            "98/98 - 0s - loss: 0.4106 - accuracy: 0.8191 - val_loss: 0.4910 - val_accuracy: 0.7714 - 430ms/epoch - 4ms/step\n",
            "Epoch 88/100\n",
            "98/98 - 0s - loss: 0.4143 - accuracy: 0.8153 - val_loss: 0.4910 - val_accuracy: 0.7695 - 421ms/epoch - 4ms/step\n",
            "Epoch 89/100\n",
            "98/98 - 0s - loss: 0.4098 - accuracy: 0.8178 - val_loss: 0.4975 - val_accuracy: 0.7540 - 413ms/epoch - 4ms/step\n",
            "Epoch 90/100\n",
            "98/98 - 0s - loss: 0.4082 - accuracy: 0.8201 - val_loss: 0.4925 - val_accuracy: 0.7656 - 479ms/epoch - 5ms/step\n",
            "Epoch 91/100\n",
            "98/98 - 0s - loss: 0.4113 - accuracy: 0.8159 - val_loss: 0.4941 - val_accuracy: 0.7611 - 463ms/epoch - 5ms/step\n",
            "Epoch 92/100\n",
            "98/98 - 0s - loss: 0.4115 - accuracy: 0.8159 - val_loss: 0.4938 - val_accuracy: 0.7643 - 479ms/epoch - 5ms/step\n",
            "Epoch 93/100\n",
            "98/98 - 0s - loss: 0.4100 - accuracy: 0.8188 - val_loss: 0.5033 - val_accuracy: 0.7527 - 396ms/epoch - 4ms/step\n",
            "Epoch 94/100\n",
            "98/98 - 0s - loss: 0.4124 - accuracy: 0.8169 - val_loss: 0.4941 - val_accuracy: 0.7643 - 473ms/epoch - 5ms/step\n",
            "Epoch 95/100\n",
            "98/98 - 0s - loss: 0.4124 - accuracy: 0.8117 - val_loss: 0.5004 - val_accuracy: 0.7534 - 404ms/epoch - 4ms/step\n",
            "Epoch 96/100\n",
            "98/98 - 0s - loss: 0.4080 - accuracy: 0.8204 - val_loss: 0.5323 - val_accuracy: 0.7276 - 408ms/epoch - 4ms/step\n",
            "Epoch 97/100\n",
            "98/98 - 0s - loss: 0.4157 - accuracy: 0.8124 - val_loss: 0.5001 - val_accuracy: 0.7540 - 415ms/epoch - 4ms/step\n",
            "Epoch 98/100\n",
            "98/98 - 0s - loss: 0.4066 - accuracy: 0.8169 - val_loss: 0.5080 - val_accuracy: 0.7482 - 406ms/epoch - 4ms/step\n",
            "Epoch 99/100\n",
            "98/98 - 0s - loss: 0.4111 - accuracy: 0.8136 - val_loss: 0.5050 - val_accuracy: 0.7733 - 416ms/epoch - 4ms/step\n",
            "Epoch 100/100\n",
            "98/98 - 0s - loss: 0.4092 - accuracy: 0.8188 - val_loss: 0.5022 - val_accuracy: 0.7547 - 399ms/epoch - 4ms/step\n"
          ]
        }
      ]
    },
    {
      "cell_type": "code",
      "source": [
        "plt.title('Accuracy during training')\n",
        "plt.plot(range(len(history.history['loss'])), history.history['accuracy'], label='accuracy', color='green')\n",
        "plt.plot(range(len(history.history['loss'])), history.history['val_accuracy'], label='validation accuracy', color='red')\n",
        "plt.grid(color='gray', linewidth=.4)\n",
        "\n",
        "plt.legend(loc=\"lower left\")\n",
        "plt.xlabel(\"epochs\")\n",
        "plt.ylabel(\"accuracy\")\n",
        "plt.xlim(0, len(history.history['loss'])+1)\n",
        "plt.savefig('acc.png')"
      ],
      "metadata": {
        "colab": {
          "base_uri": "https://localhost:8080/",
          "height": 295
        },
        "id": "vAZZfqY-E5Th",
        "outputId": "045bdf80-bc58-492e-8f5f-e8831b20b193"
      },
      "execution_count": 25,
      "outputs": [
        {
          "output_type": "display_data",
          "data": {
            "text/plain": [
              "<Figure size 432x288 with 1 Axes>"
            ],
            "image/png": "[encoded data removed]"
          },
          "metadata": {
            "needs_background": "light"
          }
        }
      ]
    },
    {
      "cell_type": "code",
      "source": [
        "nn.model.evaluate(x=datasets_test, y=y_test)"
      ],
      "metadata": {
        "colab": {
          "base_uri": "https://localhost:8080/"
        },
        "id": "68-xjmOMFPQf",
        "outputId": "b042e06d-2287-4c57-ec5f-de1b4afc7cc1"
      },
      "execution_count": 26,
      "outputs": [
        {
          "output_type": "stream",
          "name": "stdout",
          "text": [
            "49/49 [==============================] - 0s 2ms/step - loss: 0.4933 - accuracy: 0.7741\n"
          ]
        },
        {
          "output_type": "execute_result",
          "data": {
            "text/plain": [
              "[0.4933275282382965, 0.7741312980651855]"
            ]
          },
          "metadata": {},
          "execution_count": 26
        }
      ]
    },
    {
      "cell_type": "code",
      "source": [
        "# To measure: precision e recall\n",
        "# usare le proteine positive e negative DEL SOLO TEST SET\n",
        "# noi abbiamo valutato sugli interi dataset, che includono anche proteine di training..."
      ],
      "metadata": {
        "id": "d-C_boO6SOYW"
      },
      "execution_count": null,
      "outputs": []
    },
    {
      "cell_type": "code",
      "source": [
        "nn.model.evaluate(x=pos_datasets, y=y_pos)"
      ],
      "metadata": {
        "colab": {
          "base_uri": "https://localhost:8080/"
        },
        "id": "H1Mnhm7cFkBs",
        "outputId": "f6f5fbfc-a517-420f-8459-ecfb494b0981"
      },
      "execution_count": null,
      "outputs": [
        {
          "output_type": "stream",
          "name": "stdout",
          "text": [
            "131/131 [==============================] - 0s 3ms/step - loss: 0.3343 - accuracy: 0.8523\n"
          ]
        },
        {
          "output_type": "execute_result",
          "data": {
            "text/plain": [
              "[0.3342683017253876, 0.8522944450378418]"
            ]
          },
          "metadata": {},
          "execution_count": 70
        }
      ]
    },
    {
      "cell_type": "code",
      "source": [
        "nn.model.evaluate(x=neg_datasets, y=y_neg)"
      ],
      "metadata": {
        "colab": {
          "base_uri": "https://localhost:8080/"
        },
        "id": "O06uNZV0F3mf",
        "outputId": "86ad5a10-35b7-4bc3-f36e-89a5acc0bc67"
      },
      "execution_count": null,
      "outputs": [
        {
          "output_type": "stream",
          "name": "stdout",
          "text": [
            "133/133 [==============================] - 0s 3ms/step - loss: 0.4925 - accuracy: 0.7774\n"
          ]
        },
        {
          "output_type": "execute_result",
          "data": {
            "text/plain": [
              "[0.49250829219818115, 0.7773835062980652]"
            ]
          },
          "metadata": {},
          "execution_count": 71
        }
      ]
    },
    {
      "cell_type": "code",
      "source": [
        "nn.model.save('trained_model.h5')"
      ],
      "metadata": {
        "id": "6_SvPGfiF57L"
      },
      "execution_count": null,
      "outputs": []
    }
  ]
}