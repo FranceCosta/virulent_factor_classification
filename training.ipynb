{
  "nbformat": 4,
  "nbformat_minor": 0,
  "metadata": {
    "colab": {
      "name": "virulent_prediction (Training).ipynb",
      "provenance": [],
      "collapsed_sections": []
    },
    "kernelspec": {
      "name": "python3",
      "display_name": "Python 3"
    },
    "language_info": {
      "name": "python"
    }
  },
  "cells": [
    {
      "cell_type": "markdown",
      "metadata": {
        "id": "DkxRT3si3tFm"
      },
      "source": [
        "# Virulent Prediction"
      ]
    },
    {
      "cell_type": "code",
      "metadata": {
        "colab": {
          "base_uri": "https://localhost:8080/",
          "height": 88
        },
        "id": "wvcO8NQIKKIB",
        "outputId": "76767c95-15af-41c4-f306-c9c799cb027a"
      },
      "source": [
        "'''\n",
        "!rm -r iFeature\n",
        "!git clone https://github.com/Superzchen/iFeature\n",
        "!python iFeature/iFeature.py --file ./input.fasta --type AAC --out aac.out # amino acids composition\n",
        "!python iFeature/iFeature.py --file ./input.fasta --type DPC --out dpc.out # dipeptide composition\n",
        "!python iFeature/iFeature.py --file ./input.fasta --type CTDC --out ctdc.out # composition\n",
        "!python iFeature/iFeature.py --file ./input.fasta --type CTDT --out ctdt.out # transition\n",
        "!python iFeature/iFeature.py --file ./input.fasta --type CTDD --out ctdd.out # distribution\n",
        "'''"
      ],
      "execution_count": 1,
      "outputs": [
        {
          "output_type": "execute_result",
          "data": {
            "application/vnd.google.colaboratory.intrinsic+json": {
              "type": "string"
            },
            "text/plain": [
              "'\\n!rm -r iFeature\\n!git clone https://github.com/Superzchen/iFeature\\n!python iFeature/iFeature.py --file ./input.fasta --type AAC --out aac.out # amino acids composition\\n!python iFeature/iFeature.py --file ./input.fasta --type DPC --out dpc.out # dipeptide composition\\n!python iFeature/iFeature.py --file ./input.fasta --type CTDC --out ctdc.out # composition\\n!python iFeature/iFeature.py --file ./input.fasta --type CTDT --out ctdt.out # transition\\n!python iFeature/iFeature.py --file ./input.fasta --type CTDD --out ctdd.out # distribution\\n'"
            ]
          },
          "metadata": {},
          "execution_count": 1
        }
      ]
    },
    {
      "cell_type": "code",
      "metadata": {
        "colab": {
          "base_uri": "https://localhost:8080/"
        },
        "id": "Rn8Id-UL3u7v",
        "outputId": "53defcf3-1ef3-452b-d54d-8094d0d92166"
      },
      "source": [
        "!rm -r virulent_factor_classification\n",
        "!git clone https://github.com/nicolagulmini/virulent_factor_classification\n",
        "from virulent_factor_classification.model import *"
      ],
      "execution_count": 2,
      "outputs": [
        {
          "output_type": "stream",
          "name": "stdout",
          "text": [
            "rm: cannot remove 'virulent_factor_classification': No such file or directory\n",
            "Cloning into 'virulent_factor_classification'...\n",
            "remote: Enumerating objects: 75, done.\u001b[K\n",
            "remote: Counting objects: 100% (75/75), done.\u001b[K\n",
            "remote: Compressing objects: 100% (64/64), done.\u001b[K\n",
            "remote: Total 75 (delta 23), reused 32 (delta 10), pack-reused 0\u001b[K\n",
            "Unpacking objects: 100% (75/75), done.\n",
            "Checking out files: 100% (17/17), done.\n"
          ]
        }
      ]
    },
    {
      "cell_type": "code",
      "metadata": {
        "colab": {
          "base_uri": "https://localhost:8080/"
        },
        "id": "V7B34oSI3qpz",
        "outputId": "105ca78a-0545-40bb-d2cb-632f17ad7403"
      },
      "source": [
        "!pip install Bio\n",
        "from Bio import SeqIO\n",
        "import numpy as np\n",
        "import random\n",
        "import matplotlib.pyplot as plt"
      ],
      "execution_count": 3,
      "outputs": [
        {
          "output_type": "stream",
          "name": "stdout",
          "text": [
            "Collecting Bio\n",
            "  Downloading bio-1.2.6-py3-none-any.whl (268 kB)\n",
            "\u001b[K     |████████████████████████████████| 268 kB 8.1 MB/s \n",
            "\u001b[?25hCollecting biopython>=1.79\n",
            "  Downloading biopython-1.79-cp37-cp37m-manylinux_2_5_x86_64.manylinux1_x86_64.whl (2.3 MB)\n",
            "\u001b[K     |████████████████████████████████| 2.3 MB 40.7 MB/s \n",
            "\u001b[?25hRequirement already satisfied: tqdm in /usr/local/lib/python3.7/dist-packages (from Bio) (4.62.3)\n",
            "Collecting mygene\n",
            "  Downloading mygene-3.2.2-py2.py3-none-any.whl (5.4 kB)\n",
            "Requirement already satisfied: requests in /usr/local/lib/python3.7/dist-packages (from Bio) (2.23.0)\n",
            "Requirement already satisfied: numpy in /usr/local/lib/python3.7/dist-packages (from biopython>=1.79->Bio) (1.19.5)\n",
            "Collecting biothings-client>=0.2.6\n",
            "  Downloading biothings_client-0.2.6-py2.py3-none-any.whl (37 kB)\n",
            "Requirement already satisfied: urllib3!=1.25.0,!=1.25.1,<1.26,>=1.21.1 in /usr/local/lib/python3.7/dist-packages (from requests->Bio) (1.24.3)\n",
            "Requirement already satisfied: idna<3,>=2.5 in /usr/local/lib/python3.7/dist-packages (from requests->Bio) (2.10)\n",
            "Requirement already satisfied: certifi>=2017.4.17 in /usr/local/lib/python3.7/dist-packages (from requests->Bio) (2021.5.30)\n",
            "Requirement already satisfied: chardet<4,>=3.0.2 in /usr/local/lib/python3.7/dist-packages (from requests->Bio) (3.0.4)\n",
            "Installing collected packages: biothings-client, mygene, biopython, Bio\n",
            "Successfully installed Bio-1.2.6 biopython-1.79 biothings-client-0.2.6 mygene-3.2.2\n"
          ]
        }
      ]
    },
    {
      "cell_type": "code",
      "metadata": {
        "id": "Fr7Say_4LAvG"
      },
      "source": [
        "def from_files_to_vectors(fasta_path, positive=True):\n",
        "    if positive:\n",
        "        proteins = list(SeqIO.parse(fasta_path+'positive_virulent.fasta', \"fasta\"))\n",
        "    else:\n",
        "        proteins = list(SeqIO.parse(fasta_path+'negative_virulent.fasta', \"fasta\"))\n",
        "    extension = \".out\"\n",
        "    files = [\"aac\", \"dpc\", \"ctdc\", \"ctdt\", \"ctdd\"]\n",
        "    datasets = [[] for el in files]\n",
        "    for i in range(len(files)):\n",
        "        with open(fasta_path+files[i]+extension) as f:\n",
        "            lines = f.readlines()[1:]\n",
        "            check_prot = 0\n",
        "            for line in lines:\n",
        "                information = line.split('\\t')\n",
        "                if not information[0] == proteins[check_prot].id:\n",
        "                    print(\"Error in protein order! Return\")\n",
        "                    return datasets\n",
        "                datasets[i].append(np.array([float(el) for el in information[1:]]))\n",
        "                check_prot += 1\n",
        "        datasets[i] = np.array(datasets[i])\n",
        "    return datasets"
      ],
      "execution_count": 4,
      "outputs": []
    },
    {
      "cell_type": "code",
      "metadata": {
        "id": "n43FoHsb4Asw"
      },
      "source": [
        "positive_datasets = from_files_to_vectors('./virulent_factor_classification/training/positive/')\n",
        "negative_datasets = from_files_to_vectors('./virulent_factor_classification/training/negative/', positive=False)"
      ],
      "execution_count": 5,
      "outputs": []
    },
    {
      "cell_type": "code",
      "metadata": {
        "id": "l323qn-r3-ol"
      },
      "source": [
        "def from_vectors_to_train_and_test_with_labels(positive_datasets, negative_datasets):\n",
        "    if not (len(positive_datasets) == 5 and len(negative_datasets) == 5):\n",
        "        print(\"Error in datasets!\")\n",
        "        return\n",
        "\n",
        "    x_train_pos_len = int(len(positive_datasets[0])/2)\n",
        "    x_train_neg_len = int(len(negative_datasets[0])/2)\n",
        "    x_train_len = x_train_pos_len + x_train_neg_len\n",
        "\n",
        "    x_val_pos_len = int(len(positive_datasets[0])/4)\n",
        "    x_val_neg_len = int(len(negative_datasets[0])/4)\n",
        "    x_val_len = x_val_pos_len + x_val_neg_len\n",
        "\n",
        "    x_test_pos_len = len(positive_datasets[0])-x_train_pos_len-x_val_pos_len\n",
        "    x_test_neg_len = len(negative_datasets[0])-x_train_neg_len-x_val_neg_len\n",
        "    x_test_len = x_test_pos_len + x_test_neg_len\n",
        "    \n",
        "    positive_labels = [1. for _ in range(len(positive_datasets[0]))]\n",
        "    negative_labels = [0. for _ in range(len(negative_datasets[0]))]\n",
        "\n",
        "    x_train, y_train, x_val, y_val, x_test, y_test = [[] for _ in range(6)]\n",
        "    x_train = [positive_datasets[i][:x_train_pos_len].tolist()+negative_datasets[i][:x_train_neg_len].tolist() for i in range(5)]\n",
        "    y_train = [1. for _ in range(x_train_pos_len)]+[0. for _ in range(x_train_neg_len)]\n",
        "\n",
        "    x_val = [positive_datasets[i][x_train_pos_len:x_train_pos_len+x_val_pos_len].tolist()+negative_datasets[i][x_train_neg_len:x_train_neg_len+x_val_neg_len].tolist() for i in range(5)]\n",
        "    y_val = [1. for _ in range(x_val_pos_len)]+[0. for _ in range(x_val_neg_len)]\n",
        "\n",
        "    x_test = [positive_datasets[i][x_train_pos_len+x_val_pos_len:x_train_pos_len+x_val_pos_len+x_test_pos_len].tolist()+negative_datasets[i][x_train_neg_len+x_val_neg_len:x_train_neg_len+x_val_neg_len+x_test_neg_len].tolist() for i in range(5)]\n",
        "    y_test = [1. for _ in range(x_test_pos_len)]+[0. for _ in range(x_test_neg_len)]\n",
        "\n",
        "    for i in range(5):\n",
        "        for el in x_train[i]:\n",
        "            el = np.array(el)\n",
        "        x_train[i] = np.array(x_train[i])\n",
        "\n",
        "    for i in range(5):\n",
        "        for el in x_val[i]:\n",
        "            el = np.array(el)\n",
        "        x_val[i] = np.array(x_val[i])\n",
        "\n",
        "    for i in range(5):\n",
        "        for el in x_test[i]:\n",
        "            el = np.array(el)\n",
        "        x_test[i] = np.array(x_test[i])\n",
        "\n",
        "    return x_train, np.array(y_train), x_val, np.array(y_val), x_test, np.array(y_test)"
      ],
      "execution_count": 14,
      "outputs": []
    },
    {
      "cell_type": "code",
      "metadata": {
        "id": "wMeRSYud4T3J"
      },
      "source": [
        "x_train, y_train, x_val, y_val, x_test, y_test = from_vectors_to_train_and_test_with_labels(positive_datasets, negative_datasets)"
      ],
      "execution_count": 15,
      "outputs": []
    },
    {
      "cell_type": "markdown",
      "metadata": {
        "id": "1O9nFxFt9mjN"
      },
      "source": [
        "## Training"
      ]
    },
    {
      "cell_type": "code",
      "metadata": {
        "id": "oeQprOHvT3k6"
      },
      "source": [
        "model = virulent_factor_classification_model()\n",
        "epochs = 15"
      ],
      "execution_count": 16,
      "outputs": []
    },
    {
      "cell_type": "code",
      "metadata": {
        "id": "zM1TugQHUG0f"
      },
      "source": [
        "history = model.get_model().fit(\n",
        "    x=x_train,\n",
        "    y=y_train,\n",
        "    epochs=epochs, \n",
        "    verbose=0, \n",
        "    validation_data=(x_val, y_val),\n",
        "    shuffle=True    \n",
        "    )"
      ],
      "execution_count": 17,
      "outputs": []
    },
    {
      "cell_type": "code",
      "metadata": {
        "colab": {
          "base_uri": "https://localhost:8080/",
          "height": 280
        },
        "id": "thwVVfEXVABb",
        "outputId": "6cd1c1cb-38bf-4074-9910-162a3c700f72"
      },
      "source": [
        "plt.plot(range(epochs), history.history['loss'], label='loss')\n",
        "plt.plot(range(epochs), history.history['val_loss'], label='validation loss')\n",
        "\n",
        "plt.legend(loc=\"lower left\")\n",
        "plt.xlabel(\"epochs\")\n",
        "plt.ylabel(\"loss\")\n",
        "plt.xlim(0, epochs+1)\n",
        "plt.show()"
      ],
      "execution_count": 18,
      "outputs": [
        {
          "output_type": "display_data",
          "data": {
            "image/png": "[encoded data removed]",
            "text/plain": [
              "<Figure size 432x288 with 1 Axes>"
            ]
          },
          "metadata": {
            "needs_background": "light"
          }
        }
      ]
    },
    {
      "cell_type": "code",
      "metadata": {
        "colab": {
          "base_uri": "https://localhost:8080/"
        },
        "id": "HRHL9tB7VDib",
        "outputId": "037e0446-03a9-409c-ecce-9aaf2ab1cb59"
      },
      "source": [
        "print(\"Test accuracy: \" + str(model.get_model().evaluate(\n",
        "    x=x_test,\n",
        "    y=y_test   \n",
        "    )[1]))"
      ],
      "execution_count": 19,
      "outputs": [
        {
          "output_type": "stream",
          "name": "stdout",
          "text": [
            "174/174 [==============================] - 0s 2ms/step - loss: 0.5094 - accuracy: 0.7549\n",
            "Test accuracy: 0.7549072504043579\n"
          ]
        }
      ]
    },
    {
      "cell_type": "code",
      "metadata": {
        "id": "1XEjvfBWZ0sJ"
      },
      "source": [
        "model.get_model().save('trained_model.h5')"
      ],
      "execution_count": 22,
      "outputs": []
    }
  ]
}